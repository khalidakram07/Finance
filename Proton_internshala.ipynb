{
  "nbformat": 4,
  "nbformat_minor": 0,
  "metadata": {
    "colab": {
      "name": "Proton_internshala.ipynb",
      "provenance": [],
      "collapsed_sections": [],
      "authorship_tag": "ABX9TyNPjZOb/xuTitHn8lvVYBeJ",
      "include_colab_link": true
    },
    "kernelspec": {
      "name": "python3",
      "display_name": "Python 3"
    },
    "language_info": {
      "name": "python"
    },
    "accelerator": "GPU"
  },
  "cells": [
    {
      "cell_type": "markdown",
      "metadata": {
        "id": "view-in-github",
        "colab_type": "text"
      },
      "source": [
        "<a href=\"https://colab.research.google.com/github/khalidakram07/Finance/blob/main/Proton_internshala.ipynb\" target=\"_parent\"><img src=\"https://colab.research.google.com/assets/colab-badge.svg\" alt=\"Open In Colab\"/></a>"
      ]
    },
    {
      "cell_type": "code",
      "metadata": {
        "id": "Kqdud-Bvtl_0"
      },
      "source": [
        "#1\n",
        "import numpy as np\n",
        "from sklearn.model_selection import train_test_split\n",
        "from pandas import read_csv\n",
        "from matplotlib import pyplot\n",
        "\n",
        "import warnings\n",
        "warnings.filterwarnings(\"ignore\")"
      ],
      "execution_count": 134,
      "outputs": []
    },
    {
      "cell_type": "code",
      "metadata": {
        "id": "Rb4npi8RuXts"
      },
      "source": [
        "#2\n",
        "!pip install -U -q PyDrive\n",
        "import pandas as pd\n",
        "\n",
        "from pydrive.auth import GoogleAuth\n",
        "from pydrive.drive import GoogleDrive\n",
        "from google.colab import auth\n",
        "from oauth2client.client import GoogleCredentials\n",
        "auth.authenticate_user()\n",
        "gauth = GoogleAuth()\n",
        "gauth.credentials = GoogleCredentials.get_application_default()\n",
        "drive = GoogleDrive(gauth)\n",
        "downloaded = drive.CreateFile({'id': \"1CwB2ubKL711Mm0lq78FgjVxS-4qwYPKu\"}) \n",
        "downloaded.GetContentFile('tough_dataset.csv')  \n",
        "\n"
      ],
      "execution_count": 135,
      "outputs": []
    },
    {
      "cell_type": "code",
      "metadata": {
        "colab": {
          "base_uri": "https://localhost:8080/",
          "height": 34
        },
        "id": "nobInCReMLs5",
        "outputId": "a63dc4a4-ba7a-45b4-80f8-c01c0400a292"
      },
      "source": [
        "# To store the data\n",
        "import pandas as pd\n",
        "\n",
        "# To do linear algebra\n",
        "import numpy as np\n",
        "\n",
        "# To map Country-Names to ISO Country-Codes\n",
        "!pip install pycountry\n",
        "\n",
        "import pycountry\n",
        "\n",
        "# To create interactive maps\n",
        "from plotly.offline import download_plotlyjs, init_notebook_mode, iplot\n",
        "import plotly.graph_objs as go\n",
        "init_notebook_mode(connected=True)\n",
        "\n",
        "# To create plots\n",
        "import matplotlib.pyplot as plt\n",
        "\n",
        "# To create nicer plots\n",
        "import seaborn as sns\n",
        "\n",
        "# To search strings\n",
        "import re"
      ],
      "execution_count": 136,
      "outputs": [
        {
          "output_type": "stream",
          "text": [
            "Requirement already satisfied: pycountry in /usr/local/lib/python3.7/dist-packages (20.7.3)\n"
          ],
          "name": "stdout"
        },
        {
          "output_type": "display_data",
          "data": {
            "text/html": [
              "        <script type=\"text/javascript\">\n",
              "        window.PlotlyConfig = {MathJaxConfig: 'local'};\n",
              "        if (window.MathJax) {MathJax.Hub.Config({SVG: {font: \"STIX-Web\"}});}\n",
              "        if (typeof require !== 'undefined') {\n",
              "        require.undef(\"plotly\");\n",
              "        requirejs.config({\n",
              "            paths: {\n",
              "                'plotly': ['https://cdn.plot.ly/plotly-latest.min']\n",
              "            }\n",
              "        });\n",
              "        require(['plotly'], function(Plotly) {\n",
              "            window._Plotly = Plotly;\n",
              "        });\n",
              "        }\n",
              "        </script>\n",
              "        "
            ]
          },
          "metadata": {
            "tags": []
          }
        }
      ]
    },
    {
      "cell_type": "markdown",
      "metadata": {
        "id": "lw37dZnqv2AK"
      },
      "source": [
        "Checking the dataset"
      ]
    },
    {
      "cell_type": "code",
      "metadata": {
        "colab": {
          "base_uri": "https://localhost:8080/",
          "height": 669
        },
        "id": "r_7SqDWrv0RM",
        "outputId": "af207a21-1b6f-40b9-9ab1-d46321c2bda7"
      },
      "source": [
        "\n",
        "df = read_csv('tough_dataset.csv', header=0,index_col=[0], parse_dates=[0])\n",
        "df.head()"
      ],
      "execution_count": 137,
      "outputs": [
        {
          "output_type": "execute_result",
          "data": {
            "text/html": [
              "<div>\n",
              "<style scoped>\n",
              "    .dataframe tbody tr th:only-of-type {\n",
              "        vertical-align: middle;\n",
              "    }\n",
              "\n",
              "    .dataframe tbody tr th {\n",
              "        vertical-align: top;\n",
              "    }\n",
              "\n",
              "    .dataframe thead th {\n",
              "        text-align: right;\n",
              "    }\n",
              "</style>\n",
              "<table border=\"1\" class=\"dataframe\">\n",
              "  <thead>\n",
              "    <tr style=\"text-align: right;\">\n",
              "      <th></th>\n",
              "      <th>Target A</th>\n",
              "      <th>Target B</th>\n",
              "      <th>LOAN_AMT</th>\n",
              "      <th>Business Title</th>\n",
              "      <th>Civil Service Title</th>\n",
              "      <th>Division/Work Unit</th>\n",
              "      <th>Job Description</th>\n",
              "      <th>Minimum Qual Requirements</th>\n",
              "      <th>Preferred Skills</th>\n",
              "      <th>Additional Information</th>\n",
              "      <th>To Apply</th>\n",
              "      <th>Hours/Shift</th>\n",
              "      <th>Residency Requirement</th>\n",
              "      <th>Posting Date</th>\n",
              "      <th>Posting Updated</th>\n",
              "      <th>Process Date</th>\n",
              "      <th>FormalEducation</th>\n",
              "      <th>UndergradMajor</th>\n",
              "      <th>CompanySize</th>\n",
              "      <th>DevType</th>\n",
              "      <th>YearsCoding</th>\n",
              "      <th>YearsCodingProf</th>\n",
              "      <th>HopeFiveYears</th>\n",
              "      <th>JobSearchStatus</th>\n",
              "      <th>LastNewJob</th>\n",
              "      <th>UpdateCV</th>\n",
              "      <th>CommunicationTools</th>\n",
              "      <th>TimeFullyProductive</th>\n",
              "      <th>EducationTypes</th>\n",
              "      <th>SelfTaughtTypes</th>\n",
              "      <th>TimeAfterBootcamp</th>\n",
              "      <th>HackathonReasons</th>\n",
              "      <th>AgreeDisagree1</th>\n",
              "      <th>AgreeDisagree2</th>\n",
              "      <th>AgreeDisagree3</th>\n",
              "      <th>LanguageWorkedWith</th>\n",
              "      <th>LanguageDesireNextYear</th>\n",
              "      <th>DatabaseWorkedWith</th>\n",
              "      <th>DatabaseDesireNextYear</th>\n",
              "      <th>PlatformWorkedWith</th>\n",
              "      <th>PlatformDesireNextYear</th>\n",
              "      <th>FrameworkWorkedWith</th>\n",
              "      <th>FrameworkDesireNextYear</th>\n",
              "      <th>IDE</th>\n",
              "      <th>OperatingSystem</th>\n",
              "      <th>Methodology</th>\n",
              "      <th>VersionControl</th>\n",
              "      <th>CheckInCode</th>\n",
              "      <th>AIDangerous</th>\n",
              "      <th>AIInteresting</th>\n",
              "      <th>AIResponsible</th>\n",
              "      <th>AIFuture</th>\n",
              "      <th>Age</th>\n",
              "      <th>term</th>\n",
              "      <th>emp_length</th>\n",
              "      <th>loan_status</th>\n",
              "      <th>pymnt_plan</th>\n",
              "      <th>url</th>\n",
              "      <th>purpose</th>\n",
              "      <th>title</th>\n",
              "      <th>zip_code</th>\n",
              "      <th>addr_state</th>\n",
              "      <th>dti</th>\n",
              "      <th>earliest_cr_line</th>\n",
              "      <th>last_pymnt_d</th>\n",
              "      <th>last_pymnt_amnt</th>\n",
              "      <th>next_pymnt_d</th>\n",
              "      <th>last_credit_pull_d</th>\n",
              "    </tr>\n",
              "    <tr>\n",
              "      <th>id</th>\n",
              "      <th></th>\n",
              "      <th></th>\n",
              "      <th></th>\n",
              "      <th></th>\n",
              "      <th></th>\n",
              "      <th></th>\n",
              "      <th></th>\n",
              "      <th></th>\n",
              "      <th></th>\n",
              "      <th></th>\n",
              "      <th></th>\n",
              "      <th></th>\n",
              "      <th></th>\n",
              "      <th></th>\n",
              "      <th></th>\n",
              "      <th></th>\n",
              "      <th></th>\n",
              "      <th></th>\n",
              "      <th></th>\n",
              "      <th></th>\n",
              "      <th></th>\n",
              "      <th></th>\n",
              "      <th></th>\n",
              "      <th></th>\n",
              "      <th></th>\n",
              "      <th></th>\n",
              "      <th></th>\n",
              "      <th></th>\n",
              "      <th></th>\n",
              "      <th></th>\n",
              "      <th></th>\n",
              "      <th></th>\n",
              "      <th></th>\n",
              "      <th></th>\n",
              "      <th></th>\n",
              "      <th></th>\n",
              "      <th></th>\n",
              "      <th></th>\n",
              "      <th></th>\n",
              "      <th></th>\n",
              "      <th></th>\n",
              "      <th></th>\n",
              "      <th></th>\n",
              "      <th></th>\n",
              "      <th></th>\n",
              "      <th></th>\n",
              "      <th></th>\n",
              "      <th></th>\n",
              "      <th></th>\n",
              "      <th></th>\n",
              "      <th></th>\n",
              "      <th></th>\n",
              "      <th></th>\n",
              "      <th></th>\n",
              "      <th></th>\n",
              "      <th></th>\n",
              "      <th></th>\n",
              "      <th></th>\n",
              "      <th></th>\n",
              "      <th></th>\n",
              "      <th></th>\n",
              "      <th></th>\n",
              "      <th></th>\n",
              "      <th></th>\n",
              "      <th></th>\n",
              "      <th></th>\n",
              "      <th></th>\n",
              "      <th></th>\n",
              "    </tr>\n",
              "  </thead>\n",
              "  <tbody>\n",
              "    <tr>\n",
              "      <th>68407277</th>\n",
              "      <td>42405.00</td>\n",
              "      <td>0</td>\n",
              "      <td>3600</td>\n",
              "      <td>Account Manager</td>\n",
              "      <td>CONTRACT REVIEWER (OFFICE OF L</td>\n",
              "      <td>Strategy &amp; Analytics</td>\n",
              "      <td>Division of Economic &amp; Financial Opportunity (...</td>\n",
              "      <td>1.\\tA baccalaureate degree from an accredited ...</td>\n",
              "      <td>â€¢\\tExcellent interpersonal and organizationa...</td>\n",
              "      <td>Salary range for this position is: $42,405 - $...</td>\n",
              "      <td>NaN</td>\n",
              "      <td>NaN</td>\n",
              "      <td>New York City residency is generally required ...</td>\n",
              "      <td>2011-06-24T00:00:00.000</td>\n",
              "      <td>2011-06-24T00:00:00.000</td>\n",
              "      <td>2019-12-17T00:00:00.000</td>\n",
              "      <td>Bachelor’s degree (BA, BS, B.Eng., etc.)</td>\n",
              "      <td>Mathematics or statistics</td>\n",
              "      <td>20 to 99 employees</td>\n",
              "      <td>Full-stack developer</td>\n",
              "      <td>3-5 years</td>\n",
              "      <td>3-5 years</td>\n",
              "      <td>Working as a founder or co-founder of my own c...</td>\n",
              "      <td>I’m not actively looking, but I am open to new...</td>\n",
              "      <td>Less than a year ago</td>\n",
              "      <td>My job status or other personal status changed</td>\n",
              "      <td>Slack</td>\n",
              "      <td>One to three months</td>\n",
              "      <td>Taught yourself a new language, framework, or ...</td>\n",
              "      <td>The official documentation and/or standards fo...</td>\n",
              "      <td>NaN</td>\n",
              "      <td>To build my professional network</td>\n",
              "      <td>Strongly agree</td>\n",
              "      <td>Strongly agree</td>\n",
              "      <td>Neither Agree nor Disagree</td>\n",
              "      <td>JavaScript;Python;HTML;CSS</td>\n",
              "      <td>JavaScript;Python;HTML;CSS</td>\n",
              "      <td>Redis;SQL Server;MySQL;PostgreSQL;Amazon RDS/A...</td>\n",
              "      <td>Redis;SQL Server;MySQL;PostgreSQL;Amazon RDS/A...</td>\n",
              "      <td>AWS;Azure;Linux;Firebase</td>\n",
              "      <td>AWS;Azure;Linux;Firebase</td>\n",
              "      <td>Django;React</td>\n",
              "      <td>Django;React</td>\n",
              "      <td>Komodo;Vim;Visual Studio Code</td>\n",
              "      <td>Linux-based</td>\n",
              "      <td>Agile;Scrum</td>\n",
              "      <td>Git</td>\n",
              "      <td>Multiple times per day</td>\n",
              "      <td>Artificial intelligence surpassing human intel...</td>\n",
              "      <td>Algorithms making important decisions</td>\n",
              "      <td>The developers or the people creating the AI</td>\n",
              "      <td>I'm excited about the possibilities more than ...</td>\n",
              "      <td>25 - 34 years old</td>\n",
              "      <td>36 months</td>\n",
              "      <td>10+ years</td>\n",
              "      <td>Fully Paid</td>\n",
              "      <td>n</td>\n",
              "      <td>https://lendingclub.com/browse/loanDetail.acti...</td>\n",
              "      <td>debt_consolidation</td>\n",
              "      <td>Debt consolidation</td>\n",
              "      <td>190xx</td>\n",
              "      <td>PA</td>\n",
              "      <td>5.91</td>\n",
              "      <td>3-Aug</td>\n",
              "      <td>19-Jan</td>\n",
              "      <td>122.67</td>\n",
              "      <td>NaN</td>\n",
              "      <td>19-Mar</td>\n",
              "    </tr>\n",
              "    <tr>\n",
              "      <th>68355089</th>\n",
              "      <td>60740.00</td>\n",
              "      <td>1</td>\n",
              "      <td>24700</td>\n",
              "      <td>EXECUTIVE DIRECTOR, BUSINESS DEVELOPMENT</td>\n",
              "      <td>ADMINISTRATIVE BUSINESS PROMOT</td>\n",
              "      <td>Tech Talent Pipeline</td>\n",
              "      <td>The New York City Department of Small Business...</td>\n",
              "      <td>1. A baccalaureate degree from an accredited c...</td>\n",
              "      <td>NaN</td>\n",
              "      <td>NaN</td>\n",
              "      <td>In addition to applying through this website, ...</td>\n",
              "      <td>NaN</td>\n",
              "      <td>New York City residency is generally required ...</td>\n",
              "      <td>2012-01-26T00:00:00.000</td>\n",
              "      <td>2012-01-26T00:00:00.000</td>\n",
              "      <td>2019-12-17T00:00:00.000</td>\n",
              "      <td>Bachelor’s degree (BA, BS, B.Eng., etc.)</td>\n",
              "      <td>A natural science (ex. biology, chemistry, phy...</td>\n",
              "      <td>10,000 or more employees</td>\n",
              "      <td>Database administrator;DevOps specialist;Full-...</td>\n",
              "      <td>30 or more years</td>\n",
              "      <td>18-20 years</td>\n",
              "      <td>Working in a different or more specialized tec...</td>\n",
              "      <td>I am actively looking for a job</td>\n",
              "      <td>More than 4 years ago</td>\n",
              "      <td>I saw an employer’s advertisement</td>\n",
              "      <td>Confluence;Office / productivity suite (Micros...</td>\n",
              "      <td>One to three months</td>\n",
              "      <td>Taught yourself a new language, framework, or ...</td>\n",
              "      <td>The official documentation and/or standards fo...</td>\n",
              "      <td>NaN</td>\n",
              "      <td>NaN</td>\n",
              "      <td>Agree</td>\n",
              "      <td>Agree</td>\n",
              "      <td>Neither Agree nor Disagree</td>\n",
              "      <td>JavaScript;Python;Bash/Shell</td>\n",
              "      <td>Go;Python</td>\n",
              "      <td>Redis;PostgreSQL;Memcached</td>\n",
              "      <td>PostgreSQL</td>\n",
              "      <td>Linux</td>\n",
              "      <td>Linux</td>\n",
              "      <td>Django</td>\n",
              "      <td>React</td>\n",
              "      <td>IPython / Jupyter;Sublime Text;Vim</td>\n",
              "      <td>Linux-based</td>\n",
              "      <td>NaN</td>\n",
              "      <td>Git;Subversion</td>\n",
              "      <td>A few times per week</td>\n",
              "      <td>Increasing automation of jobs</td>\n",
              "      <td>Increasing automation of jobs</td>\n",
              "      <td>The developers or the people creating the AI</td>\n",
              "      <td>I'm excited about the possibilities more than ...</td>\n",
              "      <td>35 - 44 years old</td>\n",
              "      <td>36 months</td>\n",
              "      <td>10+ years</td>\n",
              "      <td>Fully Paid</td>\n",
              "      <td>n</td>\n",
              "      <td>https://lendingclub.com/browse/loanDetail.acti...</td>\n",
              "      <td>small_business</td>\n",
              "      <td>Business</td>\n",
              "      <td>577xx</td>\n",
              "      <td>SD</td>\n",
              "      <td>16.06</td>\n",
              "      <td>Dec-99</td>\n",
              "      <td>16-Jun</td>\n",
              "      <td>926.35</td>\n",
              "      <td>NaN</td>\n",
              "      <td>19-Mar</td>\n",
              "    </tr>\n",
              "    <tr>\n",
              "      <th>68341763</th>\n",
              "      <td>51907.68</td>\n",
              "      <td>0</td>\n",
              "      <td>20000</td>\n",
              "      <td>Maintenance Worker - Technical Services-Heatin...</td>\n",
              "      <td>MAINTENANCE WORKER</td>\n",
              "      <td>Management Services Department</td>\n",
              "      <td>Under direct supervision, assist in the routin...</td>\n",
              "      <td>1. Three years of full-time satisfactory exper...</td>\n",
              "      <td>1.  A High School Diploma or GED.  2.  CDL Dri...</td>\n",
              "      <td>1.  A Motor Vehicle Driverâ€™s License valid i...</td>\n",
              "      <td>Click the \"Apply Now\" button.</td>\n",
              "      <td>NaN</td>\n",
              "      <td>NYCHA has no residency requirements.</td>\n",
              "      <td>2013-10-24T00:00:00.000</td>\n",
              "      <td>2013-12-12T00:00:00.000</td>\n",
              "      <td>2019-12-17T00:00:00.000</td>\n",
              "      <td>Associate degree</td>\n",
              "      <td>Computer science, computer engineering, or sof...</td>\n",
              "      <td>20 to 99 employees</td>\n",
              "      <td>Engineering manager;Full-stack developer</td>\n",
              "      <td>24-26 years</td>\n",
              "      <td>6-8 years</td>\n",
              "      <td>Working as a founder or co-founder of my own c...</td>\n",
              "      <td>I’m not actively looking, but I am open to new...</td>\n",
              "      <td>Less than a year ago</td>\n",
              "      <td>NaN</td>\n",
              "      <td>NaN</td>\n",
              "      <td>NaN</td>\n",
              "      <td>NaN</td>\n",
              "      <td>NaN</td>\n",
              "      <td>NaN</td>\n",
              "      <td>NaN</td>\n",
              "      <td>NaN</td>\n",
              "      <td>NaN</td>\n",
              "      <td>NaN</td>\n",
              "      <td>NaN</td>\n",
              "      <td>NaN</td>\n",
              "      <td>NaN</td>\n",
              "      <td>NaN</td>\n",
              "      <td>NaN</td>\n",
              "      <td>NaN</td>\n",
              "      <td>NaN</td>\n",
              "      <td>NaN</td>\n",
              "      <td>NaN</td>\n",
              "      <td>NaN</td>\n",
              "      <td>NaN</td>\n",
              "      <td>NaN</td>\n",
              "      <td>NaN</td>\n",
              "      <td>NaN</td>\n",
              "      <td>NaN</td>\n",
              "      <td>NaN</td>\n",
              "      <td>NaN</td>\n",
              "      <td>NaN</td>\n",
              "      <td>60 months</td>\n",
              "      <td>10+ years</td>\n",
              "      <td>Fully Paid</td>\n",
              "      <td>n</td>\n",
              "      <td>https://lendingclub.com/browse/loanDetail.acti...</td>\n",
              "      <td>home_improvement</td>\n",
              "      <td>NaN</td>\n",
              "      <td>605xx</td>\n",
              "      <td>IL</td>\n",
              "      <td>10.78</td>\n",
              "      <td>Aug-00</td>\n",
              "      <td>17-Jun</td>\n",
              "      <td>15813.30</td>\n",
              "      <td>NaN</td>\n",
              "      <td>19-Mar</td>\n",
              "    </tr>\n",
              "    <tr>\n",
              "      <th>66310712</th>\n",
              "      <td>51907.68</td>\n",
              "      <td>0</td>\n",
              "      <td>35000</td>\n",
              "      <td>Maintenance Worker - Technical Services-Heatin...</td>\n",
              "      <td>MAINTENANCE WORKER</td>\n",
              "      <td>Management Services Department</td>\n",
              "      <td>Under direct supervision, assist in the routin...</td>\n",
              "      <td>1. Three years of full-time satisfactory exper...</td>\n",
              "      <td>1.  A High School Diploma or GED.  2.  CDL Dri...</td>\n",
              "      <td>1.  A Motor Vehicle Driverâ€™s License valid i...</td>\n",
              "      <td>Click the \"Apply Now\" button.</td>\n",
              "      <td>NaN</td>\n",
              "      <td>NYCHA has no residency requirements.</td>\n",
              "      <td>2013-10-24T00:00:00.000</td>\n",
              "      <td>2013-12-12T00:00:00.000</td>\n",
              "      <td>2019-12-17T00:00:00.000</td>\n",
              "      <td>Bachelor’s degree (BA, BS, B.Eng., etc.)</td>\n",
              "      <td>Computer science, computer engineering, or sof...</td>\n",
              "      <td>100 to 499 employees</td>\n",
              "      <td>Full-stack developer</td>\n",
              "      <td>18-20 years</td>\n",
              "      <td>12-14 years</td>\n",
              "      <td>Working as a founder or co-founder of my own c...</td>\n",
              "      <td>I’m not actively looking, but I am open to new...</td>\n",
              "      <td>Less than a year ago</td>\n",
              "      <td>A recruiter contacted me</td>\n",
              "      <td>NaN</td>\n",
              "      <td>Three to six months</td>\n",
              "      <td>Completed an industry certification program (e...</td>\n",
              "      <td>The official documentation and/or standards fo...</td>\n",
              "      <td>NaN</td>\n",
              "      <td>NaN</td>\n",
              "      <td>Disagree</td>\n",
              "      <td>Disagree</td>\n",
              "      <td>Strongly disagree</td>\n",
              "      <td>C#;JavaScript;SQL;TypeScript;HTML;CSS;Bash/Shell</td>\n",
              "      <td>C#;JavaScript;SQL;TypeScript;HTML;CSS;Bash/Shell</td>\n",
              "      <td>SQL Server;Microsoft Azure (Tables, CosmosDB, ...</td>\n",
              "      <td>SQL Server;Microsoft Azure (Tables, CosmosDB, ...</td>\n",
              "      <td>Azure</td>\n",
              "      <td>Azure</td>\n",
              "      <td>NaN</td>\n",
              "      <td>Angular;.NET Core;React</td>\n",
              "      <td>Visual Studio;Visual Studio Code</td>\n",
              "      <td>Windows</td>\n",
              "      <td>Agile;Kanban;Scrum</td>\n",
              "      <td>Git</td>\n",
              "      <td>Multiple times per day</td>\n",
              "      <td>Artificial intelligence surpassing human intel...</td>\n",
              "      <td>Artificial intelligence surpassing human intel...</td>\n",
              "      <td>A governmental or other regulatory body</td>\n",
              "      <td>I don't care about it, or I haven't thought ab...</td>\n",
              "      <td>35 - 44 years old</td>\n",
              "      <td>60 months</td>\n",
              "      <td>10+ years</td>\n",
              "      <td>Current</td>\n",
              "      <td>n</td>\n",
              "      <td>https://lendingclub.com/browse/loanDetail.acti...</td>\n",
              "      <td>debt_consolidation</td>\n",
              "      <td>Debt consolidation</td>\n",
              "      <td>076xx</td>\n",
              "      <td>NJ</td>\n",
              "      <td>17.06</td>\n",
              "      <td>8-Sep</td>\n",
              "      <td>19-Feb</td>\n",
              "      <td>829.90</td>\n",
              "      <td>19-Apr</td>\n",
              "      <td>19-Mar</td>\n",
              "    </tr>\n",
              "    <tr>\n",
              "      <th>68476807</th>\n",
              "      <td>35.00</td>\n",
              "      <td>1</td>\n",
              "      <td>10400</td>\n",
              "      <td>Temporary Painter</td>\n",
              "      <td>PAINTER</td>\n",
              "      <td>Dept of Management &amp; Planning</td>\n",
              "      <td>Responsibilities of selected candidates will i...</td>\n",
              "      <td>1. Five years of full-time satisfactory experi...</td>\n",
              "      <td>NaN</td>\n",
              "      <td>SPECIAL NOTE:    1.  This is a temporary assig...</td>\n",
              "      <td>Click the \"Apply Now\" button.</td>\n",
              "      <td>NaN</td>\n",
              "      <td>NYCHA has no residency requirement.</td>\n",
              "      <td>2014-01-09T00:00:00.000</td>\n",
              "      <td>2014-01-08T00:00:00.000</td>\n",
              "      <td>2019-12-17T00:00:00.000</td>\n",
              "      <td>Some college/university study without earning ...</td>\n",
              "      <td>Computer science, computer engineering, or sof...</td>\n",
              "      <td>10,000 or more employees</td>\n",
              "      <td>Data or business analyst;Desktop or enterprise...</td>\n",
              "      <td>6-8 years</td>\n",
              "      <td>0-2 years</td>\n",
              "      <td>Working in a different or more specialized tec...</td>\n",
              "      <td>I’m not actively looking, but I am open to new...</td>\n",
              "      <td>Between 1 and 2 years ago</td>\n",
              "      <td>My job status or other personal status changed</td>\n",
              "      <td>Office / productivity suite (Microsoft Office,...</td>\n",
              "      <td>Three to six months</td>\n",
              "      <td>Taken a part-time in-person course in programm...</td>\n",
              "      <td>The official documentation and/or standards fo...</td>\n",
              "      <td>NaN</td>\n",
              "      <td>NaN</td>\n",
              "      <td>Strongly agree</td>\n",
              "      <td>Agree</td>\n",
              "      <td>Strongly disagree</td>\n",
              "      <td>C;C++;Java;Matlab;R;SQL;Bash/Shell</td>\n",
              "      <td>Assembly;C;C++;Matlab;SQL;Bash/Shell</td>\n",
              "      <td>SQL Server;PostgreSQL;Oracle;IBM Db2</td>\n",
              "      <td>PostgreSQL;Oracle;IBM Db2</td>\n",
              "      <td>Arduino;Windows Desktop or Server</td>\n",
              "      <td>Arduino;Windows Desktop or Server</td>\n",
              "      <td>NaN</td>\n",
              "      <td>NaN</td>\n",
              "      <td>Notepad++;Visual Studio;Visual Studio Code</td>\n",
              "      <td>Windows</td>\n",
              "      <td>Evidence-based software engineering;Formal sta...</td>\n",
              "      <td>Zip file back-ups</td>\n",
              "      <td>Weekly or a few times per month</td>\n",
              "      <td>Algorithms making important decisions</td>\n",
              "      <td>Algorithms making important decisions</td>\n",
              "      <td>The developers or the people creating the AI</td>\n",
              "      <td>I'm excited about the possibilities more than ...</td>\n",
              "      <td>18 - 24 years old</td>\n",
              "      <td>60 months</td>\n",
              "      <td>3 years</td>\n",
              "      <td>Fully Paid</td>\n",
              "      <td>n</td>\n",
              "      <td>https://lendingclub.com/browse/loanDetail.acti...</td>\n",
              "      <td>major_purchase</td>\n",
              "      <td>Major purchase</td>\n",
              "      <td>174xx</td>\n",
              "      <td>PA</td>\n",
              "      <td>25.37</td>\n",
              "      <td>Jun-98</td>\n",
              "      <td>16-Jul</td>\n",
              "      <td>10128.96</td>\n",
              "      <td>NaN</td>\n",
              "      <td>18-Mar</td>\n",
              "    </tr>\n",
              "  </tbody>\n",
              "</table>\n",
              "</div>"
            ],
            "text/plain": [
              "          Target A  Target B  ...  next_pymnt_d last_credit_pull_d\n",
              "id                            ...                                 \n",
              "68407277  42405.00         0  ...           NaN             19-Mar\n",
              "68355089  60740.00         1  ...           NaN             19-Mar\n",
              "68341763  51907.68         0  ...           NaN             19-Mar\n",
              "66310712  51907.68         0  ...        19-Apr             19-Mar\n",
              "68476807     35.00         1  ...           NaN             18-Mar\n",
              "\n",
              "[5 rows x 68 columns]"
            ]
          },
          "metadata": {
            "tags": []
          },
          "execution_count": 137
        }
      ]
    },
    {
      "cell_type": "markdown",
      "metadata": {
        "id": "nPaDsAPftcP7"
      },
      "source": [
        "It seems that the dataset contains two target columns.\n",
        "By analysing the columns of independent variables and dependent variables we can assume that \n",
        "Target A is loan amount and Target B is loan approved-1 or loan rejected as 0 because columns such as \"purpose\",\"loan status\",\"term\",\"paymnt_plan\",\"earliest_cr_line\",\"last_pymnt_d\",\"last_pymnt_amnt\",\t\"next_pymnt_d\",\"last_credit_pull_d\" gives details for taking loan."
      ]
    },
    {
      "cell_type": "markdown",
      "metadata": {
        "id": "BROF0nBnxZPg"
      },
      "source": [
        "Before splitting dataset for training and test set lets remove irrelavant columns to avoid redundant coding\n",
        "\n",
        "Becuase the dataset contains 66 columns lets split them in 3 groups and analyse each group individually"
      ]
    },
    {
      "cell_type": "code",
      "metadata": {
        "colab": {
          "base_uri": "https://localhost:8080/"
        },
        "id": "Chzecv3fxtRl",
        "outputId": "ef521998-28f9-44a9-99ec-6e8c50176606"
      },
      "source": [
        "print(df.columns.tolist())"
      ],
      "execution_count": 138,
      "outputs": [
        {
          "output_type": "stream",
          "text": [
            "['Target A', 'Target B', 'LOAN_AMT', 'Business Title', 'Civil Service Title', 'Division/Work Unit', 'Job Description', 'Minimum Qual Requirements', 'Preferred Skills', 'Additional Information', 'To Apply', 'Hours/Shift', 'Residency Requirement', 'Posting Date', 'Posting Updated', 'Process Date', 'FormalEducation', 'UndergradMajor', 'CompanySize', 'DevType', 'YearsCoding', 'YearsCodingProf', 'HopeFiveYears', 'JobSearchStatus', 'LastNewJob', 'UpdateCV', 'CommunicationTools', 'TimeFullyProductive', 'EducationTypes', 'SelfTaughtTypes', 'TimeAfterBootcamp', 'HackathonReasons', 'AgreeDisagree1', 'AgreeDisagree2', 'AgreeDisagree3', 'LanguageWorkedWith', 'LanguageDesireNextYear', 'DatabaseWorkedWith', 'DatabaseDesireNextYear', 'PlatformWorkedWith', 'PlatformDesireNextYear', 'FrameworkWorkedWith', 'FrameworkDesireNextYear', 'IDE', 'OperatingSystem', 'Methodology', 'VersionControl', 'CheckInCode', 'AIDangerous', 'AIInteresting', 'AIResponsible', 'AIFuture', 'Age', 'term', 'emp_length', 'loan_status', 'pymnt_plan', 'url', 'purpose', 'title', 'zip_code', 'addr_state', 'dti', 'earliest_cr_line', 'last_pymnt_d', 'last_pymnt_amnt', 'next_pymnt_d', 'last_credit_pull_d']\n"
          ],
          "name": "stdout"
        }
      ]
    },
    {
      "cell_type": "markdown",
      "metadata": {
        "id": "TRdznx9-5DQh"
      },
      "source": [
        "Splitting the dataset in 80-20 ratio for training and test sets"
      ]
    },
    {
      "cell_type": "code",
      "metadata": {
        "colab": {
          "base_uri": "https://localhost:8080/",
          "height": 450
        },
        "id": "-zO7nS6e8GdE",
        "outputId": "cc54340e-4431-408c-d3d0-d473ab4e6f95"
      },
      "source": [
        "y=df[['Target A','Target B']]\n",
        "y"
      ],
      "execution_count": 139,
      "outputs": [
        {
          "output_type": "execute_result",
          "data": {
            "text/html": [
              "<div>\n",
              "<style scoped>\n",
              "    .dataframe tbody tr th:only-of-type {\n",
              "        vertical-align: middle;\n",
              "    }\n",
              "\n",
              "    .dataframe tbody tr th {\n",
              "        vertical-align: top;\n",
              "    }\n",
              "\n",
              "    .dataframe thead th {\n",
              "        text-align: right;\n",
              "    }\n",
              "</style>\n",
              "<table border=\"1\" class=\"dataframe\">\n",
              "  <thead>\n",
              "    <tr style=\"text-align: right;\">\n",
              "      <th></th>\n",
              "      <th>Target A</th>\n",
              "      <th>Target B</th>\n",
              "    </tr>\n",
              "    <tr>\n",
              "      <th>id</th>\n",
              "      <th></th>\n",
              "      <th></th>\n",
              "    </tr>\n",
              "  </thead>\n",
              "  <tbody>\n",
              "    <tr>\n",
              "      <th>68407277</th>\n",
              "      <td>42405.00</td>\n",
              "      <td>0</td>\n",
              "    </tr>\n",
              "    <tr>\n",
              "      <th>68355089</th>\n",
              "      <td>60740.00</td>\n",
              "      <td>1</td>\n",
              "    </tr>\n",
              "    <tr>\n",
              "      <th>68341763</th>\n",
              "      <td>51907.68</td>\n",
              "      <td>0</td>\n",
              "    </tr>\n",
              "    <tr>\n",
              "      <th>66310712</th>\n",
              "      <td>51907.68</td>\n",
              "      <td>0</td>\n",
              "    </tr>\n",
              "    <tr>\n",
              "      <th>68476807</th>\n",
              "      <td>35.00</td>\n",
              "      <td>1</td>\n",
              "    </tr>\n",
              "    <tr>\n",
              "      <th>...</th>\n",
              "      <td>...</td>\n",
              "      <td>...</td>\n",
              "    </tr>\n",
              "    <tr>\n",
              "      <th>68394526</th>\n",
              "      <td>67757.00</td>\n",
              "      <td>0</td>\n",
              "    </tr>\n",
              "    <tr>\n",
              "      <th>68404684</th>\n",
              "      <td>67757.00</td>\n",
              "      <td>1</td>\n",
              "    </tr>\n",
              "    <tr>\n",
              "      <th>68414567</th>\n",
              "      <td>54100.00</td>\n",
              "      <td>0</td>\n",
              "    </tr>\n",
              "    <tr>\n",
              "      <th>68373599</th>\n",
              "      <td>54100.00</td>\n",
              "      <td>0</td>\n",
              "    </tr>\n",
              "    <tr>\n",
              "      <th>68172458</th>\n",
              "      <td>36390.00</td>\n",
              "      <td>0</td>\n",
              "    </tr>\n",
              "  </tbody>\n",
              "</table>\n",
              "<p>2946 rows × 2 columns</p>\n",
              "</div>"
            ],
            "text/plain": [
              "          Target A  Target B\n",
              "id                          \n",
              "68407277  42405.00         0\n",
              "68355089  60740.00         1\n",
              "68341763  51907.68         0\n",
              "66310712  51907.68         0\n",
              "68476807     35.00         1\n",
              "...            ...       ...\n",
              "68394526  67757.00         0\n",
              "68404684  67757.00         1\n",
              "68414567  54100.00         0\n",
              "68373599  54100.00         0\n",
              "68172458  36390.00         0\n",
              "\n",
              "[2946 rows x 2 columns]"
            ]
          },
          "metadata": {
            "tags": []
          },
          "execution_count": 139
        }
      ]
    },
    {
      "cell_type": "code",
      "metadata": {
        "colab": {
          "base_uri": "https://localhost:8080/",
          "height": 252
        },
        "id": "mYnWTu3z8Yk0",
        "outputId": "7c16ec9b-5e6b-4f5c-8070-8f904a664ea7"
      },
      "source": [
        "x=df.loc[:, ~df.columns.isin(['Target A', 'Target B'])]\n",
        "x.head(1)"
      ],
      "execution_count": 140,
      "outputs": [
        {
          "output_type": "execute_result",
          "data": {
            "text/html": [
              "<div>\n",
              "<style scoped>\n",
              "    .dataframe tbody tr th:only-of-type {\n",
              "        vertical-align: middle;\n",
              "    }\n",
              "\n",
              "    .dataframe tbody tr th {\n",
              "        vertical-align: top;\n",
              "    }\n",
              "\n",
              "    .dataframe thead th {\n",
              "        text-align: right;\n",
              "    }\n",
              "</style>\n",
              "<table border=\"1\" class=\"dataframe\">\n",
              "  <thead>\n",
              "    <tr style=\"text-align: right;\">\n",
              "      <th></th>\n",
              "      <th>LOAN_AMT</th>\n",
              "      <th>Business Title</th>\n",
              "      <th>Civil Service Title</th>\n",
              "      <th>Division/Work Unit</th>\n",
              "      <th>Job Description</th>\n",
              "      <th>Minimum Qual Requirements</th>\n",
              "      <th>Preferred Skills</th>\n",
              "      <th>Additional Information</th>\n",
              "      <th>To Apply</th>\n",
              "      <th>Hours/Shift</th>\n",
              "      <th>Residency Requirement</th>\n",
              "      <th>Posting Date</th>\n",
              "      <th>Posting Updated</th>\n",
              "      <th>Process Date</th>\n",
              "      <th>FormalEducation</th>\n",
              "      <th>UndergradMajor</th>\n",
              "      <th>CompanySize</th>\n",
              "      <th>DevType</th>\n",
              "      <th>YearsCoding</th>\n",
              "      <th>YearsCodingProf</th>\n",
              "      <th>HopeFiveYears</th>\n",
              "      <th>JobSearchStatus</th>\n",
              "      <th>LastNewJob</th>\n",
              "      <th>UpdateCV</th>\n",
              "      <th>CommunicationTools</th>\n",
              "      <th>TimeFullyProductive</th>\n",
              "      <th>EducationTypes</th>\n",
              "      <th>SelfTaughtTypes</th>\n",
              "      <th>TimeAfterBootcamp</th>\n",
              "      <th>HackathonReasons</th>\n",
              "      <th>AgreeDisagree1</th>\n",
              "      <th>AgreeDisagree2</th>\n",
              "      <th>AgreeDisagree3</th>\n",
              "      <th>LanguageWorkedWith</th>\n",
              "      <th>LanguageDesireNextYear</th>\n",
              "      <th>DatabaseWorkedWith</th>\n",
              "      <th>DatabaseDesireNextYear</th>\n",
              "      <th>PlatformWorkedWith</th>\n",
              "      <th>PlatformDesireNextYear</th>\n",
              "      <th>FrameworkWorkedWith</th>\n",
              "      <th>FrameworkDesireNextYear</th>\n",
              "      <th>IDE</th>\n",
              "      <th>OperatingSystem</th>\n",
              "      <th>Methodology</th>\n",
              "      <th>VersionControl</th>\n",
              "      <th>CheckInCode</th>\n",
              "      <th>AIDangerous</th>\n",
              "      <th>AIInteresting</th>\n",
              "      <th>AIResponsible</th>\n",
              "      <th>AIFuture</th>\n",
              "      <th>Age</th>\n",
              "      <th>term</th>\n",
              "      <th>emp_length</th>\n",
              "      <th>loan_status</th>\n",
              "      <th>pymnt_plan</th>\n",
              "      <th>url</th>\n",
              "      <th>purpose</th>\n",
              "      <th>title</th>\n",
              "      <th>zip_code</th>\n",
              "      <th>addr_state</th>\n",
              "      <th>dti</th>\n",
              "      <th>earliest_cr_line</th>\n",
              "      <th>last_pymnt_d</th>\n",
              "      <th>last_pymnt_amnt</th>\n",
              "      <th>next_pymnt_d</th>\n",
              "      <th>last_credit_pull_d</th>\n",
              "    </tr>\n",
              "    <tr>\n",
              "      <th>id</th>\n",
              "      <th></th>\n",
              "      <th></th>\n",
              "      <th></th>\n",
              "      <th></th>\n",
              "      <th></th>\n",
              "      <th></th>\n",
              "      <th></th>\n",
              "      <th></th>\n",
              "      <th></th>\n",
              "      <th></th>\n",
              "      <th></th>\n",
              "      <th></th>\n",
              "      <th></th>\n",
              "      <th></th>\n",
              "      <th></th>\n",
              "      <th></th>\n",
              "      <th></th>\n",
              "      <th></th>\n",
              "      <th></th>\n",
              "      <th></th>\n",
              "      <th></th>\n",
              "      <th></th>\n",
              "      <th></th>\n",
              "      <th></th>\n",
              "      <th></th>\n",
              "      <th></th>\n",
              "      <th></th>\n",
              "      <th></th>\n",
              "      <th></th>\n",
              "      <th></th>\n",
              "      <th></th>\n",
              "      <th></th>\n",
              "      <th></th>\n",
              "      <th></th>\n",
              "      <th></th>\n",
              "      <th></th>\n",
              "      <th></th>\n",
              "      <th></th>\n",
              "      <th></th>\n",
              "      <th></th>\n",
              "      <th></th>\n",
              "      <th></th>\n",
              "      <th></th>\n",
              "      <th></th>\n",
              "      <th></th>\n",
              "      <th></th>\n",
              "      <th></th>\n",
              "      <th></th>\n",
              "      <th></th>\n",
              "      <th></th>\n",
              "      <th></th>\n",
              "      <th></th>\n",
              "      <th></th>\n",
              "      <th></th>\n",
              "      <th></th>\n",
              "      <th></th>\n",
              "      <th></th>\n",
              "      <th></th>\n",
              "      <th></th>\n",
              "      <th></th>\n",
              "      <th></th>\n",
              "      <th></th>\n",
              "      <th></th>\n",
              "      <th></th>\n",
              "      <th></th>\n",
              "      <th></th>\n",
              "    </tr>\n",
              "  </thead>\n",
              "  <tbody>\n",
              "    <tr>\n",
              "      <th>68407277</th>\n",
              "      <td>3600</td>\n",
              "      <td>Account Manager</td>\n",
              "      <td>CONTRACT REVIEWER (OFFICE OF L</td>\n",
              "      <td>Strategy &amp; Analytics</td>\n",
              "      <td>Division of Economic &amp; Financial Opportunity (...</td>\n",
              "      <td>1.\\tA baccalaureate degree from an accredited ...</td>\n",
              "      <td>â€¢\\tExcellent interpersonal and organizationa...</td>\n",
              "      <td>Salary range for this position is: $42,405 - $...</td>\n",
              "      <td>NaN</td>\n",
              "      <td>NaN</td>\n",
              "      <td>New York City residency is generally required ...</td>\n",
              "      <td>2011-06-24T00:00:00.000</td>\n",
              "      <td>2011-06-24T00:00:00.000</td>\n",
              "      <td>2019-12-17T00:00:00.000</td>\n",
              "      <td>Bachelor’s degree (BA, BS, B.Eng., etc.)</td>\n",
              "      <td>Mathematics or statistics</td>\n",
              "      <td>20 to 99 employees</td>\n",
              "      <td>Full-stack developer</td>\n",
              "      <td>3-5 years</td>\n",
              "      <td>3-5 years</td>\n",
              "      <td>Working as a founder or co-founder of my own c...</td>\n",
              "      <td>I’m not actively looking, but I am open to new...</td>\n",
              "      <td>Less than a year ago</td>\n",
              "      <td>My job status or other personal status changed</td>\n",
              "      <td>Slack</td>\n",
              "      <td>One to three months</td>\n",
              "      <td>Taught yourself a new language, framework, or ...</td>\n",
              "      <td>The official documentation and/or standards fo...</td>\n",
              "      <td>NaN</td>\n",
              "      <td>To build my professional network</td>\n",
              "      <td>Strongly agree</td>\n",
              "      <td>Strongly agree</td>\n",
              "      <td>Neither Agree nor Disagree</td>\n",
              "      <td>JavaScript;Python;HTML;CSS</td>\n",
              "      <td>JavaScript;Python;HTML;CSS</td>\n",
              "      <td>Redis;SQL Server;MySQL;PostgreSQL;Amazon RDS/A...</td>\n",
              "      <td>Redis;SQL Server;MySQL;PostgreSQL;Amazon RDS/A...</td>\n",
              "      <td>AWS;Azure;Linux;Firebase</td>\n",
              "      <td>AWS;Azure;Linux;Firebase</td>\n",
              "      <td>Django;React</td>\n",
              "      <td>Django;React</td>\n",
              "      <td>Komodo;Vim;Visual Studio Code</td>\n",
              "      <td>Linux-based</td>\n",
              "      <td>Agile;Scrum</td>\n",
              "      <td>Git</td>\n",
              "      <td>Multiple times per day</td>\n",
              "      <td>Artificial intelligence surpassing human intel...</td>\n",
              "      <td>Algorithms making important decisions</td>\n",
              "      <td>The developers or the people creating the AI</td>\n",
              "      <td>I'm excited about the possibilities more than ...</td>\n",
              "      <td>25 - 34 years old</td>\n",
              "      <td>36 months</td>\n",
              "      <td>10+ years</td>\n",
              "      <td>Fully Paid</td>\n",
              "      <td>n</td>\n",
              "      <td>https://lendingclub.com/browse/loanDetail.acti...</td>\n",
              "      <td>debt_consolidation</td>\n",
              "      <td>Debt consolidation</td>\n",
              "      <td>190xx</td>\n",
              "      <td>PA</td>\n",
              "      <td>5.91</td>\n",
              "      <td>3-Aug</td>\n",
              "      <td>19-Jan</td>\n",
              "      <td>122.67</td>\n",
              "      <td>NaN</td>\n",
              "      <td>19-Mar</td>\n",
              "    </tr>\n",
              "  </tbody>\n",
              "</table>\n",
              "</div>"
            ],
            "text/plain": [
              "          LOAN_AMT   Business Title  ... next_pymnt_d last_credit_pull_d\n",
              "id                                   ...                                \n",
              "68407277      3600  Account Manager  ...          NaN             19-Mar\n",
              "\n",
              "[1 rows x 66 columns]"
            ]
          },
          "metadata": {
            "tags": []
          },
          "execution_count": 140
        }
      ]
    },
    {
      "cell_type": "code",
      "metadata": {
        "colab": {
          "base_uri": "https://localhost:8080/",
          "height": 297
        },
        "id": "ODB1sPldv0k4",
        "outputId": "c7b4200e-7a81-4772-8b01-bebc5069b9c9"
      },
      "source": [
        "df.describe()"
      ],
      "execution_count": 141,
      "outputs": [
        {
          "output_type": "execute_result",
          "data": {
            "text/html": [
              "<div>\n",
              "<style scoped>\n",
              "    .dataframe tbody tr th:only-of-type {\n",
              "        vertical-align: middle;\n",
              "    }\n",
              "\n",
              "    .dataframe tbody tr th {\n",
              "        vertical-align: top;\n",
              "    }\n",
              "\n",
              "    .dataframe thead th {\n",
              "        text-align: right;\n",
              "    }\n",
              "</style>\n",
              "<table border=\"1\" class=\"dataframe\">\n",
              "  <thead>\n",
              "    <tr style=\"text-align: right;\">\n",
              "      <th></th>\n",
              "      <th>Target A</th>\n",
              "      <th>Target B</th>\n",
              "      <th>LOAN_AMT</th>\n",
              "      <th>dti</th>\n",
              "      <th>last_pymnt_amnt</th>\n",
              "    </tr>\n",
              "  </thead>\n",
              "  <tbody>\n",
              "    <tr>\n",
              "      <th>count</th>\n",
              "      <td>2946.000000</td>\n",
              "      <td>2946.000000</td>\n",
              "      <td>2946.000000</td>\n",
              "      <td>2946.000000</td>\n",
              "      <td>2946.000000</td>\n",
              "    </tr>\n",
              "    <tr>\n",
              "      <th>mean</th>\n",
              "      <td>58904.139794</td>\n",
              "      <td>0.210115</td>\n",
              "      <td>15345.663612</td>\n",
              "      <td>19.444117</td>\n",
              "      <td>4663.227026</td>\n",
              "    </tr>\n",
              "    <tr>\n",
              "      <th>std</th>\n",
              "      <td>26986.575936</td>\n",
              "      <td>0.407460</td>\n",
              "      <td>8636.391303</td>\n",
              "      <td>8.628543</td>\n",
              "      <td>6855.297610</td>\n",
              "    </tr>\n",
              "    <tr>\n",
              "      <th>min</th>\n",
              "      <td>0.000000</td>\n",
              "      <td>0.000000</td>\n",
              "      <td>1000.000000</td>\n",
              "      <td>0.000000</td>\n",
              "      <td>0.030000</td>\n",
              "    </tr>\n",
              "    <tr>\n",
              "      <th>25%</th>\n",
              "      <td>49390.000000</td>\n",
              "      <td>0.000000</td>\n",
              "      <td>8681.250000</td>\n",
              "      <td>13.035000</td>\n",
              "      <td>362.980000</td>\n",
              "    </tr>\n",
              "    <tr>\n",
              "      <th>50%</th>\n",
              "      <td>58440.000000</td>\n",
              "      <td>0.000000</td>\n",
              "      <td>14400.000000</td>\n",
              "      <td>18.905000</td>\n",
              "      <td>842.235000</td>\n",
              "    </tr>\n",
              "    <tr>\n",
              "      <th>75%</th>\n",
              "      <td>73171.750000</td>\n",
              "      <td>0.000000</td>\n",
              "      <td>20000.000000</td>\n",
              "      <td>25.580000</td>\n",
              "      <td>6832.185000</td>\n",
              "    </tr>\n",
              "    <tr>\n",
              "      <th>max</th>\n",
              "      <td>218587.000000</td>\n",
              "      <td>1.000000</td>\n",
              "      <td>35000.000000</td>\n",
              "      <td>51.200000</td>\n",
              "      <td>35467.750000</td>\n",
              "    </tr>\n",
              "  </tbody>\n",
              "</table>\n",
              "</div>"
            ],
            "text/plain": [
              "            Target A     Target B      LOAN_AMT          dti  last_pymnt_amnt\n",
              "count    2946.000000  2946.000000   2946.000000  2946.000000      2946.000000\n",
              "mean    58904.139794     0.210115  15345.663612    19.444117      4663.227026\n",
              "std     26986.575936     0.407460   8636.391303     8.628543      6855.297610\n",
              "min         0.000000     0.000000   1000.000000     0.000000         0.030000\n",
              "25%     49390.000000     0.000000   8681.250000    13.035000       362.980000\n",
              "50%     58440.000000     0.000000  14400.000000    18.905000       842.235000\n",
              "75%     73171.750000     0.000000  20000.000000    25.580000      6832.185000\n",
              "max    218587.000000     1.000000  35000.000000    51.200000     35467.750000"
            ]
          },
          "metadata": {
            "tags": []
          },
          "execution_count": 141
        }
      ]
    },
    {
      "cell_type": "code",
      "metadata": {
        "colab": {
          "base_uri": "https://localhost:8080/"
        },
        "id": "-kd0SHv6v0nj",
        "outputId": "dc407d49-6216-4bc6-ab07-5ccb314b1603"
      },
      "source": [
        "df.shape"
      ],
      "execution_count": 142,
      "outputs": [
        {
          "output_type": "execute_result",
          "data": {
            "text/plain": [
              "(2946, 68)"
            ]
          },
          "metadata": {
            "tags": []
          },
          "execution_count": 142
        }
      ]
    },
    {
      "cell_type": "code",
      "metadata": {
        "colab": {
          "base_uri": "https://localhost:8080/"
        },
        "id": "GPbYSZjzy_y2",
        "outputId": "6fd81dcb-fd9b-4f9a-d4f2-bfab117bcf7a"
      },
      "source": [
        "df.isnull().sum()"
      ],
      "execution_count": 143,
      "outputs": [
        {
          "output_type": "execute_result",
          "data": {
            "text/plain": [
              "Target A                  0\n",
              "Target B                  0\n",
              "LOAN_AMT                  0\n",
              "Business Title            0\n",
              "Civil Service Title       0\n",
              "                       ... \n",
              "earliest_cr_line          0\n",
              "last_pymnt_d              0\n",
              "last_pymnt_amnt           0\n",
              "next_pymnt_d           2610\n",
              "last_credit_pull_d        0\n",
              "Length: 68, dtype: int64"
            ]
          },
          "metadata": {
            "tags": []
          },
          "execution_count": 143
        }
      ]
    },
    {
      "cell_type": "code",
      "metadata": {
        "colab": {
          "base_uri": "https://localhost:8080/"
        },
        "id": "73B9QASH4SF4",
        "outputId": "8eb99a9c-8d6e-4339-c280-ccbde371f7ee"
      },
      "source": [
        "df.isnull().sum().sum()"
      ],
      "execution_count": 144,
      "outputs": [
        {
          "output_type": "execute_result",
          "data": {
            "text/plain": [
              "35703"
            ]
          },
          "metadata": {
            "tags": []
          },
          "execution_count": 144
        }
      ]
    },
    {
      "cell_type": "code",
      "metadata": {
        "id": "WUWgRgx64l4Q"
      },
      "source": [
        "for i in range(len(df.index)) :\n",
        "    print(\"Nan in row \", i , \" : \" ,  df.iloc[i].isnull().sum())"
      ],
      "execution_count": null,
      "outputs": []
    },
    {
      "cell_type": "code",
      "metadata": {
        "colab": {
          "base_uri": "https://localhost:8080/"
        },
        "id": "LtpISZ0H3zFH",
        "outputId": "a2d37591-21b5-48d0-afe3-d5c051fdd447"
      },
      "source": [
        "df.dtypes"
      ],
      "execution_count": 146,
      "outputs": [
        {
          "output_type": "execute_result",
          "data": {
            "text/plain": [
              "Target A               float64\n",
              "Target B                 int64\n",
              "LOAN_AMT                 int64\n",
              "Business Title          object\n",
              "Civil Service Title     object\n",
              "                        ...   \n",
              "earliest_cr_line        object\n",
              "last_pymnt_d            object\n",
              "last_pymnt_amnt        float64\n",
              "next_pymnt_d            object\n",
              "last_credit_pull_d      object\n",
              "Length: 68, dtype: object"
            ]
          },
          "metadata": {
            "tags": []
          },
          "execution_count": 146
        }
      ]
    },
    {
      "cell_type": "markdown",
      "metadata": {
        "id": "3A6CTyovR-gw"
      },
      "source": [
        "# Visualizing dataset to understand the significance of columns "
      ]
    },
    {
      "cell_type": "markdown",
      "metadata": {
        "id": "6AK338mb2ndB"
      },
      "source": [
        "column \"next_paymnt_d\" has 2610 empty values. "
      ]
    },
    {
      "cell_type": "markdown",
      "metadata": {
        "id": "HPuKe19dPkgm"
      },
      "source": [
        "# Loan amount distribution"
      ]
    },
    {
      "cell_type": "code",
      "metadata": {
        "colab": {
          "base_uri": "https://localhost:8080/",
          "height": 268
        },
        "id": "ySmJyQmkPk2g",
        "outputId": "9d1f2a32-eb92-4109-fed1-15bec57ea4c9"
      },
      "source": [
        "loan_amount = df[\"LOAN_AMT\"].values\n",
        "sns.boxplot(y=loan_amount)\n",
        "print (\"Mean loan amount is: \",loan_amount.mean())\n",
        "# Most loans were between 10000 and 20000 dollars"
      ],
      "execution_count": 147,
      "outputs": [
        {
          "output_type": "stream",
          "text": [
            "Mean loan amount is:  15345.66361167685\n"
          ],
          "name": "stdout"
        },
        {
          "output_type": "display_data",
          "data": {
            "image/png": "[encoded data removed]",
            "text/plain": [
              "<Figure size 432x288 with 1 Axes>"
            ]
          },
          "metadata": {
            "tags": [],
            "needs_background": "light"
          }
        }
      ]
    },
    {
      "cell_type": "markdown",
      "metadata": {
        "id": "b6WqGip9Z8Xd"
      },
      "source": [
        "# Loan Amount"
      ]
    },
    {
      "cell_type": "code",
      "metadata": {
        "colab": {
          "base_uri": "https://localhost:8080/",
          "height": 52
        },
        "id": "rkfEt6quaQe_",
        "outputId": "961aa758-0420-46c0-a476-7de1fb7672a8"
      },
      "source": [
        "'''\n",
        "loan_counts = df.LOAN_AMT.value_counts()[1:]\n",
        "# Removing current loans as they will not be useful for our analysis\n",
        "plt.figure(figsize=(24,8))\n",
        "plt.grid()\n",
        "ax = sns.barplot(loan_counts.index, loan_counts.values)\n",
        "ax.set_xticklabels(ax.get_xticklabels(),rotation=45)\n",
        "print(\"Loan  Counts\")'''"
      ],
      "execution_count": 148,
      "outputs": [
        {
          "output_type": "execute_result",
          "data": {
            "application/vnd.google.colaboratory.intrinsic+json": {
              "type": "string"
            },
            "text/plain": [
              "'\\nloan_counts = df.LOAN_AMT.value_counts()[1:]\\n# Removing current loans as they will not be useful for our analysis\\nplt.figure(figsize=(24,8))\\nplt.grid()\\nax = sns.barplot(loan_counts.index, loan_counts.values)\\nax.set_xticklabels(ax.get_xticklabels(),rotation=45)\\nprint(\"Loan  Counts\")'"
            ]
          },
          "metadata": {
            "tags": []
          },
          "execution_count": 148
        }
      ]
    },
    {
      "cell_type": "code",
      "metadata": {
        "colab": {
          "base_uri": "https://localhost:8080/",
          "height": 52
        },
        "id": "Ppt7ykLqLRWc",
        "outputId": "08c557b6-0372-4d2e-bdff-bb4e82d1b2c6"
      },
      "source": [
        "'''\n",
        "#order_age = ['1000>= or =<5000', '5000-10000', '10000-15000', '15000-20000', '20000-25000', '25000-30000', '35000 or more']\n",
        "\n",
        "plt.figure(figsize=(14,4))\n",
        "plt.grid()\n",
        "sns.countplot(data=df, x='LOAN_AMT', order=order_age, palette='viridis')\n",
        "plt.title(\"Loan amount\")\n",
        "plt.ylabel('Count')\n",
        "plt.xticks(rotation=60)\n",
        "plt.show()'''"
      ],
      "execution_count": 149,
      "outputs": [
        {
          "output_type": "execute_result",
          "data": {
            "application/vnd.google.colaboratory.intrinsic+json": {
              "type": "string"
            },
            "text/plain": [
              "'\\n#order_age = [\\'1000>= or =<5000\\', \\'5000-10000\\', \\'10000-15000\\', \\'15000-20000\\', \\'20000-25000\\', \\'25000-30000\\', \\'35000 or more\\']\\n\\nplt.figure(figsize=(14,4))\\nplt.grid()\\nsns.countplot(data=df, x=\\'LOAN_AMT\\', order=order_age, palette=\\'viridis\\')\\nplt.title(\"Loan amount\")\\nplt.ylabel(\\'Count\\')\\nplt.xticks(rotation=60)\\nplt.show()'"
            ]
          },
          "metadata": {
            "tags": []
          },
          "execution_count": 149
        }
      ]
    },
    {
      "cell_type": "code",
      "metadata": {
        "colab": {
          "base_uri": "https://localhost:8080/"
        },
        "id": "0TbSWxQEKQ9U",
        "outputId": "bbcbe9c2-9550-41b7-d98e-c16f0c630dd0"
      },
      "source": [
        "df[\"Hours/Shift\"].value_counts()"
      ],
      "execution_count": 199,
      "outputs": [
        {
          "output_type": "execute_result",
          "data": {
            "text/plain": [
              "35 Hours                                                                                                                                                                                                                                                   134\n",
              "35 hours per week                                                                                                                                                                                                                                           47\n",
              "Day - Due to the necessary technical support duties of this position in a 24/7 operation, candidate may be required to work various shifts such as weekends and/or nights/evenings.                                                                         38\n",
              "35 hours per week / day                                                                                                                                                                                                                                     36\n",
              "35hrs                                                                                                                                                                                                                                                       33\n",
              "                                                                                                                                                                                                                                                          ... \n",
              "Tours of duty vary and may include Saturday and Sunday.                                                                                                                                                                                                      1\n",
              "35 Hrs./Shift TBD                                                                                                                                                                                                                                            1\n",
              "Monday through Friday  9;00 am - 5:00 pm                                                                                                                                                                                                                     1\n",
              "Due to the necessary duties of this position in a 24/7 operation, candidate may be required to work various shifts such as weekends and/or nights/evenings. It is anticipated that this position will start as an evening Call Center Manager position.      1\n",
              "Monday - Friday 0900 to 1700 hours.                                                                                                                                                                                                                          1\n",
              "Name: Hours/Shift, Length: 181, dtype: int64"
            ]
          },
          "metadata": {
            "tags": []
          },
          "execution_count": 199
        }
      ]
    },
    {
      "cell_type": "markdown",
      "metadata": {
        "id": "TifZ3NsrKvuH"
      },
      "source": [
        ""
      ]
    },
    {
      "cell_type": "markdown",
      "metadata": {
        "id": "RYmDm4ndaAzJ"
      },
      "source": [
        "# Loan Status"
      ]
    },
    {
      "cell_type": "code",
      "metadata": {
        "colab": {
          "base_uri": "https://localhost:8080/"
        },
        "id": "QaOyt4eXbjl7",
        "outputId": "50586084-6fac-45ec-933c-ffedaab2b37c"
      },
      "source": [
        "df.loan_status.value_counts()"
      ],
      "execution_count": 150,
      "outputs": [
        {
          "output_type": "execute_result",
          "data": {
            "text/plain": [
              "Fully Paid            2154\n",
              "Charged Off            456\n",
              "Current                319\n",
              "Late (31-120 days)      14\n",
              "In Grace Period          2\n",
              "Late (16-30 days)        1\n",
              "Name: loan_status, dtype: int64"
            ]
          },
          "metadata": {
            "tags": []
          },
          "execution_count": 150
        }
      ]
    },
    {
      "cell_type": "code",
      "metadata": {
        "colab": {
          "base_uri": "https://localhost:8080/",
          "height": 345
        },
        "id": "6pnbY4fSaEj0",
        "outputId": "31a26951-fb42-4feb-dbc9-80dfbad9cbc8"
      },
      "source": [
        "status_counts = df.loan_status.value_counts()[1:]\n",
        "ax = sns.barplot(status_counts.index, status_counts.values)\n",
        "ax.set_xticklabels(ax.get_xticklabels(),rotation=45)\n",
        "print(\"Loan Statuses Counts\")"
      ],
      "execution_count": 151,
      "outputs": [
        {
          "output_type": "stream",
          "text": [
            "Loan Statuses Counts\n"
          ],
          "name": "stdout"
        },
        {
          "output_type": "display_data",
          "data": {
            "image/png": "[encoded data removed]",
            "text/plain": [
              "<Figure size 432x288 with 1 Axes>"
            ]
          },
          "metadata": {
            "tags": [],
            "needs_background": "light"
          }
        }
      ]
    },
    {
      "cell_type": "markdown",
      "metadata": {
        "id": "XXJuuZasIKwl"
      },
      "source": [
        "# Loan analysis"
      ]
    },
    {
      "cell_type": "code",
      "metadata": {
        "colab": {
          "base_uri": "https://localhost:8080/",
          "height": 482
        },
        "id": "CHlt8A9fIOFX",
        "outputId": "3132485e-7e97-405e-853c-cbe425eb47b5"
      },
      "source": [
        "# Bad Loans analysis\n",
        "\n",
        "# Various types of bad loans\n",
        "bad_loan = [\"Charged Off\", \"Current\", \"Late (31-120 days)\",\"In Grace Period\"]\n",
        "\n",
        "# Creating an empty column to store the laon type\n",
        "df['loan_type'] = np.nan\n",
        "\n",
        "# Function to set the loan type\n",
        "def loan_type(status):\n",
        "    if status in bad_loan:\n",
        "        return 'Bad Loan'\n",
        "    else:\n",
        "        return 'Good Loan'\n",
        "    \n",
        "# Applying the function to all the statuses    \n",
        "df['loan_type'] = df['loan_status'].apply(loan_type)\n",
        "\n",
        "# Making a pie chart of good loans and bad loans\n",
        "plt.figure(figsize=(8,8))\n",
        "df.loan_type.value_counts().plot.pie(explode = [0, 0.2],autopct='%1.2f%%', shadow = True, startangle = 75)\n",
        "# 26.85% of all loans were bad loans"
      ],
      "execution_count": 152,
      "outputs": [
        {
          "output_type": "execute_result",
          "data": {
            "text/plain": [
              "<matplotlib.axes._subplots.AxesSubplot at 0x7f7292092fd0>"
            ]
          },
          "metadata": {
            "tags": []
          },
          "execution_count": 152
        },
        {
          "output_type": "display_data",
          "data": {
            "image/png": "[encoded data removed]",
            "text/plain": [
              "<Figure size 576x576 with 1 Axes>"
            ]
          },
          "metadata": {
            "tags": []
          }
        }
      ]
    },
    {
      "cell_type": "code",
      "metadata": {
        "colab": {
          "base_uri": "https://localhost:8080/",
          "height": 252
        },
        "id": "TWW7qAKVRWUs",
        "outputId": "6e1ca33f-2a95-4b5f-d6b9-76bf5760515c"
      },
      "source": [
        "df.head(1)"
      ],
      "execution_count": 153,
      "outputs": [
        {
          "output_type": "execute_result",
          "data": {
            "text/html": [
              "<div>\n",
              "<style scoped>\n",
              "    .dataframe tbody tr th:only-of-type {\n",
              "        vertical-align: middle;\n",
              "    }\n",
              "\n",
              "    .dataframe tbody tr th {\n",
              "        vertical-align: top;\n",
              "    }\n",
              "\n",
              "    .dataframe thead th {\n",
              "        text-align: right;\n",
              "    }\n",
              "</style>\n",
              "<table border=\"1\" class=\"dataframe\">\n",
              "  <thead>\n",
              "    <tr style=\"text-align: right;\">\n",
              "      <th></th>\n",
              "      <th>Target A</th>\n",
              "      <th>Target B</th>\n",
              "      <th>LOAN_AMT</th>\n",
              "      <th>Business Title</th>\n",
              "      <th>Civil Service Title</th>\n",
              "      <th>Division/Work Unit</th>\n",
              "      <th>Job Description</th>\n",
              "      <th>Minimum Qual Requirements</th>\n",
              "      <th>Preferred Skills</th>\n",
              "      <th>Additional Information</th>\n",
              "      <th>To Apply</th>\n",
              "      <th>Hours/Shift</th>\n",
              "      <th>Residency Requirement</th>\n",
              "      <th>Posting Date</th>\n",
              "      <th>Posting Updated</th>\n",
              "      <th>Process Date</th>\n",
              "      <th>FormalEducation</th>\n",
              "      <th>UndergradMajor</th>\n",
              "      <th>CompanySize</th>\n",
              "      <th>DevType</th>\n",
              "      <th>YearsCoding</th>\n",
              "      <th>YearsCodingProf</th>\n",
              "      <th>HopeFiveYears</th>\n",
              "      <th>JobSearchStatus</th>\n",
              "      <th>LastNewJob</th>\n",
              "      <th>UpdateCV</th>\n",
              "      <th>CommunicationTools</th>\n",
              "      <th>TimeFullyProductive</th>\n",
              "      <th>EducationTypes</th>\n",
              "      <th>SelfTaughtTypes</th>\n",
              "      <th>TimeAfterBootcamp</th>\n",
              "      <th>HackathonReasons</th>\n",
              "      <th>AgreeDisagree1</th>\n",
              "      <th>AgreeDisagree2</th>\n",
              "      <th>AgreeDisagree3</th>\n",
              "      <th>LanguageWorkedWith</th>\n",
              "      <th>LanguageDesireNextYear</th>\n",
              "      <th>DatabaseWorkedWith</th>\n",
              "      <th>DatabaseDesireNextYear</th>\n",
              "      <th>PlatformWorkedWith</th>\n",
              "      <th>PlatformDesireNextYear</th>\n",
              "      <th>FrameworkWorkedWith</th>\n",
              "      <th>FrameworkDesireNextYear</th>\n",
              "      <th>IDE</th>\n",
              "      <th>OperatingSystem</th>\n",
              "      <th>Methodology</th>\n",
              "      <th>VersionControl</th>\n",
              "      <th>CheckInCode</th>\n",
              "      <th>AIDangerous</th>\n",
              "      <th>AIInteresting</th>\n",
              "      <th>AIResponsible</th>\n",
              "      <th>AIFuture</th>\n",
              "      <th>Age</th>\n",
              "      <th>term</th>\n",
              "      <th>emp_length</th>\n",
              "      <th>loan_status</th>\n",
              "      <th>pymnt_plan</th>\n",
              "      <th>url</th>\n",
              "      <th>purpose</th>\n",
              "      <th>title</th>\n",
              "      <th>zip_code</th>\n",
              "      <th>addr_state</th>\n",
              "      <th>dti</th>\n",
              "      <th>earliest_cr_line</th>\n",
              "      <th>last_pymnt_d</th>\n",
              "      <th>last_pymnt_amnt</th>\n",
              "      <th>next_pymnt_d</th>\n",
              "      <th>last_credit_pull_d</th>\n",
              "      <th>loan_type</th>\n",
              "    </tr>\n",
              "    <tr>\n",
              "      <th>id</th>\n",
              "      <th></th>\n",
              "      <th></th>\n",
              "      <th></th>\n",
              "      <th></th>\n",
              "      <th></th>\n",
              "      <th></th>\n",
              "      <th></th>\n",
              "      <th></th>\n",
              "      <th></th>\n",
              "      <th></th>\n",
              "      <th></th>\n",
              "      <th></th>\n",
              "      <th></th>\n",
              "      <th></th>\n",
              "      <th></th>\n",
              "      <th></th>\n",
              "      <th></th>\n",
              "      <th></th>\n",
              "      <th></th>\n",
              "      <th></th>\n",
              "      <th></th>\n",
              "      <th></th>\n",
              "      <th></th>\n",
              "      <th></th>\n",
              "      <th></th>\n",
              "      <th></th>\n",
              "      <th></th>\n",
              "      <th></th>\n",
              "      <th></th>\n",
              "      <th></th>\n",
              "      <th></th>\n",
              "      <th></th>\n",
              "      <th></th>\n",
              "      <th></th>\n",
              "      <th></th>\n",
              "      <th></th>\n",
              "      <th></th>\n",
              "      <th></th>\n",
              "      <th></th>\n",
              "      <th></th>\n",
              "      <th></th>\n",
              "      <th></th>\n",
              "      <th></th>\n",
              "      <th></th>\n",
              "      <th></th>\n",
              "      <th></th>\n",
              "      <th></th>\n",
              "      <th></th>\n",
              "      <th></th>\n",
              "      <th></th>\n",
              "      <th></th>\n",
              "      <th></th>\n",
              "      <th></th>\n",
              "      <th></th>\n",
              "      <th></th>\n",
              "      <th></th>\n",
              "      <th></th>\n",
              "      <th></th>\n",
              "      <th></th>\n",
              "      <th></th>\n",
              "      <th></th>\n",
              "      <th></th>\n",
              "      <th></th>\n",
              "      <th></th>\n",
              "      <th></th>\n",
              "      <th></th>\n",
              "      <th></th>\n",
              "      <th></th>\n",
              "      <th></th>\n",
              "    </tr>\n",
              "  </thead>\n",
              "  <tbody>\n",
              "    <tr>\n",
              "      <th>68407277</th>\n",
              "      <td>42405.0</td>\n",
              "      <td>0</td>\n",
              "      <td>3600</td>\n",
              "      <td>Account Manager</td>\n",
              "      <td>CONTRACT REVIEWER (OFFICE OF L</td>\n",
              "      <td>Strategy &amp; Analytics</td>\n",
              "      <td>Division of Economic &amp; Financial Opportunity (...</td>\n",
              "      <td>1.\\tA baccalaureate degree from an accredited ...</td>\n",
              "      <td>â€¢\\tExcellent interpersonal and organizationa...</td>\n",
              "      <td>Salary range for this position is: $42,405 - $...</td>\n",
              "      <td>NaN</td>\n",
              "      <td>NaN</td>\n",
              "      <td>New York City residency is generally required ...</td>\n",
              "      <td>2011-06-24T00:00:00.000</td>\n",
              "      <td>2011-06-24T00:00:00.000</td>\n",
              "      <td>2019-12-17T00:00:00.000</td>\n",
              "      <td>Bachelor’s degree (BA, BS, B.Eng., etc.)</td>\n",
              "      <td>Mathematics or statistics</td>\n",
              "      <td>20 to 99 employees</td>\n",
              "      <td>Full-stack developer</td>\n",
              "      <td>3-5 years</td>\n",
              "      <td>3-5 years</td>\n",
              "      <td>Working as a founder or co-founder of my own c...</td>\n",
              "      <td>I’m not actively looking, but I am open to new...</td>\n",
              "      <td>Less than a year ago</td>\n",
              "      <td>My job status or other personal status changed</td>\n",
              "      <td>Slack</td>\n",
              "      <td>One to three months</td>\n",
              "      <td>Taught yourself a new language, framework, or ...</td>\n",
              "      <td>The official documentation and/or standards fo...</td>\n",
              "      <td>NaN</td>\n",
              "      <td>To build my professional network</td>\n",
              "      <td>Strongly agree</td>\n",
              "      <td>Strongly agree</td>\n",
              "      <td>Neither Agree nor Disagree</td>\n",
              "      <td>JavaScript;Python;HTML;CSS</td>\n",
              "      <td>JavaScript;Python;HTML;CSS</td>\n",
              "      <td>Redis;SQL Server;MySQL;PostgreSQL;Amazon RDS/A...</td>\n",
              "      <td>Redis;SQL Server;MySQL;PostgreSQL;Amazon RDS/A...</td>\n",
              "      <td>AWS;Azure;Linux;Firebase</td>\n",
              "      <td>AWS;Azure;Linux;Firebase</td>\n",
              "      <td>Django;React</td>\n",
              "      <td>Django;React</td>\n",
              "      <td>Komodo;Vim;Visual Studio Code</td>\n",
              "      <td>Linux-based</td>\n",
              "      <td>Agile;Scrum</td>\n",
              "      <td>Git</td>\n",
              "      <td>Multiple times per day</td>\n",
              "      <td>Artificial intelligence surpassing human intel...</td>\n",
              "      <td>Algorithms making important decisions</td>\n",
              "      <td>The developers or the people creating the AI</td>\n",
              "      <td>I'm excited about the possibilities more than ...</td>\n",
              "      <td>25 - 34 years old</td>\n",
              "      <td>36 months</td>\n",
              "      <td>10+ years</td>\n",
              "      <td>Fully Paid</td>\n",
              "      <td>n</td>\n",
              "      <td>https://lendingclub.com/browse/loanDetail.acti...</td>\n",
              "      <td>debt_consolidation</td>\n",
              "      <td>Debt consolidation</td>\n",
              "      <td>190xx</td>\n",
              "      <td>PA</td>\n",
              "      <td>5.91</td>\n",
              "      <td>3-Aug</td>\n",
              "      <td>19-Jan</td>\n",
              "      <td>122.67</td>\n",
              "      <td>NaN</td>\n",
              "      <td>19-Mar</td>\n",
              "      <td>Good Loan</td>\n",
              "    </tr>\n",
              "  </tbody>\n",
              "</table>\n",
              "</div>"
            ],
            "text/plain": [
              "          Target A  Target B  ...  last_credit_pull_d  loan_type\n",
              "id                            ...                               \n",
              "68407277   42405.0         0  ...              19-Mar  Good Loan\n",
              "\n",
              "[1 rows x 69 columns]"
            ]
          },
          "metadata": {
            "tags": []
          },
          "execution_count": 153
        }
      ]
    },
    {
      "cell_type": "code",
      "metadata": {
        "colab": {
          "base_uri": "https://localhost:8080/",
          "height": 441
        },
        "id": "LpE36jzDL9dc",
        "outputId": "7c46a604-fc1f-42b5-e380-84258add7e8a"
      },
      "source": [
        "fig, axarr = plt.subplots(2,1, figsize=(18,6))\n",
        "\n",
        "order_yearscoding = ['0-2 years', '3-5 years', '6-8 years', '9-11 years', '12-14 years', '15-17 years', '18-20 years', '21-23 years', '24-26 years', '27-29 years', '30 or more years']\n",
        "\n",
        "axarr[0].grid()\n",
        "sns.countplot(data=df, x='YearsCoding', order=order_yearscoding, palette='tab10', ax=axarr[0])\n",
        "axarr[0].set_title('YearsCoding')\n",
        "axarr[0].set_ylabel('Count')\n",
        "\n",
        "order_yearscodingprof = ['0-2 years', '3-5 years', '6-8 years', '9-11 years', '12-14 years', '15-17 years', '18-20 years', '21-23 years', '24-26 years', '27-29 years', '30 or more years']\n",
        "\n",
        "axarr[1].grid()\n",
        "sns.countplot(data=df, x='YearsCodingProf', order=order_yearscodingprof, palette='tab10', ax=axarr[1])\n",
        "axarr[1].set_title('YearsCodingProf')\n",
        "axarr[1].set_ylabel('Count')\n",
        "\n",
        "plt.tight_layout()\n",
        "plt.show()"
      ],
      "execution_count": 154,
      "outputs": [
        {
          "output_type": "display_data",
          "data": {
            "image/png": "[encoded data removed]",
            "text/plain": [
              "<Figure size 1296x432 with 2 Axes>"
            ]
          },
          "metadata": {
            "tags": [],
            "needs_background": "light"
          }
        }
      ]
    },
    {
      "cell_type": "markdown",
      "metadata": {
        "id": "i81btSLMGpZt"
      },
      "source": [
        "# Purpose"
      ]
    },
    {
      "cell_type": "code",
      "metadata": {
        "colab": {
          "base_uri": "https://localhost:8080/"
        },
        "id": "UQTtyPCbHRn8",
        "outputId": "996acfb2-b33c-41e3-d7dd-4a4733560dca"
      },
      "source": [
        "np.unique(df['purpose'])"
      ],
      "execution_count": 155,
      "outputs": [
        {
          "output_type": "execute_result",
          "data": {
            "text/plain": [
              "array(['car', 'credit_card', 'debt_consolidation', 'home_improvement',\n",
              "       'house', 'major_purchase', 'medical', 'moving', 'other',\n",
              "       'renewable_energy', 'small_business', 'vacation'], dtype=object)"
            ]
          },
          "metadata": {
            "tags": []
          },
          "execution_count": 155
        }
      ]
    },
    {
      "cell_type": "code",
      "metadata": {
        "colab": {
          "base_uri": "https://localhost:8080/",
          "height": 733
        },
        "id": "NaDRMoQiHeGs",
        "outputId": "fc4df954-3c1f-432d-f461-24b8a7f21dbc"
      },
      "source": [
        "fig, axarr = plt.subplots(2, figsize=(22,12))\n",
        "\n",
        "purpose_cat = ['car', 'credit_card', 'debt_consolidation', 'home_improvement',\n",
        "       'house', 'major_purchase', 'medical', 'moving', 'other',\n",
        "       'renewable_energy', 'small_business', 'vacation']\n",
        "\n",
        "axarr[0].grid()\n",
        "sns.countplot(data=df, x='purpose', order=purpose_cat, palette='tab10', ax=axarr[0])\n",
        "axarr[0].set_title('Purpose')\n",
        "axarr[0].set_ylabel('Count')\n",
        "\n"
      ],
      "execution_count": 156,
      "outputs": [
        {
          "output_type": "execute_result",
          "data": {
            "text/plain": [
              "Text(0, 0.5, 'Count')"
            ]
          },
          "metadata": {
            "tags": []
          },
          "execution_count": 156
        },
        {
          "output_type": "display_data",
          "data": {
            "image/png": "[encoded data removed]",
            "text/plain": [
              "<Figure size 1584x864 with 2 Axes>"
            ]
          },
          "metadata": {
            "tags": [],
            "needs_background": "light"
          }
        }
      ]
    },
    {
      "cell_type": "markdown",
      "metadata": {
        "id": "pVnGCXAGEr7-"
      },
      "source": [
        "# MinimumQualification"
      ]
    },
    {
      "cell_type": "code",
      "metadata": {
        "id": "vvvfSqKBEuz1"
      },
      "source": [
        "df.rename(columns={'Minimum Qual Requirements': 'Minimum_Qual_Requirements'}, inplace=True)\n"
      ],
      "execution_count": 157,
      "outputs": []
    },
    {
      "cell_type": "markdown",
      "metadata": {
        "id": "XX7hzVish-z8"
      },
      "source": [
        "# Undermajor"
      ]
    },
    {
      "cell_type": "code",
      "metadata": {
        "colab": {
          "base_uri": "https://localhost:8080/",
          "height": 295
        },
        "id": "2nJVw1N-iBmA",
        "outputId": "5067591a-2374-4e3b-c57d-8e983f4b0e43"
      },
      "source": [
        "plt.figure(figsize=(14,4))\n",
        "plt.grid()\n",
        "sns.countplot(data=df, y='UndergradMajor', order=df.UndergradMajor.value_counts().index, palette='hls')\n",
        "plt.title('UndergradMajor')\n",
        "plt.xlabel('Count')\n",
        "plt.show()"
      ],
      "execution_count": 158,
      "outputs": [
        {
          "output_type": "display_data",
          "data": {
            "image/png": "[encoded data removed]",
            "text/plain": [
              "<Figure size 1008x288 with 1 Axes>"
            ]
          },
          "metadata": {
            "tags": [],
            "needs_background": "light"
          }
        }
      ]
    },
    {
      "cell_type": "markdown",
      "metadata": {
        "id": "ZWHbr2kSigNF"
      },
      "source": [
        "# CompanySize"
      ]
    },
    {
      "cell_type": "code",
      "metadata": {
        "colab": {
          "base_uri": "https://localhost:8080/",
          "height": 405
        },
        "id": "QBMFeHDniTKV",
        "outputId": "eeb01014-f690-4094-89f0-2e34e8c1426d"
      },
      "source": [
        "order_companysize = ['Fewer than 10 employees','10 to 19 employees','20 to 99 employees','100 to 499 employees','500 to 999 employees','1,000 to 4,999 employees', '5,000 to 9,999 employees', '10,000 or more employees']\n",
        "\n",
        "plt.figure(figsize=(14,4))\n",
        "plt.grid()\n",
        "sns.countplot(data=df, x='CompanySize', order=order_companysize, palette='husl')\n",
        "plt.title('CompanySize')\n",
        "plt.ylabel('Count')\n",
        "plt.xticks(rotation=60)\n",
        "plt.show()"
      ],
      "execution_count": 159,
      "outputs": [
        {
          "output_type": "display_data",
          "data": {
            "image/png": "[encoded data removed]",
            "text/plain": [
              "<Figure size 1008x288 with 1 Axes>"
            ]
          },
          "metadata": {
            "tags": [],
            "needs_background": "light"
          }
        }
      ]
    },
    {
      "cell_type": "markdown",
      "metadata": {
        "id": "RqDxg57pnrEl"
      },
      "source": [
        "# DevType"
      ]
    },
    {
      "cell_type": "code",
      "metadata": {
        "colab": {
          "base_uri": "https://localhost:8080/",
          "height": 536
        },
        "id": "UT5MoIllnrMe",
        "outputId": "903a1175-5e4c-44ba-e413-61eba1764a4d"
      },
      "source": [
        "a = pd.DataFrame.from_records(df['DevType'].dropna().apply(lambda x: x.split(';') if type(x)==str else x).tolist()).stack().rename('DevType').to_frame()\n",
        "a.index = a.index.get_level_values(0)\n",
        "b = pd.DataFrame.from_records(df['LanguageWorkedWith'].dropna().apply(lambda x: x.split(';') if type(x)==str else x).tolist()).stack().rename('LanguageWorkedWith')\n",
        "b.index = b.index.get_level_values(0)\n",
        "dev_lang = a.join(b).assign(N=1).pivot_table(index='DevType', columns='LanguageWorkedWith', values='N', aggfunc='count')\n",
        "mat = dev_lang.div(dev_lang.sum().sum()).values\n",
        "\n",
        "plt.figure(figsize=(14,7))\n",
        "plt.title('Developers with their languages')\n",
        "plt.xticks(range(dev_lang.shape[1]), dev_lang.columns, rotation='vertical')\n",
        "plt.yticks(range(dev_lang.shape[0]), dev_lang.index)\n",
        "plt.imshow(mat)\n",
        "plt.show()"
      ],
      "execution_count": 160,
      "outputs": [
        {
          "output_type": "display_data",
          "data": {
            "image/png": "[encoded data removed]",
            "text/plain": [
              "<Figure size 1008x504 with 1 Axes>"
            ]
          },
          "metadata": {
            "tags": [],
            "needs_background": "light"
          }
        }
      ]
    },
    {
      "cell_type": "markdown",
      "metadata": {
        "id": "JpOhpPl_kViA"
      },
      "source": [
        "# LastNewJob"
      ]
    },
    {
      "cell_type": "code",
      "metadata": {
        "colab": {
          "base_uri": "https://localhost:8080/",
          "height": 409
        },
        "id": "2Lk1Xk_8kWU0",
        "outputId": "fae8f18d-2519-49ba-f6bc-58fe2d9a090f"
      },
      "source": [
        "order_lastnewjob = [\"I've never had a job\", 'Less than a year ago', 'Between 1 and 2 years ago', 'Between 2 and 4 years ago', 'More than 4 years ago']\n",
        "\n",
        "plt.figure(figsize=(14,4))\n",
        "plt.grid()\n",
        "sns.countplot(data=df, x='LastNewJob', order=order_lastnewjob, palette='Paired')\n",
        "plt.title('LastNewJob')\n",
        "plt.ylabel('Count')\n",
        "plt.xticks(rotation=60)\n",
        "plt.show()"
      ],
      "execution_count": 161,
      "outputs": [
        {
          "output_type": "display_data",
          "data": {
            "image/png": "[encoded data removed]",
            "text/plain": [
              "<Figure size 1008x288 with 1 Axes>"
            ]
          },
          "metadata": {
            "tags": [],
            "needs_background": "light"
          }
        }
      ]
    },
    {
      "cell_type": "markdown",
      "metadata": {
        "id": "jXRgtg7GkhMM"
      },
      "source": [
        "# HopeFiveYears"
      ]
    },
    {
      "cell_type": "code",
      "metadata": {
        "colab": {
          "base_uri": "https://localhost:8080/",
          "height": 295
        },
        "id": "-55BJuOekgHT",
        "outputId": "ba494602-d6e8-4dac-b24f-e0362e3add25"
      },
      "source": [
        "plt.figure(figsize=(14,4))\n",
        "plt.grid()\n",
        "sns.countplot(data=df, y='HopeFiveYears', order=df.HopeFiveYears.value_counts().index, palette='pastel')\n",
        "plt.title('HopeFiveYears')\n",
        "plt.xlabel('Count')\n",
        "plt.show()"
      ],
      "execution_count": 162,
      "outputs": [
        {
          "output_type": "display_data",
          "data": {
            "image/png": "[encoded data removed]",
            "text/plain": [
              "<Figure size 1008x288 with 1 Axes>"
            ]
          },
          "metadata": {
            "tags": [],
            "needs_background": "light"
          }
        }
      ]
    },
    {
      "cell_type": "markdown",
      "metadata": {
        "id": "O7nR5dnymb3H"
      },
      "source": [
        "# AgreeDisagree"
      ]
    },
    {
      "cell_type": "code",
      "metadata": {
        "colab": {
          "base_uri": "https://localhost:8080/",
          "height": 121
        },
        "id": "2QSywHQVmb9-",
        "outputId": "c16955d1-3343-4e29-c7e1-dd7b5bfe5dd9"
      },
      "source": [
        "'''\n",
        "data = []\n",
        "pattern = re.compile('\\? (.*)$')\n",
        "scale = ['Strongly disagree', 'Disagree', 'Neither Agree nor Disagree', 'Agree', 'Strongly agree']\n",
        "mapper = {name:value for value, name in enumerate(scale, 1)}\n",
        "\n",
        "for col in df[['AgreeDisagree1', 'AgreeDisagree2', 'AgreeDisagree3']].dropna().applymap(lambda x: mapper[x]).mean(axis=0).sort_values(ascending=False).index:\n",
        "    plot_df = df[col].dropna().apply(lambda x: mapper[x])\n",
        "    data.append(go.Box(y = plot_df,\n",
        "                       boxmean = True,\n",
        "                       ))\n",
        "    \n",
        "layout = go.Layout(title = 'To what extent do you agree or disagree with the following statements.',\n",
        "                   xaxis = dict(showticklabels=False),\n",
        "                   yaxis = dict(tickvals = list(range(1, len(scale)+1)),\n",
        "                                tickangle = -60,\n",
        "                                ticktext = scale),\n",
        "                   legend=dict(x=0, y=-10))\n",
        "\n",
        "fig = go.Figure(data=data, layout=layout)\n",
        "iplot(fig)\n",
        "'''"
      ],
      "execution_count": 163,
      "outputs": [
        {
          "output_type": "execute_result",
          "data": {
            "application/vnd.google.colaboratory.intrinsic+json": {
              "type": "string"
            },
            "text/plain": [
              "\"\\ndata = []\\npattern = re.compile('\\\\? (.*)$')\\nscale = ['Strongly disagree', 'Disagree', 'Neither Agree nor Disagree', 'Agree', 'Strongly agree']\\nmapper = {name:value for value, name in enumerate(scale, 1)}\\n\\nfor col in df[['AgreeDisagree1', 'AgreeDisagree2', 'AgreeDisagree3']].dropna().applymap(lambda x: mapper[x]).mean(axis=0).sort_values(ascending=False).index:\\n    plot_df = df[col].dropna().apply(lambda x: mapper[x])\\n    data.append(go.Box(y = plot_df,\\n                       boxmean = True,\\n                       ))\\n    \\nlayout = go.Layout(title = 'To what extent do you agree or disagree with the following statements.',\\n                   xaxis = dict(showticklabels=False),\\n                   yaxis = dict(tickvals = list(range(1, len(scale)+1)),\\n                                tickangle = -60,\\n                                ticktext = scale),\\n                   legend=dict(x=0, y=-10))\\n\\nfig = go.Figure(data=data, layout=layout)\\niplot(fig)\\n\""
            ]
          },
          "metadata": {
            "tags": []
          },
          "execution_count": 163
        }
      ]
    },
    {
      "cell_type": "markdown",
      "metadata": {
        "id": "ej9LhXP4l-u_"
      },
      "source": [
        "# Age"
      ]
    },
    {
      "cell_type": "code",
      "metadata": {
        "colab": {
          "base_uri": "https://localhost:8080/",
          "height": 372
        },
        "id": "KaMlTHpIl-L2",
        "outputId": "7b31f69b-3b9e-4cf9-d68e-b5e4ef044004"
      },
      "source": [
        "order_age = ['Under 18 years old', '18 - 24 years old', '25 - 34 years old', '35 - 44 years old', '45 - 54 years old', '55 - 64 years old', '65 years or older']\n",
        "\n",
        "plt.figure(figsize=(14,4))\n",
        "plt.grid()\n",
        "sns.countplot(data=df, x='Age', order=order_age, palette='viridis')\n",
        "plt.title('Age')\n",
        "plt.ylabel('Count')\n",
        "plt.xticks(rotation=60)\n",
        "plt.show()"
      ],
      "execution_count": 164,
      "outputs": [
        {
          "output_type": "display_data",
          "data": {
            "image/png": "[encoded data removed]",
            "text/plain": [
              "<Figure size 1008x288 with 1 Axes>"
            ]
          },
          "metadata": {
            "tags": [],
            "needs_background": "light"
          }
        }
      ]
    },
    {
      "cell_type": "markdown",
      "metadata": {
        "id": "A-J6MzWmfgdC"
      },
      "source": [
        "To avoid data leakage we split the dataset before data preparation and apply data preparation only to training set."
      ]
    },
    {
      "cell_type": "code",
      "metadata": {
        "id": "eriDT-bt5HHx"
      },
      "source": [
        "x_train,x_test,y_train,y_test=train_test_split(x,y,test_size=0.2,random_state=123)\n"
      ],
      "execution_count": 165,
      "outputs": []
    },
    {
      "cell_type": "code",
      "metadata": {
        "colab": {
          "base_uri": "https://localhost:8080/"
        },
        "id": "rxNdvm1j6yJ9",
        "outputId": "33acb8ea-2502-43ef-eb54-3301804dc305"
      },
      "source": [
        "print(x_train.shape)\n",
        "print(y_train.shape)\n",
        "print(x_test.shape)\n",
        "print(y_test.shape)"
      ],
      "execution_count": 166,
      "outputs": [
        {
          "output_type": "stream",
          "text": [
            "(2356, 66)\n",
            "(2356, 2)\n",
            "(590, 66)\n",
            "(590, 2)\n"
          ],
          "name": "stdout"
        }
      ]
    },
    {
      "cell_type": "markdown",
      "metadata": {
        "id": "ESlPsvvi-EmJ"
      },
      "source": [
        "# Feature Extraction from the training set only."
      ]
    },
    {
      "cell_type": "code",
      "metadata": {
        "colab": {
          "base_uri": "https://localhost:8080/"
        },
        "id": "bsn5sVp-K4x4",
        "outputId": "d15e30bf-5f12-46c2-b591-a891ff5bfde0"
      },
      "source": [
        "print('Minimum loan is:',x[\"LOAN_AMT\"].min())\n",
        "print('Maximum loan is:',x[\"LOAN_AMT\"].max())"
      ],
      "execution_count": 167,
      "outputs": [
        {
          "output_type": "stream",
          "text": [
            "Minimum loan is: 1000\n",
            "Maximum loan is: 35000\n"
          ],
          "name": "stdout"
        }
      ]
    },
    {
      "cell_type": "code",
      "metadata": {
        "colab": {
          "base_uri": "https://localhost:8080/",
          "height": 234
        },
        "id": "5n4gxo4mDjBv",
        "outputId": "9048e4a2-246e-45d4-f4f4-bc220e87a6f1"
      },
      "source": [
        "x_train.head(1)"
      ],
      "execution_count": 168,
      "outputs": [
        {
          "output_type": "execute_result",
          "data": {
            "text/html": [
              "<div>\n",
              "<style scoped>\n",
              "    .dataframe tbody tr th:only-of-type {\n",
              "        vertical-align: middle;\n",
              "    }\n",
              "\n",
              "    .dataframe tbody tr th {\n",
              "        vertical-align: top;\n",
              "    }\n",
              "\n",
              "    .dataframe thead th {\n",
              "        text-align: right;\n",
              "    }\n",
              "</style>\n",
              "<table border=\"1\" class=\"dataframe\">\n",
              "  <thead>\n",
              "    <tr style=\"text-align: right;\">\n",
              "      <th></th>\n",
              "      <th>LOAN_AMT</th>\n",
              "      <th>Business Title</th>\n",
              "      <th>Civil Service Title</th>\n",
              "      <th>Division/Work Unit</th>\n",
              "      <th>Job Description</th>\n",
              "      <th>Minimum Qual Requirements</th>\n",
              "      <th>Preferred Skills</th>\n",
              "      <th>Additional Information</th>\n",
              "      <th>To Apply</th>\n",
              "      <th>Hours/Shift</th>\n",
              "      <th>Residency Requirement</th>\n",
              "      <th>Posting Date</th>\n",
              "      <th>Posting Updated</th>\n",
              "      <th>Process Date</th>\n",
              "      <th>FormalEducation</th>\n",
              "      <th>UndergradMajor</th>\n",
              "      <th>CompanySize</th>\n",
              "      <th>DevType</th>\n",
              "      <th>YearsCoding</th>\n",
              "      <th>YearsCodingProf</th>\n",
              "      <th>HopeFiveYears</th>\n",
              "      <th>JobSearchStatus</th>\n",
              "      <th>LastNewJob</th>\n",
              "      <th>UpdateCV</th>\n",
              "      <th>CommunicationTools</th>\n",
              "      <th>TimeFullyProductive</th>\n",
              "      <th>EducationTypes</th>\n",
              "      <th>SelfTaughtTypes</th>\n",
              "      <th>TimeAfterBootcamp</th>\n",
              "      <th>HackathonReasons</th>\n",
              "      <th>AgreeDisagree1</th>\n",
              "      <th>AgreeDisagree2</th>\n",
              "      <th>AgreeDisagree3</th>\n",
              "      <th>LanguageWorkedWith</th>\n",
              "      <th>LanguageDesireNextYear</th>\n",
              "      <th>DatabaseWorkedWith</th>\n",
              "      <th>DatabaseDesireNextYear</th>\n",
              "      <th>PlatformWorkedWith</th>\n",
              "      <th>PlatformDesireNextYear</th>\n",
              "      <th>FrameworkWorkedWith</th>\n",
              "      <th>FrameworkDesireNextYear</th>\n",
              "      <th>IDE</th>\n",
              "      <th>OperatingSystem</th>\n",
              "      <th>Methodology</th>\n",
              "      <th>VersionControl</th>\n",
              "      <th>CheckInCode</th>\n",
              "      <th>AIDangerous</th>\n",
              "      <th>AIInteresting</th>\n",
              "      <th>AIResponsible</th>\n",
              "      <th>AIFuture</th>\n",
              "      <th>Age</th>\n",
              "      <th>term</th>\n",
              "      <th>emp_length</th>\n",
              "      <th>loan_status</th>\n",
              "      <th>pymnt_plan</th>\n",
              "      <th>url</th>\n",
              "      <th>purpose</th>\n",
              "      <th>title</th>\n",
              "      <th>zip_code</th>\n",
              "      <th>addr_state</th>\n",
              "      <th>dti</th>\n",
              "      <th>earliest_cr_line</th>\n",
              "      <th>last_pymnt_d</th>\n",
              "      <th>last_pymnt_amnt</th>\n",
              "      <th>next_pymnt_d</th>\n",
              "      <th>last_credit_pull_d</th>\n",
              "    </tr>\n",
              "    <tr>\n",
              "      <th>id</th>\n",
              "      <th></th>\n",
              "      <th></th>\n",
              "      <th></th>\n",
              "      <th></th>\n",
              "      <th></th>\n",
              "      <th></th>\n",
              "      <th></th>\n",
              "      <th></th>\n",
              "      <th></th>\n",
              "      <th></th>\n",
              "      <th></th>\n",
              "      <th></th>\n",
              "      <th></th>\n",
              "      <th></th>\n",
              "      <th></th>\n",
              "      <th></th>\n",
              "      <th></th>\n",
              "      <th></th>\n",
              "      <th></th>\n",
              "      <th></th>\n",
              "      <th></th>\n",
              "      <th></th>\n",
              "      <th></th>\n",
              "      <th></th>\n",
              "      <th></th>\n",
              "      <th></th>\n",
              "      <th></th>\n",
              "      <th></th>\n",
              "      <th></th>\n",
              "      <th></th>\n",
              "      <th></th>\n",
              "      <th></th>\n",
              "      <th></th>\n",
              "      <th></th>\n",
              "      <th></th>\n",
              "      <th></th>\n",
              "      <th></th>\n",
              "      <th></th>\n",
              "      <th></th>\n",
              "      <th></th>\n",
              "      <th></th>\n",
              "      <th></th>\n",
              "      <th></th>\n",
              "      <th></th>\n",
              "      <th></th>\n",
              "      <th></th>\n",
              "      <th></th>\n",
              "      <th></th>\n",
              "      <th></th>\n",
              "      <th></th>\n",
              "      <th></th>\n",
              "      <th></th>\n",
              "      <th></th>\n",
              "      <th></th>\n",
              "      <th></th>\n",
              "      <th></th>\n",
              "      <th></th>\n",
              "      <th></th>\n",
              "      <th></th>\n",
              "      <th></th>\n",
              "      <th></th>\n",
              "      <th></th>\n",
              "      <th></th>\n",
              "      <th></th>\n",
              "      <th></th>\n",
              "      <th></th>\n",
              "    </tr>\n",
              "  </thead>\n",
              "  <tbody>\n",
              "    <tr>\n",
              "      <th>68516507</th>\n",
              "      <td>14000</td>\n",
              "      <td>Compliance Review Unit Supervisor</td>\n",
              "      <td>ASSOCIATE STAFF ANALYST</td>\n",
              "      <td>Asst Comm Bdgt &amp; Clmng-Financ</td>\n",
              "      <td>As part of the Systems Support Office (SSO), t...</td>\n",
              "      <td>1. A masterâ€™s degree from an accredited coll...</td>\n",
              "      <td>NaN</td>\n",
              "      <td>Section 424-A of the New York Social Services ...</td>\n",
              "      <td>Click on the \"Apply Now\" button.</td>\n",
              "      <td>NaN</td>\n",
              "      <td>New York City residency is generally required ...</td>\n",
              "      <td>2016-08-05T00:00:00.000</td>\n",
              "      <td>2016-08-08T00:00:00.000</td>\n",
              "      <td>2019-12-17T00:00:00.000</td>\n",
              "      <td>Bachelor’s degree (BA, BS, B.Eng., etc.)</td>\n",
              "      <td>Computer science, computer engineering, or sof...</td>\n",
              "      <td>20 to 99 employees</td>\n",
              "      <td>Full-stack developer</td>\n",
              "      <td>3-5 years</td>\n",
              "      <td>3-5 years</td>\n",
              "      <td>Working in a different or more specialized tec...</td>\n",
              "      <td>I’m not actively looking, but I am open to new...</td>\n",
              "      <td>More than 4 years ago</td>\n",
              "      <td>I received negative feedback on my job perform...</td>\n",
              "      <td>Confluence</td>\n",
              "      <td>One to three months</td>\n",
              "      <td>Received on-the-job training in software devel...</td>\n",
              "      <td>The official documentation and/or standards fo...</td>\n",
              "      <td>NaN</td>\n",
              "      <td>NaN</td>\n",
              "      <td>Agree</td>\n",
              "      <td>Agree</td>\n",
              "      <td>Disagree</td>\n",
              "      <td>C#;JavaScript;SQL;HTML;CSS</td>\n",
              "      <td>C#;JavaScript;Objective-C;SQL;HTML;CSS</td>\n",
              "      <td>SQL Server</td>\n",
              "      <td>SQL Server;MySQL;PostgreSQL;Microsoft Azure (T...</td>\n",
              "      <td>Windows Desktop or Server</td>\n",
              "      <td>Android;iOS;SharePoint</td>\n",
              "      <td>NaN</td>\n",
              "      <td>Angular;.NET Core</td>\n",
              "      <td>Sublime Text;Visual Studio</td>\n",
              "      <td>Windows</td>\n",
              "      <td>Scrum</td>\n",
              "      <td>NaN</td>\n",
              "      <td>Once a day</td>\n",
              "      <td>Increasing automation of jobs</td>\n",
              "      <td>Evolving definitions of \"fairness\" in algorith...</td>\n",
              "      <td>A governmental or other regulatory body</td>\n",
              "      <td>I'm excited about the possibilities more than ...</td>\n",
              "      <td>25 - 34 years old</td>\n",
              "      <td>36 months</td>\n",
              "      <td>4 years</td>\n",
              "      <td>Fully Paid</td>\n",
              "      <td>n</td>\n",
              "      <td>https://lendingclub.com/browse/loanDetail.acti...</td>\n",
              "      <td>medical</td>\n",
              "      <td>Medical expenses</td>\n",
              "      <td>439xx</td>\n",
              "      <td>OH</td>\n",
              "      <td>15.97</td>\n",
              "      <td>Dec-97</td>\n",
              "      <td>19-Jan</td>\n",
              "      <td>450.79</td>\n",
              "      <td>NaN</td>\n",
              "      <td>19-Jan</td>\n",
              "    </tr>\n",
              "  </tbody>\n",
              "</table>\n",
              "</div>"
            ],
            "text/plain": [
              "          LOAN_AMT  ... last_credit_pull_d\n",
              "id                  ...                   \n",
              "68516507     14000  ...             19-Jan\n",
              "\n",
              "[1 rows x 66 columns]"
            ]
          },
          "metadata": {
            "tags": []
          },
          "execution_count": 168
        }
      ]
    },
    {
      "cell_type": "code",
      "metadata": {
        "colab": {
          "base_uri": "https://localhost:8080/",
          "height": 812
        },
        "id": "ujTC-YrQCxUY",
        "outputId": "2116e417-3eb8-4109-c6f0-9e2ca2bdf001"
      },
      "source": [
        "x_train.iloc[:, :10]"
      ],
      "execution_count": 169,
      "outputs": [
        {
          "output_type": "execute_result",
          "data": {
            "text/html": [
              "<div>\n",
              "<style scoped>\n",
              "    .dataframe tbody tr th:only-of-type {\n",
              "        vertical-align: middle;\n",
              "    }\n",
              "\n",
              "    .dataframe tbody tr th {\n",
              "        vertical-align: top;\n",
              "    }\n",
              "\n",
              "    .dataframe thead th {\n",
              "        text-align: right;\n",
              "    }\n",
              "</style>\n",
              "<table border=\"1\" class=\"dataframe\">\n",
              "  <thead>\n",
              "    <tr style=\"text-align: right;\">\n",
              "      <th></th>\n",
              "      <th>LOAN_AMT</th>\n",
              "      <th>Business Title</th>\n",
              "      <th>Civil Service Title</th>\n",
              "      <th>Division/Work Unit</th>\n",
              "      <th>Job Description</th>\n",
              "      <th>Minimum Qual Requirements</th>\n",
              "      <th>Preferred Skills</th>\n",
              "      <th>Additional Information</th>\n",
              "      <th>To Apply</th>\n",
              "      <th>Hours/Shift</th>\n",
              "    </tr>\n",
              "    <tr>\n",
              "      <th>id</th>\n",
              "      <th></th>\n",
              "      <th></th>\n",
              "      <th></th>\n",
              "      <th></th>\n",
              "      <th></th>\n",
              "      <th></th>\n",
              "      <th></th>\n",
              "      <th></th>\n",
              "      <th></th>\n",
              "      <th></th>\n",
              "    </tr>\n",
              "  </thead>\n",
              "  <tbody>\n",
              "    <tr>\n",
              "      <th>68516507</th>\n",
              "      <td>14000</td>\n",
              "      <td>Compliance Review Unit Supervisor</td>\n",
              "      <td>ASSOCIATE STAFF ANALYST</td>\n",
              "      <td>Asst Comm Bdgt &amp; Clmng-Financ</td>\n",
              "      <td>As part of the Systems Support Office (SSO), t...</td>\n",
              "      <td>1. A masterâ€™s degree from an accredited coll...</td>\n",
              "      <td>NaN</td>\n",
              "      <td>Section 424-A of the New York Social Services ...</td>\n",
              "      <td>Click on the \"Apply Now\" button.</td>\n",
              "      <td>NaN</td>\n",
              "    </tr>\n",
              "    <tr>\n",
              "      <th>68475247</th>\n",
              "      <td>5000</td>\n",
              "      <td>Director, Deep Energy Retrofit Program</td>\n",
              "      <td>ADMINISTRATIVE CONSTRUCTION PR</td>\n",
              "      <td>Office of Energy Conservatio</td>\n",
              "      <td>The Department of Citywide Administrative Serv...</td>\n",
              "      <td>At least six years of full-time satisfactory e...</td>\n",
              "      <td>The preferred candidate will bring the followi...</td>\n",
              "      <td>NaN</td>\n",
              "      <td>Please go to www.nyc.gov/jobs or www.nyc.gov/e...</td>\n",
              "      <td>NaN</td>\n",
              "    </tr>\n",
              "    <tr>\n",
              "      <th>68506309</th>\n",
              "      <td>21000</td>\n",
              "      <td>Senior Capital Budget Analyst</td>\n",
              "      <td>ACCOUNTANT</td>\n",
              "      <td>Admin/Payments</td>\n",
              "      <td>Only candidates who filed for the Accountant t...</td>\n",
              "      <td>1. A baccalaureate degree from an accredited c...</td>\n",
              "      <td>Preference will be given to candidates who pos...</td>\n",
              "      <td>NaN</td>\n",
              "      <td>For City Employees, please go to Employee Self...</td>\n",
              "      <td>35 Hours</td>\n",
              "    </tr>\n",
              "    <tr>\n",
              "      <th>68386391</th>\n",
              "      <td>6400</td>\n",
              "      <td>Staff Analyst</td>\n",
              "      <td>STAFF ANALYST</td>\n",
              "      <td>Lead Hazard Control Department</td>\n",
              "      <td>The New York City Housing Authority (NYCHA) is...</td>\n",
              "      <td>1. A masterâ€™s degree from an accredited coll...</td>\n",
              "      <td>1.\\tExperience with public housing.  2.\\tExper...</td>\n",
              "      <td>NYCHA employees applying for promotional, titl...</td>\n",
              "      <td>Click the \"apply now\" button.</td>\n",
              "      <td>NaN</td>\n",
              "    </tr>\n",
              "    <tr>\n",
              "      <th>68496376</th>\n",
              "      <td>8000</td>\n",
              "      <td>CONTRACTS ATTORNEY</td>\n",
              "      <td>AGENCY ATTORNEY</td>\n",
              "      <td>LongTerm Planning&amp;Sustainablty</td>\n",
              "      <td>The NYC Department of Environmental Protection...</td>\n",
              "      <td>1. Admission to the New York State Bar; and ei...</td>\n",
              "      <td>NaN</td>\n",
              "      <td>DEP is an equal opportunity employer with a st...</td>\n",
              "      <td>Click on the \"Apply Now\" button.</td>\n",
              "      <td>35 hours</td>\n",
              "    </tr>\n",
              "    <tr>\n",
              "      <th>...</th>\n",
              "      <td>...</td>\n",
              "      <td>...</td>\n",
              "      <td>...</td>\n",
              "      <td>...</td>\n",
              "      <td>...</td>\n",
              "      <td>...</td>\n",
              "      <td>...</td>\n",
              "      <td>...</td>\n",
              "      <td>...</td>\n",
              "      <td>...</td>\n",
              "    </tr>\n",
              "    <tr>\n",
              "      <th>68475953</th>\n",
              "      <td>9000</td>\n",
              "      <td>PROJECT MANAGER</td>\n",
              "      <td>HOUSING DEVELOPMENT SPECIALIST</td>\n",
              "      <td>R E Dev For New Construction</td>\n",
              "      <td>Job Description  In December 2018, Mayor de Bl...</td>\n",
              "      <td>1. A baccalaureate degree from an accredited c...</td>\n",
              "      <td>Preferred Skills  1.Technical knowledge relate...</td>\n",
              "      <td>NYCHA employees applying for promotional, titl...</td>\n",
              "      <td>Click the \"Apply Now\" button.</td>\n",
              "      <td>NaN</td>\n",
              "    </tr>\n",
              "    <tr>\n",
              "      <th>68475140</th>\n",
              "      <td>10000</td>\n",
              "      <td>Program Manager, Clean Energy</td>\n",
              "      <td>ADMINISTRATIVE CONSTRUCTION PR</td>\n",
              "      <td>Office of Energy Conservatio</td>\n",
              "      <td>The Department of Citywide Administrative Serv...</td>\n",
              "      <td>At least six years of full-time satisfactory e...</td>\n",
              "      <td>The ideal candidate will bring the following s...</td>\n",
              "      <td>NaN</td>\n",
              "      <td>Please go to www.nyc.gov/jobs or www.nyc.gov/e...</td>\n",
              "      <td>NaN</td>\n",
              "    </tr>\n",
              "    <tr>\n",
              "      <th>68613638</th>\n",
              "      <td>14275</td>\n",
              "      <td>Construction Project Manager I</td>\n",
              "      <td>CONSTRUCTION PROJECT MANAGER</td>\n",
              "      <td>Facilities Maintenance</td>\n",
              "      <td>Non 55-a Program candidates will be required t...</td>\n",
              "      <td>1. A four-year high school diploma or its educ...</td>\n",
              "      <td>The ideal candidate will bring the following s...</td>\n",
              "      <td>Note: This position is open to qualified perso...</td>\n",
              "      <td>All resumes are to be submitted electronically...</td>\n",
              "      <td>NaN</td>\n",
              "    </tr>\n",
              "    <tr>\n",
              "      <th>68486448</th>\n",
              "      <td>18000</td>\n",
              "      <td>IT Security Officer</td>\n",
              "      <td>IT SECURITY SPECIALIST</td>\n",
              "      <td>Information Technology</td>\n",
              "      <td>The NYC Department of Probation (DOP) is a wor...</td>\n",
              "      <td>A baccalaureate degree from an accredited coll...</td>\n",
              "      <td>â€¢\\tExperience managing IT departments that s...</td>\n",
              "      <td>NaN</td>\n",
              "      <td>PLEASE SUBMIT RESUME, COVER LETTER   TO:  Exte...</td>\n",
              "      <td>NaN</td>\n",
              "    </tr>\n",
              "    <tr>\n",
              "      <th>67478211</th>\n",
              "      <td>13800</td>\n",
              "      <td>Climber &amp; Pruner</td>\n",
              "      <td>CLIMBER &amp; PRUNER</td>\n",
              "      <td>Deputy Comm of Operations</td>\n",
              "      <td>â€¢ Under supervision, perform all types of wo...</td>\n",
              "      <td>Six months of satisfactory, full-time experien...</td>\n",
              "      <td>NaN</td>\n",
              "      <td>Special Working Conditions:  1.\\tWhen respondi...</td>\n",
              "      <td>Parks Employees:\\t 1) From a Parks computer: A...</td>\n",
              "      <td>NaN</td>\n",
              "    </tr>\n",
              "  </tbody>\n",
              "</table>\n",
              "<p>2356 rows × 10 columns</p>\n",
              "</div>"
            ],
            "text/plain": [
              "          LOAN_AMT  ... Hours/Shift\n",
              "id                  ...            \n",
              "68516507     14000  ...         NaN\n",
              "68475247      5000  ...         NaN\n",
              "68506309     21000  ...    35 Hours\n",
              "68386391      6400  ...         NaN\n",
              "68496376      8000  ...    35 hours\n",
              "...            ...  ...         ...\n",
              "68475953      9000  ...         NaN\n",
              "68475140     10000  ...         NaN\n",
              "68613638     14275  ...         NaN\n",
              "68486448     18000  ...         NaN\n",
              "67478211     13800  ...         NaN\n",
              "\n",
              "[2356 rows x 10 columns]"
            ]
          },
          "metadata": {
            "tags": []
          },
          "execution_count": 169
        }
      ]
    },
    {
      "cell_type": "markdown",
      "metadata": {
        "id": "_bnbUexPhW31"
      },
      "source": [
        "# Dealing with missing values"
      ]
    },
    {
      "cell_type": "markdown",
      "metadata": {
        "id": "HXEVBXMoOoC9"
      },
      "source": [
        "check unqiue values in Division/Work Unit\n",
        "\n"
      ]
    },
    {
      "cell_type": "code",
      "metadata": {
        "colab": {
          "base_uri": "https://localhost:8080/"
        },
        "id": "lfMFrnOEHdXF",
        "outputId": "0dc13f59-8dc0-4426-dee6-b957bfcd5c0f"
      },
      "source": [
        "np.unique(x_train['Division/Work Unit'])\n",
        "\n",
        "\n"
      ],
      "execution_count": 170,
      "outputs": [
        {
          "output_type": "execute_result",
          "data": {
            "text/plain": [
              "array(['24th Precinct Civilian/Cadet', '311 Operations',\n",
              "       'A/C Prop Exemp Adm', 'ACCO Office', 'AEP',\n",
              "       'APM - Policy and Operations', 'Acco/Contracts',\n",
              "       'Accountability Office', 'Adm/Human Resources & Training',\n",
              "       'Admin Agen. And Elec Offic', 'Admin Executive Offices',\n",
              "       'Admin Law and Regulatory Lit.', 'Admin Services',\n",
              "       'Admin, GC, PI & Exec', 'Admin/Acco-Executive',\n",
              "       'Admin/Acco-Prof Contracts', 'Admin/Budget',\n",
              "       'Admin/Budget & Finance-Exec', 'Admin/Budget-Infra',\n",
              "       'Admin/Hr-Train and Staff Devel', 'Admin/Oper & Facilities-Exec',\n",
              "       'Admin/Payments', 'Administration', 'Administration & Planning',\n",
              "       'Administration of Justice', 'Administration-MO',\n",
              "       'Administration/Audits Account', 'Administration/Executive',\n",
              "       'Administration/Lefrak', 'Administration/P S Budget',\n",
              "       'Administration/Payroll Office', 'Administration/Personnel Srv',\n",
              "       'Administration/Procurement', 'Administration/Revenue Cla',\n",
              "       'Administrative Services.', 'Adult Protective Services-NM',\n",
              "       'Affirm LIT', 'Agency Compliance', 'Agy Program Assistance (DPPM)',\n",
              "       'Air Resource/Asbestos', 'Alcohol, Drug Prev & Treatment',\n",
              "       'Analysis & Reporting Dept', 'Analytics',\n",
              "       'App. Dev. & DB Administration', 'Appeals', 'Arsenal North Peps',\n",
              "       'Asset Management', 'Asset Mgmt/Construction Svcs',\n",
              "       'Asst Comm Bdgt & Clmng-Financ', 'Asst Comm Payments (Finance)',\n",
              "       'Audit & Internal Revenue Unit', 'Audit A/C Office',\n",
              "       'Audit Business Income Tax(BIT)', 'Audit Metro Personal IncomeTax',\n",
              "       'Authorized Parking & Permit', 'Automated Enforcement Unit',\n",
              "       'BBM Material Management', 'BCIA/BWS', 'BCS - Executive Office',\n",
              "       'BEPA/MS4-Muni Sepa Strm Sew Sy', 'BUSINESS TAX UNIT',\n",
              "       'Background Investigation', 'Banhaz Mat', 'Base/Business Services',\n",
              "       'Ben Neslin Lab', 'Bio-Watch Revenue Grant', 'Bldg Mgnt Office',\n",
              "       'Blue Belt Unit', 'Board Staff', 'Borough Enforcement',\n",
              "       'Borough President - Queens', 'Bridge Operations Headquarte',\n",
              "       'Bridges Roadways', 'Bronx Field Office (Dcp)', 'Bronx Office',\n",
              "       'Bronx Zone A (DCP)', 'Brooklyn Boro.Comm.',\n",
              "       'Brooklyn Field Office (Dcp)', 'Brooklyn Property Management',\n",
              "       'Brooklyn Zone A (DCP)', 'Budget', 'Budget Administration',\n",
              "       'Budget Administration-NM', 'Budget Directors Office',\n",
              "       'Budget Division', 'Budget, Accounting & Purchasng',\n",
              "       'Building Maintenance/CIV and C', 'Bureau of Bridges Exec Hdqtr',\n",
              "       'Bureau of Community Services', 'Bureau of Tech Deve and Syst',\n",
              "       'Business Center Operations', 'Business Dev & Strategy',\n",
              "       'Business Programs', 'C.E.D - B03,B04, B05, B06/Civ',\n",
              "       'CENTRAL POP', 'CEQR', 'CHECW - HEALTH INSURANCE',\n",
              "       'CHECW-HRLM NEIGHBORHOOD HLTH.', 'CP DC For Capital Projects',\n",
              "       'CP Sustainability Programs', 'Capital Budget Management',\n",
              "       'Capital Planning', 'Capital Planning Dept',\n",
              "       'Capital Planning Development', 'Capital Program Unit',\n",
              "       'Capital Projects Admin', 'Capital and MGMT Systems', 'Carmel',\n",
              "       'Catskill Div Off (Source Div)', 'Catskill/Delaware UV Plant',\n",
              "       'Census', 'Center Based Programs',\n",
              "       'Central Brookly City Operation', 'Central Recreation',\n",
              "       'Chaplaincy - Civilian', 'Chief Crime Ctrl Strategies/CV',\n",
              "       'Chief Deputies Prj Engrs Sec', 'Chief Diversity and Indust Rel',\n",
              "       'Chief Strategic Initiatives/CV', 'Child Care',\n",
              "       'Child and Family Well-Being', 'Citywide',\n",
              "       'Citywide Cybersecurity', 'Citywide System Analysis',\n",
              "       'Citywide User Support', 'Civ Serv & Prov Employees',\n",
              "       'Civilian Complaint Review Bd', 'Civilian Managers',\n",
              "       \"Clerk's Office BK\", \"Clerk's Office MA\", \"Clerk's Office QN\",\n",
              "       'Cloud Services', 'Comm.Rel.Bureau-Central', 'Commissioner',\n",
              "       'Commissioners Office', 'Community Development', 'Compass SONYC',\n",
              "       'Compass/SONYC Support', 'Concrete Enforcement',\n",
              "       'Concrete Quality Control', 'Conflicts of Interest Board',\n",
              "       'Const. Safety & Quality Dept', 'Constituent Services-NM',\n",
              "       'Construction Services', 'Construction/Administration',\n",
              "       'Contract Accounting', 'Contract Administration',\n",
              "       'Contract Opportunities', 'Contracts & Real Estate Divisi',\n",
              "       'Cornerstone Community Centers', 'Counsel', 'Counsels Office',\n",
              "       'Crim Justice Bureau/Civ and Ca', 'Criminal Court',\n",
              "       'Croton Filtration Plant', 'Customer Service',\n",
              "       'Customized Assist Svc-NM', 'DEFO Labor Services', 'DEP BT2',\n",
              "       'DHS Adult Services', 'DOF Cyber Security', 'DORMANT',\n",
              "       'DWOC Labs-Lefrak', 'DYFJ Central', 'Data Management Integration',\n",
              "       'Default', 'Del Div Office Delaware Upst',\n",
              "       'Dep Comm Pub Info/Civ and Cad', 'Department of Communications',\n",
              "       'Department of Sanitation', 'Dept of Environment Protection',\n",
              "       'Dept of Management & Planning', 'Deputy Comm Mgt & Budget Civ',\n",
              "       'Deputy Comm of Operations', 'Deputy Commissioner/Dev',\n",
              "       'Design & Construction', 'Design Department',\n",
              "       'Develop & Integration Services', 'Disposition Programs',\n",
              "       'Div of Field Op/Quality Assur', 'Douglaston Pump Station',\n",
              "       'Dpty Comm Fmly Prmncy Svcs-Fps', 'Dpty Comm Fnancl Svcs-Finance',\n",
              "       'Drainage Basin Monitoring', 'ECB - Manhattan Office',\n",
              "       'EDC - Water For The Future', 'EDP Audit -  Inspections', 'EEO',\n",
              "       'EHRT - Central', 'EMS Bureau of Training', 'ERP - Brooklyn',\n",
              "       'ERP - Manhattan', 'EVP - R E Dev/Special Proj',\n",
              "       'EVP for Compliance', 'Early Intervention', 'East River & Movable',\n",
              "       'Electrical Engineering - IFA', 'Electrical Unit',\n",
              "       'Elevator Services &Repair Dept', \"Emergency Childern's Svcs(Dcp)\",\n",
              "       'Employee Resources SEC/CIV', \"Employee's Asst Program\",\n",
              "       'Energy Group', 'Enforcement Admin', 'Enforcement Inspector',\n",
              "       'Eng, Design Const Supp', 'Engineering',\n",
              "       'Engineering Review & Support', 'Engineering and Audit',\n",
              "       'Environmental Assessment & R', 'Environmental Health & Safety',\n",
              "       'Environmental Health Safety', 'Environmental Health/Safety',\n",
              "       'Environmental Planning Support', 'Envrnmntl Planng/Ofc of Brnf',\n",
              "       'Equal EMP OPP, DIV & Inclusion', 'Equal Employment Practices C',\n",
              "       'Exec. Office Finance & Admin', 'Exec. Office USB', 'Executive',\n",
              "       'Executive Deputy Com', 'Executive Management',\n",
              "       'Executive Office (Finance)', 'Executive Staff',\n",
              "       'Executive Support Staff', 'Executive-Housing Incentives',\n",
              "       'External Affairs', 'F&Ga Admin-St George',\n",
              "       'F&Ga Deckhands-St George', 'F&Ga Marine Oilers-St George',\n",
              "       'F&Ga-Dockbuilders', 'F.M.R.D. Civilian', 'FAC MGMT/BS_80 CENTRE',\n",
              "       'FAC MGMT/BS_MAN MUNI BLDG', 'FAC MGMT/BS_PSAC II',\n",
              "       'FAC MGMT/EXECUTIVE', 'FAC MGMT/MMO_FAMILY COURT',\n",
              "       'FCH Administration', 'Facilities', 'Facilities (Admin)',\n",
              "       'Facilities Maintenance', 'Facilities Management',\n",
              "       'Facility Mgmt Div/Civ & Cad', 'Fair Fare Program - NM',\n",
              "       'Family Court Legal Svcs-Fcls', 'Family Court: Bronx',\n",
              "       'Family Court: Brooklyn', 'Family Court: New York',\n",
              "       'Family Court: Queens', 'Family assessment Program-YFJ',\n",
              "       'Ferry Engineering', 'Field Operations Department',\n",
              "       'Financial Management', 'Financial Management &Analysis',\n",
              "       'Financial Operations', 'Financial Planning & Analysis',\n",
              "       'Financial Services', 'Financial Systems', 'Fire & Sanitation',\n",
              "       'First Deputy', 'Fiscal', 'Fiscal Affairs Div/Civ',\n",
              "       'Fiscal Management', 'Fiscal Services',\n",
              "       'Fitness Review Unit (FRU)', 'Fleet Maintenance Division',\n",
              "       'Food Safety & Community Sanit', 'Forensic Invest Div/Civ & Cade',\n",
              "       'Forestry & Horticulture', 'Franchise/Concessions/Consents',\n",
              "       'General Counsel', 'General Counsels Office',\n",
              "       'General Counselâ€™s Office', 'General Services',\n",
              "       'Green Infrastructure', 'HCV Unit', 'HIV Administration',\n",
              "       'HPD Tech', 'HR Central', 'HR-EEO Office',\n",
              "       'Hasa Hiv/Aids Svcs Admin-NM', 'Hawthorne Lab', 'Headstart (ECE)',\n",
              "       'Health Academy', 'Health Care Policy & Admin',\n",
              "       'Health Support Services', 'Heating Mgmt & Svcs Dept',\n",
              "       'Heavy Construction/Administrat', 'High-Rise',\n",
              "       'Horizon Juvenile Center', 'Housing & Economic Development',\n",
              "       'Housing Litigation', 'Housing Policy', 'Housing Supervision',\n",
              "       'Housing/Eco Develop', 'Human Capital', 'Human Resources',\n",
              "       'Human Resources Department', 'Hw Ops-Quality Control',\n",
              "       'I.F.A.-Sources Construction', 'IBM Complex', 'IFA',\n",
              "       'INFO TECHNOLOGY BUREAU/CV', 'INFO TECHNOLOGY SRV DIV/CIV', 'IT',\n",
              "       'IT & Telecom', 'IT Operations Admind', 'IT Service Management',\n",
              "       'IT Strategy Project Management', 'ITD- Application Development',\n",
              "       'ITD- CIO Office', 'ITS', 'Immunization Registry',\n",
              "       'Inclusionary Housing', 'Industry Partnerships', 'Info Technology',\n",
              "       'Information Security', 'Information Systems',\n",
              "       'Information Systems-Admin', 'Information Technology',\n",
              "       'Infra And Tech Arch', 'Infra, Librar. And Cultural',\n",
              "       'Infra-Coastal Resiliency', 'Infra-Const-Various',\n",
              "       'Infra-Design-Various', 'Infra-Executive',\n",
              "       'Infra-Program Admin-Executive', 'Infrastructure MGMT Admin',\n",
              "       'Integration/Professional Devel', 'Internal Audit',\n",
              "       'Internal Audits & Discipline', 'Investigation Division',\n",
              "       'JOCS- IFA', 'Labor & Employment Law Div F',\n",
              "       'Labor Policy And Standards', 'Labor Relations', 'Land Use Review',\n",
              "       'Landlord Tenant Division', 'Landmarks', 'Landuse', 'Law',\n",
              "       'Law Department', 'Law Enforc.Bureau Executive',\n",
              "       'Law and Adjustment', 'Lead Hazard Control Department',\n",
              "       'Lead Insps - Manhattan/Bronx', 'Lead Monitor - Lefrak',\n",
              "       'Leased Housing Finance', 'Legal Administration', 'Legal Affairs',\n",
              "       'Legal Bureau/Civ and Cadet', 'Legal Counsel',\n",
              "       'Legal Support Unit', 'Life-Safety Systems Div/Civ',\n",
              "       'Litigation Support', 'Litigation Svs and Record Mgmt',\n",
              "       'LongTerm Planning&Sustainablty', 'MH - Assisted out Treatment',\n",
              "       'MHY Comm Eng Pol & Prac', 'MIRH Nurse Family Partnership',\n",
              "       'MN BORO REC', 'MN MARINA', \"MODA-Mayor's Off Data Analytic\",\n",
              "       \"MOTI-Mayor's Off Tech & Innova\", \"MVEP/Gen'l Counsel\",\n",
              "       'Maint, Repair & Skilled Trades', 'Management Audit',\n",
              "       'Management Information Service', 'Management Information Systems',\n",
              "       'Management Services Department', 'Manhattan Community Board #8',\n",
              "       'Manhattan Office', 'Manhattan Property Management',\n",
              "       'Marine Operations', 'Marine Section', 'Materials Mgmt Dept',\n",
              "       \"Mayor's Office of Operations\", \"Mayor's Office/Cityhall\",\n",
              "       'Mechanical Engineering - IFA', 'Medical', 'Medical Office',\n",
              "       'Mental Health', 'Mgmt Information System-MGR',\n",
              "       'Mgmt Information System-NM', 'Mis Admin,Network Sysms Dvlpmt',\n",
              "       'Mixed Finance Property MGMT', 'Motor Equipment Office',\n",
              "       'Motor Maintenance', 'Motor Vehicle Inspectors',\n",
              "       'Munic Finance (Full - Time)', 'NMO', 'NYC Gov Lab & Studio',\n",
              "       'NYSERDA Grant', 'Natural Resources Group',\n",
              "       'Neighborhood Advisory Board', 'Neighborhood Development',\n",
              "       'Network/Voip Arch & Engineer', 'New Clove Pump Sta Cty Opr R',\n",
              "       'New Construction', 'Not Used', 'Nutrition',\n",
              "       'Nutritional Services', 'OCMC', 'OCME-Admin', 'OCME-DNA',\n",
              "       'OCME-Operations', 'OFC of Financial Empowerment',\n",
              "       'OFFICE POLICE OPS - NM', 'OGI- IFA', 'OGI-BEDC', 'OIG NYPD',\n",
              "       'OIT / BWS', 'OIT/WT', 'ONS - Community Partnerships',\n",
              "       'OPS Risk Management', 'OPS/Business Support',\n",
              "       'OPS/FS/Operations Support', 'OPS/FS/Technical Services',\n",
              "       'OPS/FS/Technical Systems', 'OPS/HRP Technical Services',\n",
              "       'OPS/Operations Support', 'OPS/SS Technical Services',\n",
              "       'OPS/Technical Systems', 'OTPS', 'Off Of Qual Asse-Fisc Int NM',\n",
              "       'Off Of Supp Accountability-NM', 'Off Prev Tech Assistance (FSS)',\n",
              "       'Office Of Chld & Fmly Health', 'Office Of Design',\n",
              "       'Office Of Youth Develpment-Fps', 'Office of Agency Chief Engnr',\n",
              "       'Office of Budge Review (MGRL)', 'Office of Budget Review',\n",
              "       'Office of Data & Technology', 'Office of Driver Education',\n",
              "       'Office of EVP - Operations', 'Office of Energy Conservatio',\n",
              "       'Office of Equity', 'Office of External Affairs',\n",
              "       'Office of Public Affairs', 'Office of The Commissioner',\n",
              "       'Office of Trials', 'Office of the CFO', 'Office of the Chair',\n",
              "       'Office of the Commissioner', 'Office of the Inspect General',\n",
              "       'Operations', 'Ordered Deductions', 'Org. Learn. & Dev.',\n",
              "       'Parking Adm-Exec', 'Part Time Employees', 'Path/Intake',\n",
              "       'Patrol Services Bureau Civ & C', 'Pepacton/Downsville Sub Del',\n",
              "       'Permit Control Section SI', 'Permit Management', 'Personnel',\n",
              "       'Personnel Bureau/Civ & Cad', 'Personnel MGMT and ADMIN',\n",
              "       'Personnel Office', 'Pest Control Services',\n",
              "       'Placement Services - FPS', 'Planning', 'Plant Construction',\n",
              "       'Poison Control Center', 'Police Lab/Civilian', 'Policy',\n",
              "       'Prevention & Intervention Stra', 'Preventive Maintenance',\n",
              "       'Printing Section Civ & Cadet', 'Process Control',\n",
              "       'Process Development', 'Procurement', 'Procurement Department',\n",
              "       'Procurement Unit', 'Production Graphics',\n",
              "       'Prog Mgmt/Eao-Manhattan', 'Prog Mgmt/Prog Control-Exec',\n",
              "       'Prog Mgmt/Sss-Environ Planning', 'Prog Mgmt/Sss-Executive',\n",
              "       'Program Management', 'Program Management Office',\n",
              "       'Programs & Operations', 'Project Based Unit',\n",
              "       'Project Development - IFA', 'Project Mgmt Dept Team 1',\n",
              "       'Project Mgmt Dept Team 2', 'Project Mgmt Dept Team 3',\n",
              "       'Prop Clerk Div Bklyn/Civ and C', 'Property Modeling & Research',\n",
              "       'Prosecution Division', 'Pub Bldgs/A&E-Arch',\n",
              "       'Pub Bldgs/A&E-Bldg Assess', 'Pub Bldgs/A&E-Eng-Elec',\n",
              "       'Pub Bldgs/A&E-Sust Des', 'Pub Bldgs/Corrections',\n",
              "       'Pub Bldgs/Cultural', 'Pub Bldgs/Libraries', 'Pub Bldgs/Various',\n",
              "       'Public Adminstrator-New York', 'Public Affairs',\n",
              "       'Public Safety IT Programs', 'Public Safety IT Services',\n",
              "       'Public/Private Partnerships', 'QA Compliance & Training Dept',\n",
              "       'Qns Boro Comm Off', 'Quality Improvement (Qa)', 'Queens Office',\n",
              "       'Queens/SI Property Mgmt', 'R E Dev For New Construction', 'REES',\n",
              "       'RMB Quality Assur. Div/Civ', 'RRM Art (Admin)',\n",
              "       'RRM Fleet (Brooklyn)', 'RRM Fleet (Harper St)',\n",
              "       'Real Est/Portfolio Plng & Mgmt', 'Records and Archive Management',\n",
              "       'Red Hook', 'Refunds', 'Reg Control', 'Regional Planning',\n",
              "       'Regulatory Affairs Division', 'Regulatory Compliance',\n",
              "       'Res/Financial Services', 'Research Dev & Plan',\n",
              "       'Research and Reconciliation', 'Resident Engagement Dept',\n",
              "       'Residtl, Condo & Remissions', 'Rev Construction Compliance',\n",
              "       'Revenue Mgmt/Development-NM', 'Richmond Chlortn Cty Oprtn Re',\n",
              "       'Risk Mitigation Divison/Civ', 'Rondout Neversink Sec Del Up',\n",
              "       'S8 Appeals', 'SB1 Regulatory Reform', 'SH Administration',\n",
              "       'SH Medical', 'SH Nursing Services & Prof Dev',\n",
              "       'SH Reproductive Health', 'SRM: Elig/Rpt/Sys Spprt-P&P',\n",
              "       'STI Administration', 'STI Case Invstgn & Partner Srv',\n",
              "       'STI Clinic Ops & Patient Srvs', 'STI Medical Services',\n",
              "       'STI Special Projects', 'SYEP', 'Safety & Emissions Admin',\n",
              "       'Safety Education', 'Satterwhite Academy (DPPM)',\n",
              "       'Sewer Analysis (IFA)', 'Sewer Analysis - T/L',\n",
              "       'Sewer Maintenance - Q4', 'Sidewalk/inspection Management',\n",
              "       'Social Services', 'Spec Advisor For Invstgtion-Cr',\n",
              "       'Special Adjudic/Appls/Cau/Obd', 'Special Applications',\n",
              "       'Special Victims', 'Specialized Training Section', 'Squad 10',\n",
              "       'Squad 2', 'Squad 5', 'Squad 6', 'Staffing Admin SEC/CIV',\n",
              "       'Stn (6) Ctrl Opr Ctr - Plt O', 'Strategic Ops & Analytics',\n",
              "       'Strategic Resource Mgt-P&P', 'Strategic Technology Div/Civ',\n",
              "       'Strategy & Analytics', 'Street Lighting Engineering',\n",
              "       'Structural Engineering - IFA', 'Structural Section Plants',\n",
              "       'Support Svcs Bureau Civ and Ca', 'Sustainability Enforcement',\n",
              "       'Sys Oper South East Hudson U', 'Sys Operations-Bx Mgmt Eng',\n",
              "       'System Operations Management', 'TB Clinic Operations',\n",
              "       'Tax Mapping Unit', 'Tax Policy', 'Tech Talent Pipeline',\n",
              "       'Technical Review', 'Technical Services Department', 'Technology',\n",
              "       'Technology Strategy', 'Tenant Resources - Exec & IT',\n",
              "       'Tf. Eng./Elect Shop', 'Timekeeping/BEDC', 'Title IV-E',\n",
              "       'Tort: Bronx', 'Tort: Bronx (Part-Time)', 'Tort: Brooklyn',\n",
              "       'Tort: New York', 'Tort: New York (Part-Time)',\n",
              "       'Traffic Deputy Commissioner', 'Training/Learning Center',\n",
              "       'Transit Bureau-D33/CIV and CAD', 'TransitBenefit',\n",
              "       'Trf Control & Eng Admin', 'Trial Division Central Suppo',\n",
              "       'Truck Main Maintenance', 'Union Services',\n",
              "       'Universal Metering InspectionÂ', 'VP PHO-BK, MF, QN/SI, P&PD',\n",
              "       'VP PHO-BX, MN, NEXTGEN OPS1', 'VP for CP QA & Admin',\n",
              "       'VP for Project Management', 'VP-Leased HSG & Tenancy Admin',\n",
              "       'Vital Statistics/Vital Recor', 'Vulnerable Youth &At-riskYout',\n",
              "       'W   S/Connections Permitting', 'WDD Quality Assurance',\n",
              "       'WEC/Central Office CIS', 'WF1 Operations', 'WIOA Support',\n",
              "       'WSO-Excecutive Support Divisio', 'WSO-Executive/Tech Mgmt Office',\n",
              "       'WSO-OGI Maintenance', 'WT- Reg Complnc & Admin/Persnl',\n",
              "       'WT-Energy', 'WT-Indus Inspection&Permitting',\n",
              "       'Water Quality Unit', 'Water Register/Inspect Bklyn',\n",
              "       'Water Register/Inspection QN', 'Water Supply Gen Storehouse #1',\n",
              "       'Water Supply/Administration', 'Water Supply/Design Div (WRD)',\n",
              "       'Water Supply/Field Oper Mgt', 'Water Supply/Mapping Division',\n",
              "       'Water Supply/Mgmt Support', 'Water Supply/Test Operatns W',\n",
              "       'Waterfront Permits', 'Watshed Plan Protec/Ashokan', 'Wib',\n",
              "       'Wireless Technologies', 'Workers Comp', 'Workforce Training',\n",
              "       'World Trde Centr Hlth Registry', 'Wtr Sup/179 St Pump Sta Sys',\n",
              "       'Zoning'], dtype=object)"
            ]
          },
          "metadata": {
            "tags": []
          },
          "execution_count": 170
        }
      ]
    },
    {
      "cell_type": "code",
      "metadata": {
        "colab": {
          "base_uri": "https://localhost:8080/"
        },
        "id": "pZwrawbbJEcr",
        "outputId": "b526ab3c-1099-48e6-a79c-9378bfdbccfd"
      },
      "source": [
        "x_train['Division/Work Unit'].value_counts()"
      ],
      "execution_count": 171,
      "outputs": [
        {
          "output_type": "execute_result",
          "data": {
            "text/plain": [
              "Executive Management              49\n",
              "Central Brookly City Operation    29\n",
              "Administration                    28\n",
              "Citywide Cybersecurity            25\n",
              "Default                           25\n",
              "                                  ..\n",
              "Process Control                    1\n",
              "Preventive Maintenance             1\n",
              "MODA-Mayor's Off Data Analytic     1\n",
              "Water Register/Inspect Bklyn       1\n",
              "Capital Planning Development       1\n",
              "Name: Division/Work Unit, Length: 640, dtype: int64"
            ]
          },
          "metadata": {
            "tags": []
          },
          "execution_count": 171
        }
      ]
    },
    {
      "cell_type": "markdown",
      "metadata": {
        "id": "cPcZeWHAOzw_"
      },
      "source": [
        "check unqiue values in Division/Work Unit"
      ]
    },
    {
      "cell_type": "code",
      "metadata": {
        "id": "IZUhPvqbPA_H"
      },
      "source": [
        "#np.unique(x_train['Minimum Qual Requirements'])\n"
      ],
      "execution_count": 172,
      "outputs": []
    },
    {
      "cell_type": "code",
      "metadata": {
        "colab": {
          "base_uri": "https://localhost:8080/"
        },
        "id": "scCKEjb4PCJ6",
        "outputId": "9ef90cc4-6b65-4f9c-8452-2197cc17c4f1"
      },
      "source": [
        "x_train['Minimum Qual Requirements'].value_counts()"
      ],
      "execution_count": 173,
      "outputs": [
        {
          "output_type": "execute_result",
          "data": {
            "text/plain": [
              "1. A baccalaureate degree from an accredited college and two years of experience in community work or community centered activities in an area related to the duties described above; or  2. High school graduation or equivalent and six years of experience in community work or community centered activities in an area related to the duties as described above; or  3. Education and/or experience which is equivalent to \"1\" or \"2\" above. However, all candidates must have at least one year of experience as described in \"1\" above.                                                                                                                                                                                                                                                                                                                                                                                                                                                                                                                                                                                                                                                                                                                                                                                                                                                                                                                                                                                                                                                                                                                                                                                                                                                                                                                                                                                                                                                                                                                                                                                                                                                                                                                                                                                                                                                                                                                                                                                                                                                                                                                                                                                                                                                                                                                                                                                                                                                                                                                                                                                                                                                                                                                                                                                                                                                                                                                    143\n",
              "1. Admission to the New York State Bar; and either \"2\" or \"3\" below.  2. One year of satisfactory United States legal experience subsequent to admission to any state bar; or   3. Six months of satisfactory service as an Agency Attorney Interne (30086).    Incumbents must remain Members of the New York State Bar in good standing for the duration of this employment.  In addition to meeting the minimum Qualification Requirements:  To be assigned to Assignment Level (AL) II, candidates must have one year of experience at Assignment Level I or two years of comparable legal experience subsequent to admission to the bar, in the areas of law related to the assignment. To be assigned to AL III candidates must have two years of experience in Assignment Levels I and/or II or three years of comparable legal experience subsequent to admission to the bar, in the areas of law related to the assignment.                                                                                                                                                                                                                                                                                                                                                                                                                                                                                                                                                                                                                                                                                                                                                                                                                                                                                                                                                                                                                                                                                                                                                                                                                                                                                                                                                                                                                                                                                                                                                                                                                                                                                                                                                                                                                                                                                                                                                                                                                                                                                                                                                                                                                                                                                                                                                                                                                                                                                                                               83\n",
              "(1) Four (4) years of full-time, satisfactory experience in civil engineering work; and   (2) A valid New York State Professional Engineerâ€™s License. Current New York State registration as a Professional Engineer must be maintained for the duration of your employment.    A masters degree in civil engineering from an accredited college or university, accredited by regional, national, professional or specialized agencies recognized as accrediting bodies by the U.S. Secretary of Education and by the Council for Higher Education Accreditation (CHEA) may be substituted for one year of the civil engineering experience required in â€œ1\" above.  Special Note:  In addition to above qualification requirements, to be eligible for placement in Assignment Levels II and III, individuals must have at least one year within the last three years of experience as a major contributor or a project leader on a complex project requiring additional and specific expertise in the disciplines needed to design or construct the project.                                                                                                                                                                                                                                                                                                                                                                                                                                                                                                                                                                                                                                                                                                                                                                                                                                                                                                                                                                                                                                                                                                                                                                                                                                                                                                                                                                                                                                                                                                                                                                                                                                                                                                                                                                                                                                                                                                                                                                                                                                                                                                                                                                                                                                                                                                                                                                                                  72\n",
              "1.  For Assignment Level I (only physical, biological and environmental sciences and public health) A master's degree from an accredited college or university with a specialization in an appropriate field of physical, biological or environmental science or in public health.  To be appointed to Assignment Level II and above, candidates must have:  1. A doctorate degree from an accredited college or university with specialization in an appropriate field of physical, biological, environmental or social science and one year of full-time experience in a responsible supervisory, administrative or research capacity in the appropriate field of specialization; or  2. A master's degree from an accredited college or university with specialization in an appropriate field of physical, biological, environmental or social science and three years of responsible full-time research experience in the appropriate field of specialization; or  3. Education and/or experience which is equivalent to \"1\" or \"2\" above. However, all candidates must have at least a master's degree in an appropriate field of specialization and at least two years of experience described in \"2\" above. Two years as a City Research Scientist Level I can be substituted for the experience required in \"1\" and \"2\" above.    NOTE:  Probationary Period  Appointments to this position are subject to a minimum probationary period of one year.                                                                                                                                                                                                                                                                                                                                                                                                                                                                                                                                                                                                                                                                                                                                                                                                                                                                                                                                                                                                                                                                                                                                                                                                                                                                                                                                                                                                                                                                                                                                                                                                                                                                                                                                                                                                                                                                                                                                                                                                     67\n",
              "1. A four-year high school diploma or its educational equivalent approved by a Stateâ€™s Department of Education or a recognized accrediting organization, and five years of full-time satisfactory experience managing and/or inspecting one or more construction projects which must have a total cost of at least $300,000 for each of the five years of the required experience; or  2. One year of the experience as described in â€œ1â€ above and a baccalaureate degree from an accredited college or university, accredited by regional, national, professional or specialized agencies recognized as accrediting bodies by the U. S. Secretary of Education and by the Council for Higher Education Accreditation (CHEA), in engineering, engineering technology, architecture, architectural technology, landscape architecture, construction, construction technology, or construction management; or  3. One year of the experience as described in â€œ1â€ above and a valid license as a professional engineer, registered architect, or registered landscape architect, issued by a board of examining engineers, architects, or landscape architects duly established and qualified pursuant to the laws of any state or territory of the United States; or  4. A four-year high school diploma or its educational equivalent approved by a State's Department of Education or a recognized accrediting organization, and a combination of at least two years of experience as described in â€œ1â€ above and the education as described in â€œ2â€ above to equal a total of five years of education and experience. Matriculation in an undergraduate college degree program as described in â€œ2â€ above may be substituted for experience on the basis of 30 semester credits for one year of satisfactory full-time experience up to a maximum of three years of experience.     Note: Candidates must specify for each construction project they worked on: a description of the construction project, the time period they worked on the construction project, and the type of work they performed. Candidates must also specify the money allotted for the project.    Driver License Requirement: At the time of appointment to this position, you must have a motor vehicle driver license valid in the State of New York. If you have moving violations, license suspension or an accident record, you may be disqualified. This license must be maintained for the duration of your employment.    5. For Assignment to Level II, In addition to meeting the \"Qualification Requirements\" above, candidates must have one additional year of satisfactory full-time experience working in Assignment Level I; or one additional year of satisfactory full-time experience as described in \"1\" above.  6.  For Assignment to Level III, in addition to meeting the Qualification Requirements for Construction Project Manager, candidates must have two additional years of satisfactory full-time experience working in Construction Project Manager Assignment Level I and II; or two additional years of satisfactory full-time experience as described in question \"1\" above and possess a motor vehicle driver license valid in the State of New York which must be maintained for the duration of employment noting that if you have moving violations, license suspension or an accident record, you may be disqualified.     64\n",
              "                                                                                                                                                                                                                                                                                                                                                                                                                                                                                                                                                                                                                                                                                                                                                                                                                                                                                                                                                                                                                                                                                                                                                                                                                                                                                                                                                                                                                                                                                                                                                                                                                                                                                                                                                                                                                                                                                                                                                                                                                                                                                                                                                                                                                                                                                                                                                                                                                                                                                                                                                                                                                                                                                                                                                                                                                                                                                                                                                                                                                                                                                                                                                                                                                                                                                                                                                                                                                                                                 ... \n",
              "1. A baccalaureate degree from an accredited college or university accredited by regional, national, professional, or specialized agencies recognized as accrediting bodies by the U.S. Secretary of Education and by the Council for Higher Education Accreditation (CHEA).     Additional Information: Section 424-a of the New York State Social Services Law requires an authorized agency to inquire whether a candidate for employment with child-care responsibilities is or has been the subject of an indicated child abuse and maltreatment report on file with the State Central Register for child abuse and maltreatment. State Central Register screening will be conducted prior to considering a candidate for employment as a Caseworker. Candidates who have been the subject of an indicated child abuse and maltreatment report will not be assigned to any position which requires child-care responsibilities. Employees who have been the subject of such a report may be reassigned or terminated from employment from their positions as Caseworker.                                                                                                                                                                                                                                                                                                                                                                                                                                                                                                                                                                                                                                                                                                                                                                                                                                                                                                                                                                                                                                                                                                                                                                                                                                                                                                                                                                                                                                                                                                                                                                                                                                                                                                                                                                                                                                                                                                                                                                                                                                                                                                                                                                                                                                                                                                                                                                                       1\n",
              "The preferred candidate will have excellent analytical and interpersonal skills, strong communication and organizational skills, and a track record of effectively handling multiple priorities. The candidate will also have the ability to engage a diverse constituency and work productively under pressure, both as an individual and part of a team. The skills and qualifications required are:  â€¢\\tBachelorâ€™s degree from an accredited institution;  â€¢\\tStrong analytical skills and attention to detail;  â€¢\\tStrong oral communication, writing and editing skills;  â€¢\\tExceptional interpersonal skills and ability to interact with stakeholders  â€¢\\tHighly organized and with excellent ability to manage multiple priorities;  â€¢\\tAbility to self-start and complete assignments in a timely and effective manner;  â€¢\\tAbility to adapt to changing conditions quickly and effectively;  â€¢\\tSound judgment and critical thinking skills;  â€¢\\tComfortable in a high-pressure work environment;  â€¢\\tAbility to work flexible hours and occasional weekends;  â€¢\\tExcellent PC Skills â€“ facility with Microsoft Office Suite, especially Word, Excel, and PowerPoint;                                                                                                                                                                                                                                                                                                                                                                                                                                                                                                                                                                                                                                                                                                                                                                                                                                                                                                                                                                                                                                                                                                                                                                                                                                                                                                                                                                                                                                                                                                                                                                                                                                                                                                                                                                                                                                                                                                                                                                                                                                                                                                                                                                                                                                                           1\n",
              "1. A four-year high school diploma or its educational equivalent and four years of satisfactory full-time experience in one or more of the fields of accounting, auditing, correction administration, criminal justice administration and planning, forensic science, inspection, investigation, law enforcement, personnel administration, police science, and security, or in a major operational area of the agency in which the appointment is to be made; or  2. A baccalaureate degree from an accredited college; or  3. Education and/or experience equivalent to \"1\" or \"2\" above.                                                                                                                                                                                                                                                                                                                                                                                                                                                                                                                                                                                                                                                                                                                                                                                                                                                                                                                                                                                                                                                                                                                                                                                                                                                                                                                                                                                                                                                                                                                                                                                                                                                                                                                                                                                                                                                                                                                                                                                                                                                                                                                                                                                                                                                                                                                                                                                                                                                                                                                                                                                                                                                                                                                                                                                                                                                                         1\n",
              "1. A four-year high school diploma or its educational equivalent and permanent employment in the Human Resources Administration/Department of Social Services, Department of Citywide Administrative Services, or New York City Police Department as a:  Clerical Associate;  Secretary;  Case Aide  Eligibility Specialist; * Human Resources Technician;  * Human Resources Technician (Employment Development and Training);  * Senior Human Resources Technician;  * Senior Human Resources Technician (Employment Development and Training);  or Police Administrative Aide.  * For present permanent incumbents only.  Appointment to this title will be made only through a Non-Competitive examination pursuant to Personnel Rule 6.1.9 as part of a training program authorized by the New York City Department of Citywide Administrative Services.                                                                                                                                                                                                                                                                                                                                                                                                                                                                                                                                                                                                                                                                                                                                                                                                                                                                                                                                                                                                                                                                                                                                                                                                                                                                                                                                                                                                                                                                                                                                                                                                                                                                                                                                                                                                                                                                                                                                                                                                                                                                                                                                                                                                                                                                                                                                                                                                                                                                                                                                                                                                       1\n",
              "1. Two years of full-time satisfactory experience within the last ten years operating and maintaining high pressure boilers or the equivalent marine experience; or  2. Not less than one year of experience as described in \"1\" above plus sufficient training of a relevant nature acquired in an approved trade or vocational high school to make up the equivalent of the remaining required experience. Six months of acceptable experience will be credited for each year of approved trade or vocational high school.                                                                                                                                                                                                                                                                                                                                                                                                                                                                                                                                                                                                                                                                                                                                                                                                                                                                                                                                                                                                                                                                                                                                                                                                                                                                                                                                                                                                                                                                                                                                                                                                                                                                                                                                                                                                                                                                                                                                                                                                                                                                                                                                                                                                                                                                                                                                                                                                                                                                                                                                                                                                                                                                                                                                                                                                                                                                                                                                        1\n",
              "Name: Minimum Qual Requirements, Length: 329, dtype: int64"
            ]
          },
          "metadata": {
            "tags": []
          },
          "execution_count": 173
        }
      ]
    },
    {
      "cell_type": "code",
      "metadata": {
        "colab": {
          "base_uri": "https://localhost:8080/"
        },
        "id": "HrAtssJ4f5vs",
        "outputId": "2146cc1d-62bc-420b-e204-6aec13060f51"
      },
      "source": [
        "a=x_train.shape\n",
        "print('the shape of x_train is ',a)\n",
        "\n",
        "b= percent_missing = x_train.isnull().sum() * 100 / len(x_train)\n",
        "print('total null values in x_train is ',b)\n"
      ],
      "execution_count": 174,
      "outputs": [
        {
          "output_type": "stream",
          "text": [
            "the shape of x_train is  (2356, 66)\n",
            "total null values in x_train is  LOAN_AMT                0.000000\n",
            "Business Title          0.000000\n",
            "Civil Service Title     0.000000\n",
            "Division/Work Unit      0.000000\n",
            "Job Description         0.000000\n",
            "                         ...    \n",
            "earliest_cr_line        0.000000\n",
            "last_pymnt_d            0.000000\n",
            "last_pymnt_amnt         0.000000\n",
            "next_pymnt_d           88.539898\n",
            "last_credit_pull_d      0.000000\n",
            "Length: 66, dtype: float64\n"
          ],
          "name": "stdout"
        }
      ]
    },
    {
      "cell_type": "markdown",
      "metadata": {
        "id": "wtsovK7tXBdp"
      },
      "source": [
        "check unqiue values in Preferred Skills"
      ]
    },
    {
      "cell_type": "markdown",
      "metadata": {
        "id": "LO8RJ15ni_LF"
      },
      "source": [
        "next_pymnt_d has 70.80 %missing values so we delete this column"
      ]
    },
    {
      "cell_type": "code",
      "metadata": {
        "colab": {
          "base_uri": "https://localhost:8080/"
        },
        "id": "NFkVU9zPXQLN",
        "outputId": "689ca989-93ac-4819-a52a-3015ce012ec1"
      },
      "source": [
        "#np.unique(x_train['Preferred Skills'])\n",
        "x_train['Preferred Skills'].value_counts()"
      ],
      "execution_count": 175,
      "outputs": [
        {
          "output_type": "execute_result",
          "data": {
            "text/plain": [
              "ERROR: #NAME?                                                                                                                                                                                                                                                                                                                                                                                                                                                                                                                                                                                                                                                                                                                                                                                                                                                                                                                                                                             35\n",
              "Interested candidates should have excellent written and verbal communication skills, effective problem-solving skills, and the ability to prioritize, manage time, and engage in multiple tasks in a fast-paced environment. Although not required, the successful applicant will likely have one or more of the following academic or professional experiences: litigation, and/or customer relations.  Bilingual proficiency preferred.                                                                                                                                                                                                                                                                                                                                                                                                                                                                                                                                                 15\n",
              "Ability to communicate effectively in verbal and written form.                                                                                                                                                                                                                                                                                                                                                                                                                                                                                                                                                                                                                                                                                                                                                                                                                                                                                                                             9\n",
              "A valid NYS Driver's License is required for this position.                                                                                                                                                                                                                                                                                                                                                                                                                                                                                                                                                                                                                                                                                                                                                                                                                                                                                                                                8\n",
              "1.\\tKnowledge of Microsoft Word, Excel, Outlook, Access and PowerPoint.   2.\\tOffice experience as well as demonstrable background dealing with members of the public. 3.\\tExcellent oral and written communication skills. 4.\\tHistory of volunteerism, such as service in the AmericCorps or Peace Corps, is viewed favorably.                                                                                                                                                                                                                                                                                                                                                                                                                                                                                                                                                                                                                                                           7\n",
              "                                                                                                                                                                                                                                                                                                                                                                                                                                                                                                                                                                                                                                                                                                                                                                                                                                                                                                                                                                                          ..\n",
              "QUALIFICATIONS:  â€¢\\tExperience in developing audit and compliance procedures, reports and responses.    â€¢\\tExceptional organizational, research, attention to detail, and problem-solving skills. â€¢\\tExceptional interpersonal skills and the ability to maintain working relationships with staff, City officials, government agencies, the public  â€¢\\tOutstanding written and spoken communications skills. â€¢\\tAbility to work independently as a self-motivator and to motivate others. â€¢\\tAbility to work calmly and proficiently under pressure and to adhere to deadlines. â€¢\\tMust possess strong computer technology skills including a proficiency in Microsoft Office software (Word, Excel, Access, PowerPoint) and the ability to learn new technology quickly. â€¢\\tExperience in a related field, such as compliance, oversight, monitoring, or auditing is preferred. â€¢\\tPrior experience working on City, State or Federal Grant programs is desirable.     1\n",
              "â€¢  Proven experience as an Administrative Assistant to a senior level manager, handling all aspects of office management;  â€¢ Extensive experience with office software, including Word, Excel and Office Outlook;   â€¢ Excellent organizational and verbal communication skills.  â€¢ Demonstrated ability to perform complex assignments utilizing automated office systems  â€¢ Proven ability to work effectively with agency personnel.   â€¢ Experience in a legal environment a plus.                                                                                                                                                                                                                                                                                                                                                                                                                                                                                           1\n",
              "â€¢ Strong analytical, organizational, written and oral communication skills. â€¢ Strong people skills. â€¢ Resourcefulness, ability to work independently, and as part of a team, in a fast paced environment. â€¢ Foreign language skills a plus                                                                                                                                                                                                                                                                                                                                                                                                                                                                                                                                                                                                                                                                                                                                         1\n",
              "Must be proficient in Microsoft Word, Excel, PowerPoint, Outlook and other Microsoft Office Applications.                                                                                                                                                                                                                                                                                                                                                                                                                                                                                                                                                                                                                                                                                                                                                                                                                                                                                  1\n",
              "The preferred candidate should possess child welfare experience directly working with children and youth. The candidate should have previous experience working in a juvenile justice or congregate care facility. The candidate should have experience working with children and youth who have experienced first or secondary trauma.                                                                                                                                                                                                                                                                                                                                                                                                                                                                                                                                                                                                                                                    1\n",
              "Name: Preferred Skills, Length: 1199, dtype: int64"
            ]
          },
          "metadata": {
            "tags": []
          },
          "execution_count": 175
        }
      ]
    },
    {
      "cell_type": "code",
      "metadata": {
        "id": "xDQR1QIxjEme"
      },
      "source": [
        "del x_train['next_pymnt_d']"
      ],
      "execution_count": 176,
      "outputs": []
    },
    {
      "cell_type": "code",
      "metadata": {
        "colab": {
          "base_uri": "https://localhost:8080/"
        },
        "id": "qY7a3zHOjimm",
        "outputId": "16416101-b609-4c26-ace0-20fed4762b23"
      },
      "source": [
        "b= percent_missing = x_train.isnull().sum() * 100 / len(x_train)\n",
        "print('total null values in x_train is ',b)"
      ],
      "execution_count": 177,
      "outputs": [
        {
          "output_type": "stream",
          "text": [
            "total null values in x_train is  LOAN_AMT               0.0\n",
            "Business Title         0.0\n",
            "Civil Service Title    0.0\n",
            "Division/Work Unit     0.0\n",
            "Job Description        0.0\n",
            "                      ... \n",
            "dti                    0.0\n",
            "earliest_cr_line       0.0\n",
            "last_pymnt_d           0.0\n",
            "last_pymnt_amnt        0.0\n",
            "last_credit_pull_d     0.0\n",
            "Length: 65, dtype: float64\n"
          ],
          "name": "stdout"
        }
      ]
    },
    {
      "cell_type": "code",
      "metadata": {
        "colab": {
          "base_uri": "https://localhost:8080/"
        },
        "id": "9YIvIGG-j5zN",
        "outputId": "e142c243-6a7d-432e-bdb5-24e305f13071"
      },
      "source": [
        "s = x_train.isnull().sum(axis=0)\n",
        "\n",
        "z = np.round(x_train.isnull().sum(axis=0) / x_train.fillna(0).count(axis=0),2)\n",
        "\n",
        "\n",
        "missing_df = pd.DataFrame({'missing_vals' : s,\n",
        "             'missing_ratio' : z})\n",
        "\n",
        "missing_df = missing_df[missing_df.missing_vals.ne(0)]\n",
        "print(missing_df)"
      ],
      "execution_count": 178,
      "outputs": [
        {
          "output_type": "stream",
          "text": [
            "                           missing_vals  missing_ratio\n",
            "Minimum Qual Requirements            15           0.01\n",
            "Preferred Skills                    309           0.13\n",
            "Additional Information              886           0.38\n",
            "To Apply                              1           0.00\n",
            "Hours/Shift                        1641           0.70\n",
            "Residency Requirement                 3           0.00\n",
            "Posting Date                          3           0.00\n",
            "Posting Updated                       3           0.00\n",
            "Process Date                          3           0.00\n",
            "FormalEducation                      42           0.02\n",
            "UndergradMajor                      255           0.11\n",
            "DevType                              39           0.02\n",
            "YearsCoding                           3           0.00\n",
            "YearsCodingProf                     327           0.14\n",
            "HopeFiveYears                       376           0.16\n",
            "JobSearchStatus                     349           0.15\n",
            "LastNewJob                          357           0.15\n",
            "UpdateCV                            694           0.29\n",
            "CommunicationTools                  756           0.32\n",
            "TimeFullyProductive                 730           0.31\n",
            "EducationTypes                      668           0.28\n",
            "SelfTaughtTypes                     923           0.39\n",
            "TimeAfterBootcamp                  2187           0.93\n",
            "HackathonReasons                   1708           0.72\n",
            "AgreeDisagree1                      661           0.28\n",
            "AgreeDisagree2                      661           0.28\n",
            "AgreeDisagree3                      657           0.28\n",
            "LanguageWorkedWith                  413           0.18\n",
            "LanguageDesireNextYear              549           0.23\n",
            "DatabaseWorkedWith                  662           0.28\n",
            "DatabaseDesireNextYear              910           0.39\n",
            "PlatformWorkedWith                  718           0.30\n",
            "PlatformDesireNextYear              837           0.36\n",
            "FrameworkWorkedWith                1077           0.46\n",
            "FrameworkDesireNextYear             988           0.42\n",
            "IDE                                 483           0.21\n",
            "OperatingSystem                     467           0.20\n",
            "Methodology                         780           0.33\n",
            "VersionControl                      498           0.21\n",
            "CheckInCode                         516           0.22\n",
            "AIDangerous                         757           0.32\n",
            "AIInteresting                       702           0.30\n",
            "AIResponsible                       697           0.30\n",
            "AIFuture                            603           0.26\n",
            "Age                                 746           0.32\n",
            "emp_length                           99           0.04\n",
            "title                                53           0.02\n"
          ],
          "name": "stdout"
        }
      ]
    },
    {
      "cell_type": "markdown",
      "metadata": {
        "id": "dIUmsBNJHoow"
      },
      "source": [
        "Hours/Shift contains 70% of the missing values so we shall delete this colums"
      ]
    },
    {
      "cell_type": "code",
      "metadata": {
        "colab": {
          "base_uri": "https://localhost:8080/"
        },
        "id": "XfKIXt5-fL_P",
        "outputId": "fc0402e5-c5f1-4889-80de-18227ee79a35"
      },
      "source": [
        "x_train['Hours/Shift'].value_counts()\n",
        "#np.unique(x_train['Hours/Shift'])\n"
      ],
      "execution_count": 179,
      "outputs": [
        {
          "output_type": "execute_result",
          "data": {
            "text/plain": [
              "35 Hours                                                                                                                                                                               106\n",
              "35 hours per week                                                                                                                                                                       42\n",
              "Day - Due to the necessary technical support duties of this position in a 24/7 operation, candidate may be required to work various shifts such as weekends and/or nights/evenings.     32\n",
              "35 hours per week / day                                                                                                                                                                 28\n",
              "35hrs                                                                                                                                                                                   23\n",
              "                                                                                                                                                                                      ... \n",
              "35 Hrs./Shift TBD                                                                                                                                                                        1\n",
              "Please note this is a part-time position at 35 hours a week.                                                                                                                             1\n",
              "35 Hours per Week                                                                                                                                                                        1\n",
              "Monday to Friday, 9a.m. to 5p.m.                                                                                                                                                         1\n",
              "40 hours per week / rotating shifts                                                                                                                                                      1\n",
              "Name: Hours/Shift, Length: 175, dtype: int64"
            ]
          },
          "metadata": {
            "tags": []
          },
          "execution_count": 179
        }
      ]
    },
    {
      "cell_type": "code",
      "metadata": {
        "id": "t2Ha3dddIDz8"
      },
      "source": [
        "del x_train['Hours/Shift']\n",
        "\n"
      ],
      "execution_count": 180,
      "outputs": []
    },
    {
      "cell_type": "markdown",
      "metadata": {
        "id": "9bnXQvGSlbKd"
      },
      "source": [
        "TimeafterBootcapmp has 93% missing values and HackathonReasons has 72% missing values.Lets check if we can perform any technique or simply delete them"
      ]
    },
    {
      "cell_type": "code",
      "metadata": {
        "colab": {
          "base_uri": "https://localhost:8080/",
          "height": 450
        },
        "id": "pw1zyUValmiT",
        "outputId": "eade4de7-43eb-4994-8d55-b5f2de222e35"
      },
      "source": [
        "x_train[['TimeAfterBootcamp','HackathonReasons']]\n",
        "#np.unique(df['TimeAfterBootcamp'])"
      ],
      "execution_count": 181,
      "outputs": [
        {
          "output_type": "execute_result",
          "data": {
            "text/html": [
              "<div>\n",
              "<style scoped>\n",
              "    .dataframe tbody tr th:only-of-type {\n",
              "        vertical-align: middle;\n",
              "    }\n",
              "\n",
              "    .dataframe tbody tr th {\n",
              "        vertical-align: top;\n",
              "    }\n",
              "\n",
              "    .dataframe thead th {\n",
              "        text-align: right;\n",
              "    }\n",
              "</style>\n",
              "<table border=\"1\" class=\"dataframe\">\n",
              "  <thead>\n",
              "    <tr style=\"text-align: right;\">\n",
              "      <th></th>\n",
              "      <th>TimeAfterBootcamp</th>\n",
              "      <th>HackathonReasons</th>\n",
              "    </tr>\n",
              "    <tr>\n",
              "      <th>id</th>\n",
              "      <th></th>\n",
              "      <th></th>\n",
              "    </tr>\n",
              "  </thead>\n",
              "  <tbody>\n",
              "    <tr>\n",
              "      <th>68516507</th>\n",
              "      <td>NaN</td>\n",
              "      <td>NaN</td>\n",
              "    </tr>\n",
              "    <tr>\n",
              "      <th>68475247</th>\n",
              "      <td>NaN</td>\n",
              "      <td>To improve my general technical skills or prog...</td>\n",
              "    </tr>\n",
              "    <tr>\n",
              "      <th>68506309</th>\n",
              "      <td>NaN</td>\n",
              "      <td>NaN</td>\n",
              "    </tr>\n",
              "    <tr>\n",
              "      <th>68386391</th>\n",
              "      <td>NaN</td>\n",
              "      <td>To improve my general technical skills or prog...</td>\n",
              "    </tr>\n",
              "    <tr>\n",
              "      <th>68496376</th>\n",
              "      <td>Less than a month</td>\n",
              "      <td>To improve my general technical skills or prog...</td>\n",
              "    </tr>\n",
              "    <tr>\n",
              "      <th>...</th>\n",
              "      <td>...</td>\n",
              "      <td>...</td>\n",
              "    </tr>\n",
              "    <tr>\n",
              "      <th>68475953</th>\n",
              "      <td>NaN</td>\n",
              "      <td>NaN</td>\n",
              "    </tr>\n",
              "    <tr>\n",
              "      <th>68475140</th>\n",
              "      <td>NaN</td>\n",
              "      <td>NaN</td>\n",
              "    </tr>\n",
              "    <tr>\n",
              "      <th>68613638</th>\n",
              "      <td>NaN</td>\n",
              "      <td>NaN</td>\n",
              "    </tr>\n",
              "    <tr>\n",
              "      <th>68486448</th>\n",
              "      <td>NaN</td>\n",
              "      <td>To improve my knowledge of a specific programm...</td>\n",
              "    </tr>\n",
              "    <tr>\n",
              "      <th>67478211</th>\n",
              "      <td>NaN</td>\n",
              "      <td>NaN</td>\n",
              "    </tr>\n",
              "  </tbody>\n",
              "</table>\n",
              "<p>2356 rows × 2 columns</p>\n",
              "</div>"
            ],
            "text/plain": [
              "          TimeAfterBootcamp                                   HackathonReasons\n",
              "id                                                                            \n",
              "68516507                NaN                                                NaN\n",
              "68475247                NaN  To improve my general technical skills or prog...\n",
              "68506309                NaN                                                NaN\n",
              "68386391                NaN  To improve my general technical skills or prog...\n",
              "68496376  Less than a month  To improve my general technical skills or prog...\n",
              "...                     ...                                                ...\n",
              "68475953                NaN                                                NaN\n",
              "68475140                NaN                                                NaN\n",
              "68613638                NaN                                                NaN\n",
              "68486448                NaN  To improve my knowledge of a specific programm...\n",
              "67478211                NaN                                                NaN\n",
              "\n",
              "[2356 rows x 2 columns]"
            ]
          },
          "metadata": {
            "tags": []
          },
          "execution_count": 181
        }
      ]
    },
    {
      "cell_type": "code",
      "metadata": {
        "colab": {
          "base_uri": "https://localhost:8080/"
        },
        "id": "LdaZDvwiuyQ5",
        "outputId": "0578f25a-3dd9-402e-f1cd-f93e30ae45a7"
      },
      "source": [
        "d_type=x_train['Minimum Qual Requirements']\n",
        "d_type.dtypes\n",
        "d_type"
      ],
      "execution_count": 182,
      "outputs": [
        {
          "output_type": "execute_result",
          "data": {
            "text/plain": [
              "id\n",
              "68516507    1. A masterâ€™s degree from an accredited coll...\n",
              "68475247    At least six years of full-time satisfactory e...\n",
              "68506309    1. A baccalaureate degree from an accredited c...\n",
              "68386391    1. A masterâ€™s degree from an accredited coll...\n",
              "68496376    1. Admission to the New York State Bar; and ei...\n",
              "                                  ...                        \n",
              "68475953    1. A baccalaureate degree from an accredited c...\n",
              "68475140    At least six years of full-time satisfactory e...\n",
              "68613638    1. A four-year high school diploma or its educ...\n",
              "68486448    A baccalaureate degree from an accredited coll...\n",
              "67478211    Six months of satisfactory, full-time experien...\n",
              "Name: Minimum Qual Requirements, Length: 2356, dtype: object"
            ]
          },
          "metadata": {
            "tags": []
          },
          "execution_count": 182
        }
      ]
    },
    {
      "cell_type": "code",
      "metadata": {
        "colab": {
          "base_uri": "https://localhost:8080/"
        },
        "id": "pcLyJFOJ6p83",
        "outputId": "8aea7c93-c0d1-495f-cdfd-0fcfaba0ec7b"
      },
      "source": [
        "t=x_train['Minimum Qual Requirements'] = x_train['Minimum Qual Requirements'].apply(lambda x: type(x).__name__)\n",
        "t"
      ],
      "execution_count": 183,
      "outputs": [
        {
          "output_type": "execute_result",
          "data": {
            "text/plain": [
              "id\n",
              "68516507    str\n",
              "68475247    str\n",
              "68506309    str\n",
              "68386391    str\n",
              "68496376    str\n",
              "           ... \n",
              "68475953    str\n",
              "68475140    str\n",
              "68613638    str\n",
              "68486448    str\n",
              "67478211    str\n",
              "Name: Minimum Qual Requirements, Length: 2356, dtype: object"
            ]
          },
          "metadata": {
            "tags": []
          },
          "execution_count": 183
        }
      ]
    },
    {
      "cell_type": "code",
      "metadata": {
        "colab": {
          "base_uri": "https://localhost:8080/"
        },
        "id": "syzI0nFn62gY",
        "outputId": "d099704b-405c-40f6-b7c8-02c1305403f2"
      },
      "source": [
        "t.apply(type).value_counts()"
      ],
      "execution_count": 184,
      "outputs": [
        {
          "output_type": "execute_result",
          "data": {
            "text/plain": [
              "<class 'str'>    2356\n",
              "Name: Minimum Qual Requirements, dtype: int64"
            ]
          },
          "metadata": {
            "tags": []
          },
          "execution_count": 184
        }
      ]
    },
    {
      "cell_type": "markdown",
      "metadata": {
        "id": "Dr1FDT4mq4Ux"
      },
      "source": [
        "deleting first ten columns except loan_amt"
      ]
    },
    {
      "cell_type": "code",
      "metadata": {
        "id": "aXRsRIdFsGtb"
      },
      "source": [
        "x_train.drop([\"Business Title\",\"Civil Service Title\",\"Division/Work Unit\",\"Job Description\",\"Minimum Qual Requirements\",\"Preferred Skills\",\"Additional Information\",\"To Apply\"], axis=1, inplace=True)"
      ],
      "execution_count": null,
      "outputs": []
    },
    {
      "cell_type": "code",
      "metadata": {
        "colab": {
          "base_uri": "https://localhost:8080/",
          "height": 617
        },
        "id": "q9IOV7ZxtJ3J",
        "outputId": "9761320c-c71a-449e-e7c5-e0f6c6f50cba"
      },
      "source": [
        "x_train.head()"
      ],
      "execution_count": 192,
      "outputs": [
        {
          "output_type": "execute_result",
          "data": {
            "text/html": [
              "<div>\n",
              "<style scoped>\n",
              "    .dataframe tbody tr th:only-of-type {\n",
              "        vertical-align: middle;\n",
              "    }\n",
              "\n",
              "    .dataframe tbody tr th {\n",
              "        vertical-align: top;\n",
              "    }\n",
              "\n",
              "    .dataframe thead th {\n",
              "        text-align: right;\n",
              "    }\n",
              "</style>\n",
              "<table border=\"1\" class=\"dataframe\">\n",
              "  <thead>\n",
              "    <tr style=\"text-align: right;\">\n",
              "      <th></th>\n",
              "      <th>LOAN_AMT</th>\n",
              "      <th>YearsCoding</th>\n",
              "      <th>YearsCodingProf</th>\n",
              "      <th>HopeFiveYears</th>\n",
              "      <th>JobSearchStatus</th>\n",
              "      <th>LastNewJob</th>\n",
              "      <th>UpdateCV</th>\n",
              "      <th>CommunicationTools</th>\n",
              "      <th>TimeFullyProductive</th>\n",
              "      <th>EducationTypes</th>\n",
              "      <th>SelfTaughtTypes</th>\n",
              "      <th>TimeAfterBootcamp</th>\n",
              "      <th>HackathonReasons</th>\n",
              "      <th>AgreeDisagree1</th>\n",
              "      <th>AgreeDisagree2</th>\n",
              "      <th>AgreeDisagree3</th>\n",
              "      <th>LanguageWorkedWith</th>\n",
              "      <th>LanguageDesireNextYear</th>\n",
              "      <th>DatabaseWorkedWith</th>\n",
              "      <th>DatabaseDesireNextYear</th>\n",
              "      <th>PlatformWorkedWith</th>\n",
              "      <th>PlatformDesireNextYear</th>\n",
              "      <th>FrameworkWorkedWith</th>\n",
              "      <th>FrameworkDesireNextYear</th>\n",
              "      <th>IDE</th>\n",
              "      <th>OperatingSystem</th>\n",
              "      <th>Methodology</th>\n",
              "      <th>VersionControl</th>\n",
              "      <th>CheckInCode</th>\n",
              "      <th>AIDangerous</th>\n",
              "      <th>AIInteresting</th>\n",
              "      <th>AIResponsible</th>\n",
              "      <th>AIFuture</th>\n",
              "      <th>Age</th>\n",
              "      <th>term</th>\n",
              "      <th>emp_length</th>\n",
              "      <th>loan_status</th>\n",
              "      <th>pymnt_plan</th>\n",
              "      <th>url</th>\n",
              "      <th>purpose</th>\n",
              "      <th>title</th>\n",
              "      <th>zip_code</th>\n",
              "      <th>addr_state</th>\n",
              "      <th>dti</th>\n",
              "      <th>earliest_cr_line</th>\n",
              "      <th>last_pymnt_d</th>\n",
              "      <th>last_pymnt_amnt</th>\n",
              "      <th>last_credit_pull_d</th>\n",
              "    </tr>\n",
              "    <tr>\n",
              "      <th>id</th>\n",
              "      <th></th>\n",
              "      <th></th>\n",
              "      <th></th>\n",
              "      <th></th>\n",
              "      <th></th>\n",
              "      <th></th>\n",
              "      <th></th>\n",
              "      <th></th>\n",
              "      <th></th>\n",
              "      <th></th>\n",
              "      <th></th>\n",
              "      <th></th>\n",
              "      <th></th>\n",
              "      <th></th>\n",
              "      <th></th>\n",
              "      <th></th>\n",
              "      <th></th>\n",
              "      <th></th>\n",
              "      <th></th>\n",
              "      <th></th>\n",
              "      <th></th>\n",
              "      <th></th>\n",
              "      <th></th>\n",
              "      <th></th>\n",
              "      <th></th>\n",
              "      <th></th>\n",
              "      <th></th>\n",
              "      <th></th>\n",
              "      <th></th>\n",
              "      <th></th>\n",
              "      <th></th>\n",
              "      <th></th>\n",
              "      <th></th>\n",
              "      <th></th>\n",
              "      <th></th>\n",
              "      <th></th>\n",
              "      <th></th>\n",
              "      <th></th>\n",
              "      <th></th>\n",
              "      <th></th>\n",
              "      <th></th>\n",
              "      <th></th>\n",
              "      <th></th>\n",
              "      <th></th>\n",
              "      <th></th>\n",
              "      <th></th>\n",
              "      <th></th>\n",
              "      <th></th>\n",
              "    </tr>\n",
              "  </thead>\n",
              "  <tbody>\n",
              "    <tr>\n",
              "      <th>68516507</th>\n",
              "      <td>14000</td>\n",
              "      <td>3-5 years</td>\n",
              "      <td>3-5 years</td>\n",
              "      <td>Working in a different or more specialized tec...</td>\n",
              "      <td>I’m not actively looking, but I am open to new...</td>\n",
              "      <td>More than 4 years ago</td>\n",
              "      <td>I received negative feedback on my job perform...</td>\n",
              "      <td>Confluence</td>\n",
              "      <td>One to three months</td>\n",
              "      <td>Received on-the-job training in software devel...</td>\n",
              "      <td>The official documentation and/or standards fo...</td>\n",
              "      <td>NaN</td>\n",
              "      <td>NaN</td>\n",
              "      <td>Agree</td>\n",
              "      <td>Agree</td>\n",
              "      <td>Disagree</td>\n",
              "      <td>C#;JavaScript;SQL;HTML;CSS</td>\n",
              "      <td>C#;JavaScript;Objective-C;SQL;HTML;CSS</td>\n",
              "      <td>SQL Server</td>\n",
              "      <td>SQL Server;MySQL;PostgreSQL;Microsoft Azure (T...</td>\n",
              "      <td>Windows Desktop or Server</td>\n",
              "      <td>Android;iOS;SharePoint</td>\n",
              "      <td>NaN</td>\n",
              "      <td>Angular;.NET Core</td>\n",
              "      <td>Sublime Text;Visual Studio</td>\n",
              "      <td>Windows</td>\n",
              "      <td>Scrum</td>\n",
              "      <td>NaN</td>\n",
              "      <td>Once a day</td>\n",
              "      <td>Increasing automation of jobs</td>\n",
              "      <td>Evolving definitions of \"fairness\" in algorith...</td>\n",
              "      <td>A governmental or other regulatory body</td>\n",
              "      <td>I'm excited about the possibilities more than ...</td>\n",
              "      <td>25 - 34 years old</td>\n",
              "      <td>36 months</td>\n",
              "      <td>4 years</td>\n",
              "      <td>Fully Paid</td>\n",
              "      <td>n</td>\n",
              "      <td>https://lendingclub.com/browse/loanDetail.acti...</td>\n",
              "      <td>medical</td>\n",
              "      <td>Medical expenses</td>\n",
              "      <td>439xx</td>\n",
              "      <td>OH</td>\n",
              "      <td>15.97</td>\n",
              "      <td>Dec-97</td>\n",
              "      <td>19-Jan</td>\n",
              "      <td>450.79</td>\n",
              "      <td>19-Jan</td>\n",
              "    </tr>\n",
              "    <tr>\n",
              "      <th>68475247</th>\n",
              "      <td>5000</td>\n",
              "      <td>18-20 years</td>\n",
              "      <td>6-8 years</td>\n",
              "      <td>Doing the same work</td>\n",
              "      <td>I am actively looking for a job</td>\n",
              "      <td>More than 4 years ago</td>\n",
              "      <td>I had a negative experience or interaction at ...</td>\n",
              "      <td>Jira;Slack;Other wiki tool (Github, Google Sit...</td>\n",
              "      <td>Less than a month</td>\n",
              "      <td>Taught yourself a new language, framework, or ...</td>\n",
              "      <td>The official documentation and/or standards fo...</td>\n",
              "      <td>NaN</td>\n",
              "      <td>To improve my general technical skills or prog...</td>\n",
              "      <td>Disagree</td>\n",
              "      <td>Agree</td>\n",
              "      <td>Agree</td>\n",
              "      <td>Java;JavaScript;SQL;HTML;CSS</td>\n",
              "      <td>Java;JavaScript;Python;HTML;CSS</td>\n",
              "      <td>MySQL</td>\n",
              "      <td>NaN</td>\n",
              "      <td>Firebase</td>\n",
              "      <td>Raspberry Pi;Firebase</td>\n",
              "      <td>Node.js;React</td>\n",
              "      <td>Node.js;React</td>\n",
              "      <td>Eclipse;Notepad++;Vim;Visual Studio Code</td>\n",
              "      <td>Windows</td>\n",
              "      <td>Agile;Kanban;Pair programming;Scrum</td>\n",
              "      <td>Subversion;Copying and pasting files to networ...</td>\n",
              "      <td>Multiple times per day</td>\n",
              "      <td>Artificial intelligence surpassing human intel...</td>\n",
              "      <td>Increasing automation of jobs</td>\n",
              "      <td>A governmental or other regulatory body</td>\n",
              "      <td>I'm worried about the dangers more than I'm ex...</td>\n",
              "      <td>25 - 34 years old</td>\n",
              "      <td>36 months</td>\n",
              "      <td>8 years</td>\n",
              "      <td>Fully Paid</td>\n",
              "      <td>n</td>\n",
              "      <td>https://lendingclub.com/browse/loanDetail.acti...</td>\n",
              "      <td>car</td>\n",
              "      <td>Car financing</td>\n",
              "      <td>380xx</td>\n",
              "      <td>TN</td>\n",
              "      <td>16.17</td>\n",
              "      <td>7-Aug</td>\n",
              "      <td>17-Mar</td>\n",
              "      <td>3.66</td>\n",
              "      <td>17-Feb</td>\n",
              "    </tr>\n",
              "    <tr>\n",
              "      <th>68506309</th>\n",
              "      <td>21000</td>\n",
              "      <td>0-2 years</td>\n",
              "      <td>0-2 years</td>\n",
              "      <td>Working as a founder or co-founder of my own c...</td>\n",
              "      <td>I am actively looking for a job</td>\n",
              "      <td>Between 1 and 2 years ago</td>\n",
              "      <td>NaN</td>\n",
              "      <td>Facebook;Google Hangouts/Chat</td>\n",
              "      <td>Less than a month</td>\n",
              "      <td>Taken an online course in programming or softw...</td>\n",
              "      <td>NaN</td>\n",
              "      <td>NaN</td>\n",
              "      <td>NaN</td>\n",
              "      <td>Disagree</td>\n",
              "      <td>Disagree</td>\n",
              "      <td>Disagree</td>\n",
              "      <td>Assembly;C;C++;C#;Java;JavaScript;PHP;SQL;VB.N...</td>\n",
              "      <td>C#;Java;JavaScript;PHP;SQL;VB.NET;HTML;CSS</td>\n",
              "      <td>SQL Server;MySQL;SQLite;Oracle;MariaDB</td>\n",
              "      <td>SQL Server;MySQL;SQLite;Oracle;MariaDB</td>\n",
              "      <td>Android;Arduino;ESP8266;WordPress</td>\n",
              "      <td>Android;Apple Watch or Apple TV;Arduino;ESP826...</td>\n",
              "      <td>.NET Core</td>\n",
              "      <td>Angular;.NET Core;Node.js;React;Xamarin</td>\n",
              "      <td>Android Studio;Atom;NetBeans;Notepad++;Sublime...</td>\n",
              "      <td>Windows</td>\n",
              "      <td>NaN</td>\n",
              "      <td>I don't use version control</td>\n",
              "      <td>NaN</td>\n",
              "      <td>NaN</td>\n",
              "      <td>Artificial intelligence surpassing human intel...</td>\n",
              "      <td>Nobody</td>\n",
              "      <td>I'm excited about the possibilities more than ...</td>\n",
              "      <td>18 - 24 years old</td>\n",
              "      <td>60 months</td>\n",
              "      <td>10+ years</td>\n",
              "      <td>Current</td>\n",
              "      <td>n</td>\n",
              "      <td>https://lendingclub.com/browse/loanDetail.acti...</td>\n",
              "      <td>debt_consolidation</td>\n",
              "      <td>Debt consolidation</td>\n",
              "      <td>074xx</td>\n",
              "      <td>NJ</td>\n",
              "      <td>28.41</td>\n",
              "      <td>Mar-86</td>\n",
              "      <td>19-Mar</td>\n",
              "      <td>488.53</td>\n",
              "      <td>19-Mar</td>\n",
              "    </tr>\n",
              "    <tr>\n",
              "      <th>68386391</th>\n",
              "      <td>6400</td>\n",
              "      <td>0-2 years</td>\n",
              "      <td>0-2 years</td>\n",
              "      <td>Working in a different or more specialized tec...</td>\n",
              "      <td>I’m not actively looking, but I am open to new...</td>\n",
              "      <td>Less than a year ago</td>\n",
              "      <td>A recruiter contacted me</td>\n",
              "      <td>Slack;Trello</td>\n",
              "      <td>One to three months</td>\n",
              "      <td>Taken a part-time in-person course in programm...</td>\n",
              "      <td>Questions &amp; answers on Stack Overflow;Online d...</td>\n",
              "      <td>NaN</td>\n",
              "      <td>To improve my general technical skills or prog...</td>\n",
              "      <td>Agree</td>\n",
              "      <td>Disagree</td>\n",
              "      <td>Agree</td>\n",
              "      <td>C#;JavaScript;PHP;SQL;HTML;CSS</td>\n",
              "      <td>Python;Swift;TypeScript</td>\n",
              "      <td>MySQL;Microsoft Azure (Tables, CosmosDB, SQL, ...</td>\n",
              "      <td>MongoDB</td>\n",
              "      <td>Azure;Windows Phone;WordPress</td>\n",
              "      <td>SharePoint</td>\n",
              "      <td>Cordova;Xamarin</td>\n",
              "      <td>Angular;.NET Core;React</td>\n",
              "      <td>Notepad++;Visual Studio;Visual Studio Code</td>\n",
              "      <td>Windows</td>\n",
              "      <td>Kanban;Pair programming;Scrum</td>\n",
              "      <td>Git;Team Foundation Version Control</td>\n",
              "      <td>Multiple times per day</td>\n",
              "      <td>Evolving definitions of \"fairness\" in algorith...</td>\n",
              "      <td>Algorithms making important decisions</td>\n",
              "      <td>The developers or the people creating the AI</td>\n",
              "      <td>I'm excited about the possibilities more than ...</td>\n",
              "      <td>18 - 24 years old</td>\n",
              "      <td>36 months</td>\n",
              "      <td>10+ years</td>\n",
              "      <td>Charged Off</td>\n",
              "      <td>n</td>\n",
              "      <td>https://lendingclub.com/browse/loanDetail.acti...</td>\n",
              "      <td>debt_consolidation</td>\n",
              "      <td>Debt consolidation</td>\n",
              "      <td>021xx</td>\n",
              "      <td>MA</td>\n",
              "      <td>27.44</td>\n",
              "      <td>1-Jun</td>\n",
              "      <td>16-Nov</td>\n",
              "      <td>217.01</td>\n",
              "      <td>17-Apr</td>\n",
              "    </tr>\n",
              "    <tr>\n",
              "      <th>68496376</th>\n",
              "      <td>8000</td>\n",
              "      <td>3-5 years</td>\n",
              "      <td>3-5 years</td>\n",
              "      <td>Working as a product manager or project manager</td>\n",
              "      <td>I’m not actively looking, but I am open to new...</td>\n",
              "      <td>Less than a year ago</td>\n",
              "      <td>A recruiter contacted me</td>\n",
              "      <td>Facebook;Slack;Other chat system (IRC, proprie...</td>\n",
              "      <td>Three to six months</td>\n",
              "      <td>Participated in a full-time developer training...</td>\n",
              "      <td>The official documentation and/or standards fo...</td>\n",
              "      <td>Less than a month</td>\n",
              "      <td>To improve my general technical skills or prog...</td>\n",
              "      <td>Neither Agree nor Disagree</td>\n",
              "      <td>Neither Agree nor Disagree</td>\n",
              "      <td>Disagree</td>\n",
              "      <td>JavaScript;PHP;SQL;HTML;CSS;Bash/Shell</td>\n",
              "      <td>C#;Java;Python;Ruby;TypeScript</td>\n",
              "      <td>SQL Server;MySQL;PostgreSQL</td>\n",
              "      <td>MongoDB;Redis;Memcached;Elasticsearch</td>\n",
              "      <td>Heroku;Linux;Mac OS;Windows Desktop or Server;...</td>\n",
              "      <td>Android;Arduino;AWS;Drupal;Gaming console;Rasp...</td>\n",
              "      <td>NaN</td>\n",
              "      <td>Angular;Django;Hadoop;Node.js;React;Cordova;Sp...</td>\n",
              "      <td>IntelliJ;NetBeans;Notepad++;PHPStorm;Sublime Text</td>\n",
              "      <td>Windows</td>\n",
              "      <td>Agile;Kanban;Scrum</td>\n",
              "      <td>Git</td>\n",
              "      <td>Multiple times per day</td>\n",
              "      <td>NaN</td>\n",
              "      <td>NaN</td>\n",
              "      <td>The developers or the people creating the AI</td>\n",
              "      <td>I'm excited about the possibilities more than ...</td>\n",
              "      <td>25 - 34 years old</td>\n",
              "      <td>36 months</td>\n",
              "      <td>3 years</td>\n",
              "      <td>Fully Paid</td>\n",
              "      <td>n</td>\n",
              "      <td>https://lendingclub.com/browse/loanDetail.acti...</td>\n",
              "      <td>credit_card</td>\n",
              "      <td>Credit card refinancing</td>\n",
              "      <td>112xx</td>\n",
              "      <td>NY</td>\n",
              "      <td>29.20</td>\n",
              "      <td>Aug-99</td>\n",
              "      <td>19-Jan</td>\n",
              "      <td>254.68</td>\n",
              "      <td>19-Feb</td>\n",
              "    </tr>\n",
              "  </tbody>\n",
              "</table>\n",
              "</div>"
            ],
            "text/plain": [
              "          LOAN_AMT  YearsCoding  ... last_pymnt_amnt last_credit_pull_d\n",
              "id                               ...                                   \n",
              "68516507     14000    3-5 years  ...          450.79             19-Jan\n",
              "68475247      5000  18-20 years  ...            3.66             17-Feb\n",
              "68506309     21000    0-2 years  ...          488.53             19-Mar\n",
              "68386391      6400    0-2 years  ...          217.01             17-Apr\n",
              "68496376      8000    3-5 years  ...          254.68             19-Feb\n",
              "\n",
              "[5 rows x 48 columns]"
            ]
          },
          "metadata": {
            "tags": []
          },
          "execution_count": 192
        }
      ]
    },
    {
      "cell_type": "code",
      "metadata": {
        "colab": {
          "base_uri": "https://localhost:8080/",
          "height": 309
        },
        "id": "iPrpLgc9Ipim",
        "outputId": "a75bf781-e310-4ddf-90e6-ada301446f46"
      },
      "source": [
        "x_train[\"YearsCoding\"].min()"
      ],
      "execution_count": 195,
      "outputs": [
        {
          "output_type": "error",
          "ename": "TypeError",
          "evalue": "ignored",
          "traceback": [
            "\u001b[0;31m---------------------------------------------------------------------------\u001b[0m",
            "\u001b[0;31mTypeError\u001b[0m                                 Traceback (most recent call last)",
            "\u001b[0;32m<ipython-input-195-595223a8ec73>\u001b[0m in \u001b[0;36m<module>\u001b[0;34m()\u001b[0m\n\u001b[0;32m----> 1\u001b[0;31m \u001b[0mx_train\u001b[0m\u001b[0;34m[\u001b[0m\u001b[0;34m\"YearsCoding\"\u001b[0m\u001b[0;34m]\u001b[0m\u001b[0;34m.\u001b[0m\u001b[0mmin\u001b[0m\u001b[0;34m(\u001b[0m\u001b[0;34m)\u001b[0m\u001b[0;34m\u001b[0m\u001b[0;34m\u001b[0m\u001b[0m\n\u001b[0m",
            "\u001b[0;32m/usr/local/lib/python3.7/dist-packages/pandas/core/generic.py\u001b[0m in \u001b[0;36mstat_func\u001b[0;34m(self, axis, skipna, level, numeric_only, **kwargs)\u001b[0m\n\u001b[1;32m  11473\u001b[0m             \u001b[0;32mreturn\u001b[0m \u001b[0mself\u001b[0m\u001b[0;34m.\u001b[0m\u001b[0m_agg_by_level\u001b[0m\u001b[0;34m(\u001b[0m\u001b[0mname\u001b[0m\u001b[0;34m,\u001b[0m \u001b[0maxis\u001b[0m\u001b[0;34m=\u001b[0m\u001b[0maxis\u001b[0m\u001b[0;34m,\u001b[0m \u001b[0mlevel\u001b[0m\u001b[0;34m=\u001b[0m\u001b[0mlevel\u001b[0m\u001b[0;34m,\u001b[0m \u001b[0mskipna\u001b[0m\u001b[0;34m=\u001b[0m\u001b[0mskipna\u001b[0m\u001b[0;34m)\u001b[0m\u001b[0;34m\u001b[0m\u001b[0;34m\u001b[0m\u001b[0m\n\u001b[1;32m  11474\u001b[0m         return self._reduce(\n\u001b[0;32m> 11475\u001b[0;31m             \u001b[0mfunc\u001b[0m\u001b[0;34m,\u001b[0m \u001b[0mname\u001b[0m\u001b[0;34m=\u001b[0m\u001b[0mname\u001b[0m\u001b[0;34m,\u001b[0m \u001b[0maxis\u001b[0m\u001b[0;34m=\u001b[0m\u001b[0maxis\u001b[0m\u001b[0;34m,\u001b[0m \u001b[0mskipna\u001b[0m\u001b[0;34m=\u001b[0m\u001b[0mskipna\u001b[0m\u001b[0;34m,\u001b[0m \u001b[0mnumeric_only\u001b[0m\u001b[0;34m=\u001b[0m\u001b[0mnumeric_only\u001b[0m\u001b[0;34m\u001b[0m\u001b[0;34m\u001b[0m\u001b[0m\n\u001b[0m\u001b[1;32m  11476\u001b[0m         )\n\u001b[1;32m  11477\u001b[0m \u001b[0;34m\u001b[0m\u001b[0m\n",
            "\u001b[0;32m/usr/local/lib/python3.7/dist-packages/pandas/core/series.py\u001b[0m in \u001b[0;36m_reduce\u001b[0;34m(self, op, name, axis, skipna, numeric_only, filter_type, **kwds)\u001b[0m\n\u001b[1;32m   4247\u001b[0m                 )\n\u001b[1;32m   4248\u001b[0m             \u001b[0;32mwith\u001b[0m \u001b[0mnp\u001b[0m\u001b[0;34m.\u001b[0m\u001b[0merrstate\u001b[0m\u001b[0;34m(\u001b[0m\u001b[0mall\u001b[0m\u001b[0;34m=\u001b[0m\u001b[0;34m\"ignore\"\u001b[0m\u001b[0;34m)\u001b[0m\u001b[0;34m:\u001b[0m\u001b[0;34m\u001b[0m\u001b[0;34m\u001b[0m\u001b[0m\n\u001b[0;32m-> 4249\u001b[0;31m                 \u001b[0;32mreturn\u001b[0m \u001b[0mop\u001b[0m\u001b[0;34m(\u001b[0m\u001b[0mdelegate\u001b[0m\u001b[0;34m,\u001b[0m \u001b[0mskipna\u001b[0m\u001b[0;34m=\u001b[0m\u001b[0mskipna\u001b[0m\u001b[0;34m,\u001b[0m \u001b[0;34m**\u001b[0m\u001b[0mkwds\u001b[0m\u001b[0;34m)\u001b[0m\u001b[0;34m\u001b[0m\u001b[0;34m\u001b[0m\u001b[0m\n\u001b[0m\u001b[1;32m   4250\u001b[0m \u001b[0;34m\u001b[0m\u001b[0m\n\u001b[1;32m   4251\u001b[0m     \u001b[0;32mdef\u001b[0m \u001b[0m_reindex_indexer\u001b[0m\u001b[0;34m(\u001b[0m\u001b[0mself\u001b[0m\u001b[0;34m,\u001b[0m \u001b[0mnew_index\u001b[0m\u001b[0;34m,\u001b[0m \u001b[0mindexer\u001b[0m\u001b[0;34m,\u001b[0m \u001b[0mcopy\u001b[0m\u001b[0;34m)\u001b[0m\u001b[0;34m:\u001b[0m\u001b[0;34m\u001b[0m\u001b[0;34m\u001b[0m\u001b[0m\n",
            "\u001b[0;32m/usr/local/lib/python3.7/dist-packages/pandas/core/nanops.py\u001b[0m in \u001b[0;36mf\u001b[0;34m(values, axis, skipna, **kwds)\u001b[0m\n\u001b[1;32m    127\u001b[0m                     \u001b[0mresult\u001b[0m \u001b[0;34m=\u001b[0m \u001b[0malt\u001b[0m\u001b[0;34m(\u001b[0m\u001b[0mvalues\u001b[0m\u001b[0;34m,\u001b[0m \u001b[0maxis\u001b[0m\u001b[0;34m=\u001b[0m\u001b[0maxis\u001b[0m\u001b[0;34m,\u001b[0m \u001b[0mskipna\u001b[0m\u001b[0;34m=\u001b[0m\u001b[0mskipna\u001b[0m\u001b[0;34m,\u001b[0m \u001b[0;34m**\u001b[0m\u001b[0mkwds\u001b[0m\u001b[0;34m)\u001b[0m\u001b[0;34m\u001b[0m\u001b[0;34m\u001b[0m\u001b[0m\n\u001b[1;32m    128\u001b[0m             \u001b[0;32melse\u001b[0m\u001b[0;34m:\u001b[0m\u001b[0;34m\u001b[0m\u001b[0;34m\u001b[0m\u001b[0m\n\u001b[0;32m--> 129\u001b[0;31m                 \u001b[0mresult\u001b[0m \u001b[0;34m=\u001b[0m \u001b[0malt\u001b[0m\u001b[0;34m(\u001b[0m\u001b[0mvalues\u001b[0m\u001b[0;34m,\u001b[0m \u001b[0maxis\u001b[0m\u001b[0;34m=\u001b[0m\u001b[0maxis\u001b[0m\u001b[0;34m,\u001b[0m \u001b[0mskipna\u001b[0m\u001b[0;34m=\u001b[0m\u001b[0mskipna\u001b[0m\u001b[0;34m,\u001b[0m \u001b[0;34m**\u001b[0m\u001b[0mkwds\u001b[0m\u001b[0;34m)\u001b[0m\u001b[0;34m\u001b[0m\u001b[0;34m\u001b[0m\u001b[0m\n\u001b[0m\u001b[1;32m    130\u001b[0m \u001b[0;34m\u001b[0m\u001b[0m\n\u001b[1;32m    131\u001b[0m             \u001b[0;32mreturn\u001b[0m \u001b[0mresult\u001b[0m\u001b[0;34m\u001b[0m\u001b[0;34m\u001b[0m\u001b[0m\n",
            "\u001b[0;32m/usr/local/lib/python3.7/dist-packages/pandas/core/nanops.py\u001b[0m in \u001b[0;36mreduction\u001b[0;34m(values, axis, skipna, mask)\u001b[0m\n\u001b[1;32m    871\u001b[0m                 \u001b[0mresult\u001b[0m \u001b[0;34m=\u001b[0m \u001b[0mnp\u001b[0m\u001b[0;34m.\u001b[0m\u001b[0mnan\u001b[0m\u001b[0;34m\u001b[0m\u001b[0;34m\u001b[0m\u001b[0m\n\u001b[1;32m    872\u001b[0m         \u001b[0;32melse\u001b[0m\u001b[0;34m:\u001b[0m\u001b[0;34m\u001b[0m\u001b[0;34m\u001b[0m\u001b[0m\n\u001b[0;32m--> 873\u001b[0;31m             \u001b[0mresult\u001b[0m \u001b[0;34m=\u001b[0m \u001b[0mgetattr\u001b[0m\u001b[0;34m(\u001b[0m\u001b[0mvalues\u001b[0m\u001b[0;34m,\u001b[0m \u001b[0mmeth\u001b[0m\u001b[0;34m)\u001b[0m\u001b[0;34m(\u001b[0m\u001b[0maxis\u001b[0m\u001b[0;34m)\u001b[0m\u001b[0;34m\u001b[0m\u001b[0;34m\u001b[0m\u001b[0m\n\u001b[0m\u001b[1;32m    874\u001b[0m \u001b[0;34m\u001b[0m\u001b[0m\n\u001b[1;32m    875\u001b[0m         \u001b[0mresult\u001b[0m \u001b[0;34m=\u001b[0m \u001b[0m_wrap_results\u001b[0m\u001b[0;34m(\u001b[0m\u001b[0mresult\u001b[0m\u001b[0;34m,\u001b[0m \u001b[0mdtype\u001b[0m\u001b[0;34m,\u001b[0m \u001b[0mfill_value\u001b[0m\u001b[0;34m)\u001b[0m\u001b[0;34m\u001b[0m\u001b[0;34m\u001b[0m\u001b[0m\n",
            "\u001b[0;32m/usr/local/lib/python3.7/dist-packages/numpy/core/_methods.py\u001b[0m in \u001b[0;36m_amin\u001b[0;34m(a, axis, out, keepdims, initial, where)\u001b[0m\n\u001b[1;32m     41\u001b[0m def _amin(a, axis=None, out=None, keepdims=False,\n\u001b[1;32m     42\u001b[0m           initial=_NoValue, where=True):\n\u001b[0;32m---> 43\u001b[0;31m     \u001b[0;32mreturn\u001b[0m \u001b[0mumr_minimum\u001b[0m\u001b[0;34m(\u001b[0m\u001b[0ma\u001b[0m\u001b[0;34m,\u001b[0m \u001b[0maxis\u001b[0m\u001b[0;34m,\u001b[0m \u001b[0;32mNone\u001b[0m\u001b[0;34m,\u001b[0m \u001b[0mout\u001b[0m\u001b[0;34m,\u001b[0m \u001b[0mkeepdims\u001b[0m\u001b[0;34m,\u001b[0m \u001b[0minitial\u001b[0m\u001b[0;34m,\u001b[0m \u001b[0mwhere\u001b[0m\u001b[0;34m)\u001b[0m\u001b[0;34m\u001b[0m\u001b[0;34m\u001b[0m\u001b[0m\n\u001b[0m\u001b[1;32m     44\u001b[0m \u001b[0;34m\u001b[0m\u001b[0m\n\u001b[1;32m     45\u001b[0m def _sum(a, axis=None, dtype=None, out=None, keepdims=False,\n",
            "\u001b[0;31mTypeError\u001b[0m: '<=' not supported between instances of 'str' and 'float'"
          ]
        }
      ]
    },
    {
      "cell_type": "markdown",
      "metadata": {
        "id": "VA13b5sMEl9t"
      },
      "source": [
        "**LOAN_AMT-shows the amount of loan and looks important\t**\n",
        "Business Title-can be used to group categories of people based on title-(otpional feature)\t\n",
        "Civil Service Title- repetative column compared to buisness title(REDUNDANT)\t\n",
        "Division/Work Unit-this has 640 types of divisons/work. We cannot use this so we will remove this column aswell.\t\n",
        "Job Description- JD is redundant\t\n",
        "Minimum Qual Requirements\thas (str 2341,float 15) which really doesnt give us significant information.\n",
        "Preferred Skills has string values which cannot be used unless we are focusing on nlp models so lets ignore this\t\n",
        "Additional \n",
        "Information\t: This column is redundant\n",
        "To Apply\t: This column doesnt give much insight\n",
        "Hours/Shift: It has 70% missing data so its better to remove this column."
      ]
    },
    {
      "cell_type": "code",
      "metadata": {
        "id": "5qF3C5QAv_0Y"
      },
      "source": [
        "x_train.drop([\"Residency Requirement\",\"Posting Date\",\"Posting Updated\",\"Process Date\",\"FormalEducation\",\"UndergradMajor\",\"CompanySize\",\"DevType\"], axis=1, inplace=True)\n"
      ],
      "execution_count": null,
      "outputs": []
    },
    {
      "cell_type": "code",
      "metadata": {
        "id": "tVrcdVSCwUei"
      },
      "source": [
        "x_train.head()"
      ],
      "execution_count": null,
      "outputs": []
    },
    {
      "cell_type": "markdown",
      "metadata": {
        "id": "RDqVYLHcA_AX"
      },
      "source": [
        "YearsCoding: This column represents the years of coding by an individual. If its converted into usable quantitave numericals,it can be used as a feature.(Potential Feature) \t\n",
        "YearsCodingProf: This column referes to professional coding.\t\n",
        "HopeFiveYears\t\n",
        "JobSearchStatus\t\n",
        "LastNewJob\t\n",
        "UpdateCV\t\n",
        "CommunicationTools\t\n",
        "TimeFullyProductive\t\n",
        "EducationTypes\t\n",
        "SelfTaughtTypes\t"
      ]
    },
    {
      "cell_type": "markdown",
      "metadata": {
        "id": "_o8sSG7TQIxd"
      },
      "source": [
        "https://docs.google.com/document/d/1gvi7wJdzLy057UgYioD1TuFWqtd9OKBBHdoG_pBpX5I/edit"
      ]
    },
    {
      "cell_type": "code",
      "metadata": {
        "id": "0xUVvwHegyVV"
      },
      "source": [
        "c=y_train.shape\n",
        "print('the shape of x_train is ',c)\n",
        "\n",
        "d=y_train.isnull().sum()\n",
        "print('total null values in x_train is ',d)"
      ],
      "execution_count": null,
      "outputs": []
    }
  ]
}